{
 "cells": [
  {
   "cell_type": "code",
   "execution_count": 1,
   "id": "454f2653",
   "metadata": {
    "_cell_guid": "b1076dfc-b9ad-4769-8c92-a6c4dae69d19",
    "_uuid": "8f2839f25d086af736a60e9eeb907d3b93b6e0e5",
    "execution": {
     "iopub.execute_input": "2024-07-05T17:03:42.105587Z",
     "iopub.status.busy": "2024-07-05T17:03:42.104556Z",
     "iopub.status.idle": "2024-07-05T17:03:42.872922Z",
     "shell.execute_reply": "2024-07-05T17:03:42.871635Z"
    },
    "papermill": {
     "duration": 0.787701,
     "end_time": "2024-07-05T17:03:42.876433",
     "exception": false,
     "start_time": "2024-07-05T17:03:42.088732",
     "status": "completed"
    },
    "tags": []
   },
   "outputs": [
    {
     "name": "stdout",
     "output_type": "stream",
     "text": [
      "/kaggle/input/anaemia-prediction/output.csv\n"
     ]
    }
   ],
   "source": [
    "# This Python 3 environment comes with many helpful analytics libraries installed\n",
    "# It is defined by the kaggle/python Docker image: https://github.com/kaggle/docker-python\n",
    "# For example, here's several helpful packages to load\n",
    "\n",
    "import numpy as np # linear algebra\n",
    "import pandas as pd # data processing, CSV file I/O (e.g. pd.read_csv)\n",
    "\n",
    "# Input data files are available in the read-only \"../input/\" directory\n",
    "# For example, running this (by clicking run or pressing Shift+Enter) will list all files under the input directory\n",
    "\n",
    "import os\n",
    "for dirname, _, filenames in os.walk('/kaggle/input'):\n",
    "    for filename in filenames:\n",
    "        print(os.path.join(dirname, filename))\n",
    "\n",
    "# You can write up to 20GB to the current directory (/kaggle/working/) that gets preserved as output when you create a version using \"Save & Run All\" \n",
    "# You can also write temporary files to /kaggle/temp/, but they won't be saved outside of the current session"
   ]
  },
  {
   "cell_type": "code",
   "execution_count": 2,
   "id": "fbaf0fa0",
   "metadata": {
    "execution": {
     "iopub.execute_input": "2024-07-05T17:03:42.907238Z",
     "iopub.status.busy": "2024-07-05T17:03:42.906243Z",
     "iopub.status.idle": "2024-07-05T17:03:44.068184Z",
     "shell.execute_reply": "2024-07-05T17:03:44.067023Z"
    },
    "papermill": {
     "duration": 1.179187,
     "end_time": "2024-07-05T17:03:44.070750",
     "exception": false,
     "start_time": "2024-07-05T17:03:42.891563",
     "status": "completed"
    },
    "tags": []
   },
   "outputs": [],
   "source": [
    "import pandas as pd\n",
    "import numpy as np\n",
    "import seaborn as sns \n",
    "import matplotlib.pyplot as plt "
   ]
  },
  {
   "cell_type": "code",
   "execution_count": 3,
   "id": "b7d061f9",
   "metadata": {
    "execution": {
     "iopub.execute_input": "2024-07-05T17:03:44.100009Z",
     "iopub.status.busy": "2024-07-05T17:03:44.099657Z",
     "iopub.status.idle": "2024-07-05T17:03:44.143049Z",
     "shell.execute_reply": "2024-07-05T17:03:44.142054Z"
    },
    "papermill": {
     "duration": 0.060465,
     "end_time": "2024-07-05T17:03:44.145195",
     "exception": false,
     "start_time": "2024-07-05T17:03:44.084730",
     "status": "completed"
    },
    "tags": []
   },
   "outputs": [
    {
     "data": {
      "text/html": [
       "<div>\n",
       "<style scoped>\n",
       "    .dataframe tbody tr th:only-of-type {\n",
       "        vertical-align: middle;\n",
       "    }\n",
       "\n",
       "    .dataframe tbody tr th {\n",
       "        vertical-align: top;\n",
       "    }\n",
       "\n",
       "    .dataframe thead th {\n",
       "        text-align: right;\n",
       "    }\n",
       "</style>\n",
       "<table border=\"1\" class=\"dataframe\">\n",
       "  <thead>\n",
       "    <tr style=\"text-align: right;\">\n",
       "      <th></th>\n",
       "      <th>Number</th>\n",
       "      <th>Sex</th>\n",
       "      <th>%Red Pixel</th>\n",
       "      <th>%Green pixel</th>\n",
       "      <th>%Blue pixel</th>\n",
       "      <th>Hb</th>\n",
       "      <th>Anaemic</th>\n",
       "    </tr>\n",
       "  </thead>\n",
       "  <tbody>\n",
       "    <tr>\n",
       "      <th>0</th>\n",
       "      <td>1</td>\n",
       "      <td>M</td>\n",
       "      <td>43.2555</td>\n",
       "      <td>30.8421</td>\n",
       "      <td>25.9025</td>\n",
       "      <td>6.3</td>\n",
       "      <td>Yes</td>\n",
       "    </tr>\n",
       "    <tr>\n",
       "      <th>1</th>\n",
       "      <td>2</td>\n",
       "      <td>F</td>\n",
       "      <td>45.6033</td>\n",
       "      <td>28.1900</td>\n",
       "      <td>26.2067</td>\n",
       "      <td>13.5</td>\n",
       "      <td>No</td>\n",
       "    </tr>\n",
       "    <tr>\n",
       "      <th>2</th>\n",
       "      <td>3</td>\n",
       "      <td>F</td>\n",
       "      <td>45.0107</td>\n",
       "      <td>28.9677</td>\n",
       "      <td>26.0215</td>\n",
       "      <td>11.7</td>\n",
       "      <td>No</td>\n",
       "    </tr>\n",
       "    <tr>\n",
       "      <th>3</th>\n",
       "      <td>4</td>\n",
       "      <td>F</td>\n",
       "      <td>44.5398</td>\n",
       "      <td>28.9899</td>\n",
       "      <td>26.4703</td>\n",
       "      <td>13.5</td>\n",
       "      <td>No</td>\n",
       "    </tr>\n",
       "    <tr>\n",
       "      <th>4</th>\n",
       "      <td>5</td>\n",
       "      <td>M</td>\n",
       "      <td>43.2870</td>\n",
       "      <td>30.6972</td>\n",
       "      <td>26.0158</td>\n",
       "      <td>12.4</td>\n",
       "      <td>No</td>\n",
       "    </tr>\n",
       "    <tr>\n",
       "      <th>...</th>\n",
       "      <td>...</td>\n",
       "      <td>...</td>\n",
       "      <td>...</td>\n",
       "      <td>...</td>\n",
       "      <td>...</td>\n",
       "      <td>...</td>\n",
       "      <td>...</td>\n",
       "    </tr>\n",
       "    <tr>\n",
       "      <th>99</th>\n",
       "      <td>100</td>\n",
       "      <td>F</td>\n",
       "      <td>49.9999</td>\n",
       "      <td>29.2860</td>\n",
       "      <td>20.7141</td>\n",
       "      <td>14.5</td>\n",
       "      <td>Yes</td>\n",
       "    </tr>\n",
       "    <tr>\n",
       "      <th>100</th>\n",
       "      <td>101</td>\n",
       "      <td>M</td>\n",
       "      <td>42.2324</td>\n",
       "      <td>30.6757</td>\n",
       "      <td>27.0919</td>\n",
       "      <td>6.3</td>\n",
       "      <td>Yes</td>\n",
       "    </tr>\n",
       "    <tr>\n",
       "      <th>101</th>\n",
       "      <td>102</td>\n",
       "      <td>F</td>\n",
       "      <td>45.6064</td>\n",
       "      <td>31.9084</td>\n",
       "      <td>22.4852</td>\n",
       "      <td>12.7</td>\n",
       "      <td>No</td>\n",
       "    </tr>\n",
       "    <tr>\n",
       "      <th>102</th>\n",
       "      <td>103</td>\n",
       "      <td>M</td>\n",
       "      <td>45.2095</td>\n",
       "      <td>29.2769</td>\n",
       "      <td>25.5136</td>\n",
       "      <td>13.4</td>\n",
       "      <td>No</td>\n",
       "    </tr>\n",
       "    <tr>\n",
       "      <th>103</th>\n",
       "      <td>104</td>\n",
       "      <td>F</td>\n",
       "      <td>43.5706</td>\n",
       "      <td>29.8094</td>\n",
       "      <td>26.6199</td>\n",
       "      <td>12.2</td>\n",
       "      <td>No</td>\n",
       "    </tr>\n",
       "  </tbody>\n",
       "</table>\n",
       "<p>104 rows × 7 columns</p>\n",
       "</div>"
      ],
      "text/plain": [
       "     Number Sex  %Red Pixel  %Green pixel  %Blue pixel    Hb Anaemic\n",
       "0         1   M     43.2555       30.8421      25.9025   6.3     Yes\n",
       "1         2   F     45.6033       28.1900      26.2067  13.5      No\n",
       "2         3  F      45.0107       28.9677      26.0215  11.7      No\n",
       "3         4   F     44.5398       28.9899      26.4703  13.5      No\n",
       "4         5  M      43.2870       30.6972      26.0158  12.4      No\n",
       "..      ...  ..         ...           ...          ...   ...     ...\n",
       "99      100  F      49.9999       29.2860      20.7141  14.5     Yes\n",
       "100     101  M      42.2324       30.6757      27.0919   6.3     Yes\n",
       "101     102   F     45.6064       31.9084      22.4852  12.7      No\n",
       "102     103  M      45.2095       29.2769      25.5136  13.4      No\n",
       "103     104   F     43.5706       29.8094      26.6199  12.2      No\n",
       "\n",
       "[104 rows x 7 columns]"
      ]
     },
     "execution_count": 3,
     "metadata": {},
     "output_type": "execute_result"
    }
   ],
   "source": [
    "df = pd.read_csv(\"/kaggle/input/anaemia-prediction/output.csv\")\n",
    "df"
   ]
  },
  {
   "cell_type": "code",
   "execution_count": 4,
   "id": "33816f89",
   "metadata": {
    "execution": {
     "iopub.execute_input": "2024-07-05T17:03:44.176029Z",
     "iopub.status.busy": "2024-07-05T17:03:44.175330Z",
     "iopub.status.idle": "2024-07-05T17:03:44.195882Z",
     "shell.execute_reply": "2024-07-05T17:03:44.194817Z"
    },
    "papermill": {
     "duration": 0.038483,
     "end_time": "2024-07-05T17:03:44.198522",
     "exception": false,
     "start_time": "2024-07-05T17:03:44.160039",
     "status": "completed"
    },
    "tags": []
   },
   "outputs": [
    {
     "name": "stdout",
     "output_type": "stream",
     "text": [
      "<class 'pandas.core.frame.DataFrame'>\n",
      "RangeIndex: 104 entries, 0 to 103\n",
      "Data columns (total 7 columns):\n",
      " #   Column        Non-Null Count  Dtype  \n",
      "---  ------        --------------  -----  \n",
      " 0   Number        104 non-null    int64  \n",
      " 1   Sex           104 non-null    object \n",
      " 2   %Red Pixel    104 non-null    float64\n",
      " 3   %Green pixel  104 non-null    float64\n",
      " 4   %Blue pixel   104 non-null    float64\n",
      " 5   Hb            104 non-null    float64\n",
      " 6   Anaemic       104 non-null    object \n",
      "dtypes: float64(4), int64(1), object(2)\n",
      "memory usage: 5.8+ KB\n"
     ]
    }
   ],
   "source": [
    "df.info()"
   ]
  },
  {
   "cell_type": "code",
   "execution_count": 5,
   "id": "10b089d8",
   "metadata": {
    "execution": {
     "iopub.execute_input": "2024-07-05T17:03:44.228905Z",
     "iopub.status.busy": "2024-07-05T17:03:44.227998Z",
     "iopub.status.idle": "2024-07-05T17:03:44.237442Z",
     "shell.execute_reply": "2024-07-05T17:03:44.236322Z"
    },
    "papermill": {
     "duration": 0.026694,
     "end_time": "2024-07-05T17:03:44.239438",
     "exception": false,
     "start_time": "2024-07-05T17:03:44.212744",
     "status": "completed"
    },
    "tags": []
   },
   "outputs": [
    {
     "name": "stdout",
     "output_type": "stream",
     "text": [
      "Rows: 104, Columns: 7\n",
      "Duplicates: 0\n",
      "missing data: 0\n"
     ]
    }
   ],
   "source": [
    "print(f\"Rows: {df.shape[0]}, Columns: {df.shape[1]}\")\n",
    "print(f\"Duplicates: {df.duplicated().sum()}\") \n",
    "print(f\"missing data: {sum(df.isna().sum())}\")"
   ]
  },
  {
   "cell_type": "code",
   "execution_count": 6,
   "id": "d80f6ceb",
   "metadata": {
    "execution": {
     "iopub.execute_input": "2024-07-05T17:03:44.269528Z",
     "iopub.status.busy": "2024-07-05T17:03:44.269149Z",
     "iopub.status.idle": "2024-07-05T17:03:44.293161Z",
     "shell.execute_reply": "2024-07-05T17:03:44.292105Z"
    },
    "papermill": {
     "duration": 0.041717,
     "end_time": "2024-07-05T17:03:44.295465",
     "exception": false,
     "start_time": "2024-07-05T17:03:44.253748",
     "status": "completed"
    },
    "tags": []
   },
   "outputs": [
    {
     "data": {
      "text/html": [
       "<div>\n",
       "<style scoped>\n",
       "    .dataframe tbody tr th:only-of-type {\n",
       "        vertical-align: middle;\n",
       "    }\n",
       "\n",
       "    .dataframe tbody tr th {\n",
       "        vertical-align: top;\n",
       "    }\n",
       "\n",
       "    .dataframe thead th {\n",
       "        text-align: right;\n",
       "    }\n",
       "</style>\n",
       "<table border=\"1\" class=\"dataframe\">\n",
       "  <thead>\n",
       "    <tr style=\"text-align: right;\">\n",
       "      <th></th>\n",
       "      <th>Number</th>\n",
       "      <th>%Red Pixel</th>\n",
       "      <th>%Green pixel</th>\n",
       "      <th>%Blue pixel</th>\n",
       "      <th>Hb</th>\n",
       "    </tr>\n",
       "  </thead>\n",
       "  <tbody>\n",
       "    <tr>\n",
       "      <th>count</th>\n",
       "      <td>104.000000</td>\n",
       "      <td>104.000000</td>\n",
       "      <td>104.000000</td>\n",
       "      <td>104.000000</td>\n",
       "      <td>104.000000</td>\n",
       "    </tr>\n",
       "    <tr>\n",
       "      <th>mean</th>\n",
       "      <td>52.500000</td>\n",
       "      <td>45.654175</td>\n",
       "      <td>28.875507</td>\n",
       "      <td>25.470325</td>\n",
       "      <td>12.150962</td>\n",
       "    </tr>\n",
       "    <tr>\n",
       "      <th>std</th>\n",
       "      <td>30.166206</td>\n",
       "      <td>2.816294</td>\n",
       "      <td>1.554275</td>\n",
       "      <td>1.984671</td>\n",
       "      <td>2.512957</td>\n",
       "    </tr>\n",
       "    <tr>\n",
       "      <th>min</th>\n",
       "      <td>1.000000</td>\n",
       "      <td>38.796800</td>\n",
       "      <td>25.140300</td>\n",
       "      <td>19.541300</td>\n",
       "      <td>2.800000</td>\n",
       "    </tr>\n",
       "    <tr>\n",
       "      <th>25%</th>\n",
       "      <td>26.750000</td>\n",
       "      <td>43.911375</td>\n",
       "      <td>27.871300</td>\n",
       "      <td>24.896425</td>\n",
       "      <td>10.650000</td>\n",
       "    </tr>\n",
       "    <tr>\n",
       "      <th>50%</th>\n",
       "      <td>52.500000</td>\n",
       "      <td>45.385350</td>\n",
       "      <td>28.948750</td>\n",
       "      <td>25.953200</td>\n",
       "      <td>12.600000</td>\n",
       "    </tr>\n",
       "    <tr>\n",
       "      <th>75%</th>\n",
       "      <td>78.250000</td>\n",
       "      <td>46.968325</td>\n",
       "      <td>29.887275</td>\n",
       "      <td>26.721600</td>\n",
       "      <td>14.000000</td>\n",
       "    </tr>\n",
       "    <tr>\n",
       "      <th>max</th>\n",
       "      <td>104.000000</td>\n",
       "      <td>54.647800</td>\n",
       "      <td>32.368100</td>\n",
       "      <td>29.841400</td>\n",
       "      <td>16.300000</td>\n",
       "    </tr>\n",
       "  </tbody>\n",
       "</table>\n",
       "</div>"
      ],
      "text/plain": [
       "           Number  %Red Pixel  %Green pixel  %Blue pixel          Hb\n",
       "count  104.000000  104.000000    104.000000   104.000000  104.000000\n",
       "mean    52.500000   45.654175     28.875507    25.470325   12.150962\n",
       "std     30.166206    2.816294      1.554275     1.984671    2.512957\n",
       "min      1.000000   38.796800     25.140300    19.541300    2.800000\n",
       "25%     26.750000   43.911375     27.871300    24.896425   10.650000\n",
       "50%     52.500000   45.385350     28.948750    25.953200   12.600000\n",
       "75%     78.250000   46.968325     29.887275    26.721600   14.000000\n",
       "max    104.000000   54.647800     32.368100    29.841400   16.300000"
      ]
     },
     "execution_count": 6,
     "metadata": {},
     "output_type": "execute_result"
    }
   ],
   "source": [
    "df.describe()"
   ]
  },
  {
   "cell_type": "code",
   "execution_count": 7,
   "id": "6f923c47",
   "metadata": {
    "execution": {
     "iopub.execute_input": "2024-07-05T17:03:44.326443Z",
     "iopub.status.busy": "2024-07-05T17:03:44.325541Z",
     "iopub.status.idle": "2024-07-05T17:03:44.338606Z",
     "shell.execute_reply": "2024-07-05T17:03:44.337620Z"
    },
    "papermill": {
     "duration": 0.030708,
     "end_time": "2024-07-05T17:03:44.340600",
     "exception": false,
     "start_time": "2024-07-05T17:03:44.309892",
     "status": "completed"
    },
    "tags": []
   },
   "outputs": [
    {
     "data": {
      "text/html": [
       "<div>\n",
       "<style scoped>\n",
       "    .dataframe tbody tr th:only-of-type {\n",
       "        vertical-align: middle;\n",
       "    }\n",
       "\n",
       "    .dataframe tbody tr th {\n",
       "        vertical-align: top;\n",
       "    }\n",
       "\n",
       "    .dataframe thead th {\n",
       "        text-align: right;\n",
       "    }\n",
       "</style>\n",
       "<table border=\"1\" class=\"dataframe\">\n",
       "  <thead>\n",
       "    <tr style=\"text-align: right;\">\n",
       "      <th></th>\n",
       "      <th>Number</th>\n",
       "      <th>Sex</th>\n",
       "      <th>%Red Pixel</th>\n",
       "      <th>%Green pixel</th>\n",
       "      <th>%Blue pixel</th>\n",
       "      <th>Hb</th>\n",
       "      <th>Anaemic</th>\n",
       "    </tr>\n",
       "  </thead>\n",
       "  <tbody>\n",
       "    <tr>\n",
       "      <th>99</th>\n",
       "      <td>100</td>\n",
       "      <td>F</td>\n",
       "      <td>49.9999</td>\n",
       "      <td>29.2860</td>\n",
       "      <td>20.7141</td>\n",
       "      <td>14.5</td>\n",
       "      <td>Yes</td>\n",
       "    </tr>\n",
       "    <tr>\n",
       "      <th>100</th>\n",
       "      <td>101</td>\n",
       "      <td>M</td>\n",
       "      <td>42.2324</td>\n",
       "      <td>30.6757</td>\n",
       "      <td>27.0919</td>\n",
       "      <td>6.3</td>\n",
       "      <td>Yes</td>\n",
       "    </tr>\n",
       "    <tr>\n",
       "      <th>101</th>\n",
       "      <td>102</td>\n",
       "      <td>F</td>\n",
       "      <td>45.6064</td>\n",
       "      <td>31.9084</td>\n",
       "      <td>22.4852</td>\n",
       "      <td>12.7</td>\n",
       "      <td>No</td>\n",
       "    </tr>\n",
       "    <tr>\n",
       "      <th>102</th>\n",
       "      <td>103</td>\n",
       "      <td>M</td>\n",
       "      <td>45.2095</td>\n",
       "      <td>29.2769</td>\n",
       "      <td>25.5136</td>\n",
       "      <td>13.4</td>\n",
       "      <td>No</td>\n",
       "    </tr>\n",
       "    <tr>\n",
       "      <th>103</th>\n",
       "      <td>104</td>\n",
       "      <td>F</td>\n",
       "      <td>43.5706</td>\n",
       "      <td>29.8094</td>\n",
       "      <td>26.6199</td>\n",
       "      <td>12.2</td>\n",
       "      <td>No</td>\n",
       "    </tr>\n",
       "  </tbody>\n",
       "</table>\n",
       "</div>"
      ],
      "text/plain": [
       "     Number Sex  %Red Pixel  %Green pixel  %Blue pixel    Hb Anaemic\n",
       "99      100  F      49.9999       29.2860      20.7141  14.5     Yes\n",
       "100     101  M      42.2324       30.6757      27.0919   6.3     Yes\n",
       "101     102   F     45.6064       31.9084      22.4852  12.7      No\n",
       "102     103  M      45.2095       29.2769      25.5136  13.4      No\n",
       "103     104   F     43.5706       29.8094      26.6199  12.2      No"
      ]
     },
     "execution_count": 7,
     "metadata": {},
     "output_type": "execute_result"
    }
   ],
   "source": [
    "df.tail()"
   ]
  },
  {
   "cell_type": "code",
   "execution_count": 8,
   "id": "d737326b",
   "metadata": {
    "execution": {
     "iopub.execute_input": "2024-07-05T17:03:44.372257Z",
     "iopub.status.busy": "2024-07-05T17:03:44.371892Z",
     "iopub.status.idle": "2024-07-05T17:03:45.431172Z",
     "shell.execute_reply": "2024-07-05T17:03:45.430171Z"
    },
    "papermill": {
     "duration": 1.07722,
     "end_time": "2024-07-05T17:03:45.433582",
     "exception": false,
     "start_time": "2024-07-05T17:03:44.356362",
     "status": "completed"
    },
    "tags": []
   },
   "outputs": [
    {
     "data": {
      "image/png": "[encoded data removed]",
      "text/plain": [
       "<Figure size 1200x1400 with 16 Axes>"
      ]
     },
     "metadata": {},
     "output_type": "display_data"
    }
   ],
   "source": [
    "df.plot(subplots=True, layout=(4,4), kind='box', figsize=(12,14))\n",
    "plt.subplots_adjust(wspace=0.5); \n"
   ]
  },
  {
   "cell_type": "code",
   "execution_count": 9,
   "id": "f22b2dd8",
   "metadata": {
    "execution": {
     "iopub.execute_input": "2024-07-05T17:03:45.465861Z",
     "iopub.status.busy": "2024-07-05T17:03:45.465457Z",
     "iopub.status.idle": "2024-07-05T17:03:45.473058Z",
     "shell.execute_reply": "2024-07-05T17:03:45.472020Z"
    },
    "papermill": {
     "duration": 0.026309,
     "end_time": "2024-07-05T17:03:45.475155",
     "exception": false,
     "start_time": "2024-07-05T17:03:45.448846",
     "status": "completed"
    },
    "tags": []
   },
   "outputs": [],
   "source": [
    "def Handle_outlier(df, column_name):\n",
    "    # HITUNG Q1 DAN Q3\n",
    "    Q1 = np.percentile(df[column_name], 25)\n",
    "    Q3 = np.percentile(df[column_name], 75)\n",
    "\n",
    "    # HITUNG IQR\n",
    "    IQR = Q3 - Q1   \n",
    "\n",
    "    # Tentukan Batas Bawah Dan Batas Atas\n",
    "    lower_bound = Q1 - 1.5 * IQR\n",
    "    upper_bound = Q3 + 1.5 * IQR\n",
    "\n",
    "    # IDENTIFIKASI OUTLIER DENGAN INTERQUARTIL\n",
    "    outliers = df[column_name][(df[column_name] < lower_bound) | (df[column_name] > upper_bound)]\n",
    "\n",
    "    if not outliers.empty:\n",
    "        print(f\"Outliers berdasarkan IQR untuk kolom {column_name}:\")\n",
    "        print(outliers)\n",
    "    else:\n",
    "        print(f\"Tidak ditemukan outlier untuk kolom {column_name} berdasarkan metode interquartile.\")\n",
    "\n",
    "    # GANTI NILAI OUTLIER\n",
    "    df[column_name] = np.where((df[column_name] < lower_bound), lower_bound, df[column_name])\n",
    "    df[column_name] = np.where((df[column_name] > upper_bound), upper_bound, df[column_name])\n",
    "\n"
   ]
  },
  {
   "cell_type": "code",
   "execution_count": 10,
   "id": "5b19772b",
   "metadata": {
    "execution": {
     "iopub.execute_input": "2024-07-05T17:03:45.507799Z",
     "iopub.status.busy": "2024-07-05T17:03:45.507408Z",
     "iopub.status.idle": "2024-07-05T17:03:45.521421Z",
     "shell.execute_reply": "2024-07-05T17:03:45.520180Z"
    },
    "papermill": {
     "duration": 0.033008,
     "end_time": "2024-07-05T17:03:45.523777",
     "exception": false,
     "start_time": "2024-07-05T17:03:45.490769",
     "status": "completed"
    },
    "tags": []
   },
   "outputs": [
    {
     "name": "stdout",
     "output_type": "stream",
     "text": [
      "Outliers berdasarkan IQR untuk kolom %Red Pixel:\n",
      "64    38.7968\n",
      "72    52.9108\n",
      "75    53.9113\n",
      "88    54.6478\n",
      "95    52.1540\n",
      "96    51.5802\n",
      "Name: %Red Pixel, dtype: float64\n",
      "Outliers berdasarkan IQR untuk kolom %Blue pixel:\n",
      "59    20.4232\n",
      "64    29.8414\n",
      "72    20.3010\n",
      "73    20.6960\n",
      "75    19.7433\n",
      "76    21.4347\n",
      "88    19.5413\n",
      "89    21.6431\n",
      "95    21.7607\n",
      "96    20.1520\n",
      "99    20.7141\n",
      "Name: %Blue pixel, dtype: float64\n",
      "Outliers berdasarkan IQR untuk kolom Hb:\n",
      "12    4.8\n",
      "58    2.8\n",
      "Name: Hb, dtype: float64\n"
     ]
    }
   ],
   "source": [
    "Handle_outlier(df, '%Red Pixel')\n",
    "Handle_outlier(df, '%Blue pixel')\n",
    "Handle_outlier(df, 'Hb')"
   ]
  },
  {
   "cell_type": "code",
   "execution_count": 11,
   "id": "9fd39f1e",
   "metadata": {
    "execution": {
     "iopub.execute_input": "2024-07-05T17:03:45.556017Z",
     "iopub.status.busy": "2024-07-05T17:03:45.555638Z",
     "iopub.status.idle": "2024-07-05T17:03:46.628367Z",
     "shell.execute_reply": "2024-07-05T17:03:46.627107Z"
    },
    "papermill": {
     "duration": 1.091812,
     "end_time": "2024-07-05T17:03:46.630882",
     "exception": false,
     "start_time": "2024-07-05T17:03:45.539070",
     "status": "completed"
    },
    "tags": []
   },
   "outputs": [
    {
     "data": {
      "image/png": "[encoded data removed]",
      "text/plain": [
       "<Figure size 1200x1400 with 16 Axes>"
      ]
     },
     "metadata": {},
     "output_type": "display_data"
    }
   ],
   "source": [
    "df.plot(subplots=True, layout=(4,4), kind='box', figsize=(12,14))\n",
    "plt.subplots_adjust(wspace=0.5); \n"
   ]
  },
  {
   "cell_type": "code",
   "execution_count": 12,
   "id": "78a2e097",
   "metadata": {
    "execution": {
     "iopub.execute_input": "2024-07-05T17:03:46.669569Z",
     "iopub.status.busy": "2024-07-05T17:03:46.669013Z",
     "iopub.status.idle": "2024-07-05T17:03:46.690785Z",
     "shell.execute_reply": "2024-07-05T17:03:46.689782Z"
    },
    "papermill": {
     "duration": 0.046217,
     "end_time": "2024-07-05T17:03:46.693393",
     "exception": false,
     "start_time": "2024-07-05T17:03:46.647176",
     "status": "completed"
    },
    "tags": []
   },
   "outputs": [
    {
     "data": {
      "text/html": [
       "<div>\n",
       "<style scoped>\n",
       "    .dataframe tbody tr th:only-of-type {\n",
       "        vertical-align: middle;\n",
       "    }\n",
       "\n",
       "    .dataframe tbody tr th {\n",
       "        vertical-align: top;\n",
       "    }\n",
       "\n",
       "    .dataframe thead th {\n",
       "        text-align: right;\n",
       "    }\n",
       "</style>\n",
       "<table border=\"1\" class=\"dataframe\">\n",
       "  <thead>\n",
       "    <tr style=\"text-align: right;\">\n",
       "      <th></th>\n",
       "      <th>Number</th>\n",
       "      <th>Sex</th>\n",
       "      <th>%Red Pixel</th>\n",
       "      <th>%Green pixel</th>\n",
       "      <th>%Blue pixel</th>\n",
       "      <th>Hb</th>\n",
       "      <th>Anaemic</th>\n",
       "    </tr>\n",
       "  </thead>\n",
       "  <tbody>\n",
       "    <tr>\n",
       "      <th>0</th>\n",
       "      <td>1</td>\n",
       "      <td>M</td>\n",
       "      <td>43.2555</td>\n",
       "      <td>30.8421</td>\n",
       "      <td>25.902500</td>\n",
       "      <td>6.3</td>\n",
       "      <td>Yes</td>\n",
       "    </tr>\n",
       "    <tr>\n",
       "      <th>1</th>\n",
       "      <td>2</td>\n",
       "      <td>F</td>\n",
       "      <td>45.6033</td>\n",
       "      <td>28.1900</td>\n",
       "      <td>26.206700</td>\n",
       "      <td>13.5</td>\n",
       "      <td>No</td>\n",
       "    </tr>\n",
       "    <tr>\n",
       "      <th>2</th>\n",
       "      <td>3</td>\n",
       "      <td>F</td>\n",
       "      <td>45.0107</td>\n",
       "      <td>28.9677</td>\n",
       "      <td>26.021500</td>\n",
       "      <td>11.7</td>\n",
       "      <td>No</td>\n",
       "    </tr>\n",
       "    <tr>\n",
       "      <th>3</th>\n",
       "      <td>4</td>\n",
       "      <td>F</td>\n",
       "      <td>44.5398</td>\n",
       "      <td>28.9899</td>\n",
       "      <td>26.470300</td>\n",
       "      <td>13.5</td>\n",
       "      <td>No</td>\n",
       "    </tr>\n",
       "    <tr>\n",
       "      <th>4</th>\n",
       "      <td>5</td>\n",
       "      <td>M</td>\n",
       "      <td>43.2870</td>\n",
       "      <td>30.6972</td>\n",
       "      <td>26.015800</td>\n",
       "      <td>12.4</td>\n",
       "      <td>No</td>\n",
       "    </tr>\n",
       "    <tr>\n",
       "      <th>...</th>\n",
       "      <td>...</td>\n",
       "      <td>...</td>\n",
       "      <td>...</td>\n",
       "      <td>...</td>\n",
       "      <td>...</td>\n",
       "      <td>...</td>\n",
       "      <td>...</td>\n",
       "    </tr>\n",
       "    <tr>\n",
       "      <th>99</th>\n",
       "      <td>100</td>\n",
       "      <td>F</td>\n",
       "      <td>49.9999</td>\n",
       "      <td>29.2860</td>\n",
       "      <td>22.158662</td>\n",
       "      <td>14.5</td>\n",
       "      <td>Yes</td>\n",
       "    </tr>\n",
       "    <tr>\n",
       "      <th>100</th>\n",
       "      <td>101</td>\n",
       "      <td>M</td>\n",
       "      <td>42.2324</td>\n",
       "      <td>30.6757</td>\n",
       "      <td>27.091900</td>\n",
       "      <td>6.3</td>\n",
       "      <td>Yes</td>\n",
       "    </tr>\n",
       "    <tr>\n",
       "      <th>101</th>\n",
       "      <td>102</td>\n",
       "      <td>F</td>\n",
       "      <td>45.6064</td>\n",
       "      <td>31.9084</td>\n",
       "      <td>22.485200</td>\n",
       "      <td>12.7</td>\n",
       "      <td>No</td>\n",
       "    </tr>\n",
       "    <tr>\n",
       "      <th>102</th>\n",
       "      <td>103</td>\n",
       "      <td>M</td>\n",
       "      <td>45.2095</td>\n",
       "      <td>29.2769</td>\n",
       "      <td>25.513600</td>\n",
       "      <td>13.4</td>\n",
       "      <td>No</td>\n",
       "    </tr>\n",
       "    <tr>\n",
       "      <th>103</th>\n",
       "      <td>104</td>\n",
       "      <td>F</td>\n",
       "      <td>43.5706</td>\n",
       "      <td>29.8094</td>\n",
       "      <td>26.619900</td>\n",
       "      <td>12.2</td>\n",
       "      <td>No</td>\n",
       "    </tr>\n",
       "  </tbody>\n",
       "</table>\n",
       "<p>104 rows × 7 columns</p>\n",
       "</div>"
      ],
      "text/plain": [
       "     Number Sex  %Red Pixel  %Green pixel  %Blue pixel    Hb Anaemic\n",
       "0         1   M     43.2555       30.8421    25.902500   6.3     Yes\n",
       "1         2   F     45.6033       28.1900    26.206700  13.5      No\n",
       "2         3  F      45.0107       28.9677    26.021500  11.7      No\n",
       "3         4   F     44.5398       28.9899    26.470300  13.5      No\n",
       "4         5  M      43.2870       30.6972    26.015800  12.4      No\n",
       "..      ...  ..         ...           ...          ...   ...     ...\n",
       "99      100  F      49.9999       29.2860    22.158662  14.5     Yes\n",
       "100     101  M      42.2324       30.6757    27.091900   6.3     Yes\n",
       "101     102   F     45.6064       31.9084    22.485200  12.7      No\n",
       "102     103  M      45.2095       29.2769    25.513600  13.4      No\n",
       "103     104   F     43.5706       29.8094    26.619900  12.2      No\n",
       "\n",
       "[104 rows x 7 columns]"
      ]
     },
     "execution_count": 12,
     "metadata": {},
     "output_type": "execute_result"
    }
   ],
   "source": [
    "df"
   ]
  },
  {
   "cell_type": "code",
   "execution_count": 13,
   "id": "57883360",
   "metadata": {
    "execution": {
     "iopub.execute_input": "2024-07-05T17:03:46.731858Z",
     "iopub.status.busy": "2024-07-05T17:03:46.730899Z",
     "iopub.status.idle": "2024-07-05T17:03:46.739179Z",
     "shell.execute_reply": "2024-07-05T17:03:46.738198Z"
    },
    "papermill": {
     "duration": 0.027972,
     "end_time": "2024-07-05T17:03:46.741697",
     "exception": false,
     "start_time": "2024-07-05T17:03:46.713725",
     "status": "completed"
    },
    "tags": []
   },
   "outputs": [
    {
     "data": {
      "text/plain": [
       "Sex\n",
       "M     29\n",
       "M     26\n",
       "F     26\n",
       "F     23\n",
       "Name: count, dtype: int64"
      ]
     },
     "execution_count": 13,
     "metadata": {},
     "output_type": "execute_result"
    }
   ],
   "source": [
    "df['Sex'].value_counts()"
   ]
  },
  {
   "cell_type": "code",
   "execution_count": 14,
   "id": "e51ffa7b",
   "metadata": {
    "execution": {
     "iopub.execute_input": "2024-07-05T17:03:46.782575Z",
     "iopub.status.busy": "2024-07-05T17:03:46.781761Z",
     "iopub.status.idle": "2024-07-05T17:03:46.789873Z",
     "shell.execute_reply": "2024-07-05T17:03:46.788924Z"
    },
    "papermill": {
     "duration": 0.028488,
     "end_time": "2024-07-05T17:03:46.792443",
     "exception": false,
     "start_time": "2024-07-05T17:03:46.763955",
     "status": "completed"
    },
    "tags": []
   },
   "outputs": [
    {
     "data": {
      "text/plain": [
       "Anaemic\n",
       "No     78\n",
       "Yes    26\n",
       "Name: count, dtype: int64"
      ]
     },
     "execution_count": 14,
     "metadata": {},
     "output_type": "execute_result"
    }
   ],
   "source": [
    "df['Anaemic'].value_counts()"
   ]
  },
  {
   "cell_type": "code",
   "execution_count": 15,
   "id": "1e2938a1",
   "metadata": {
    "execution": {
     "iopub.execute_input": "2024-07-05T17:03:46.831630Z",
     "iopub.status.busy": "2024-07-05T17:03:46.830645Z",
     "iopub.status.idle": "2024-07-05T17:03:46.840515Z",
     "shell.execute_reply": "2024-07-05T17:03:46.839544Z"
    },
    "papermill": {
     "duration": 0.029965,
     "end_time": "2024-07-05T17:03:46.843052",
     "exception": false,
     "start_time": "2024-07-05T17:03:46.813087",
     "status": "completed"
    },
    "tags": []
   },
   "outputs": [
    {
     "data": {
      "text/plain": [
       "Sex\n",
       "M    55\n",
       "F    49\n",
       "Name: count, dtype: int64"
      ]
     },
     "execution_count": 15,
     "metadata": {},
     "output_type": "execute_result"
    }
   ],
   "source": [
    "df['Sex'] = df['Sex'].replace('F ', 'F')\n",
    "df['Sex'] = df['Sex'].replace('M ', 'M')\n",
    "df['Sex'].value_counts()"
   ]
  },
  {
   "cell_type": "code",
   "execution_count": 16,
   "id": "e396bee5",
   "metadata": {
    "execution": {
     "iopub.execute_input": "2024-07-05T17:03:46.884440Z",
     "iopub.status.busy": "2024-07-05T17:03:46.884029Z",
     "iopub.status.idle": "2024-07-05T17:03:46.895423Z",
     "shell.execute_reply": "2024-07-05T17:03:46.894308Z"
    },
    "papermill": {
     "duration": 0.03155,
     "end_time": "2024-07-05T17:03:46.897890",
     "exception": false,
     "start_time": "2024-07-05T17:03:46.866340",
     "status": "completed"
    },
    "tags": []
   },
   "outputs": [
    {
     "name": "stdout",
     "output_type": "stream",
     "text": [
      "<class 'pandas.core.frame.DataFrame'>\n",
      "RangeIndex: 104 entries, 0 to 103\n",
      "Data columns (total 7 columns):\n",
      " #   Column        Non-Null Count  Dtype  \n",
      "---  ------        --------------  -----  \n",
      " 0   Number        104 non-null    int64  \n",
      " 1   Sex           104 non-null    object \n",
      " 2   %Red Pixel    104 non-null    float64\n",
      " 3   %Green pixel  104 non-null    float64\n",
      " 4   %Blue pixel   104 non-null    float64\n",
      " 5   Hb            104 non-null    float64\n",
      " 6   Anaemic       104 non-null    object \n",
      "dtypes: float64(4), int64(1), object(2)\n",
      "memory usage: 5.8+ KB\n"
     ]
    }
   ],
   "source": [
    "df.info()"
   ]
  },
  {
   "cell_type": "code",
   "execution_count": 17,
   "id": "567c4e6b",
   "metadata": {
    "execution": {
     "iopub.execute_input": "2024-07-05T17:03:46.933510Z",
     "iopub.status.busy": "2024-07-05T17:03:46.932656Z",
     "iopub.status.idle": "2024-07-05T17:03:47.090146Z",
     "shell.execute_reply": "2024-07-05T17:03:47.088931Z"
    },
    "papermill": {
     "duration": 0.177879,
     "end_time": "2024-07-05T17:03:47.092440",
     "exception": false,
     "start_time": "2024-07-05T17:03:46.914561",
     "status": "completed"
    },
    "tags": []
   },
   "outputs": [
    {
     "data": {
      "text/html": [
       "<div>\n",
       "<style scoped>\n",
       "    .dataframe tbody tr th:only-of-type {\n",
       "        vertical-align: middle;\n",
       "    }\n",
       "\n",
       "    .dataframe tbody tr th {\n",
       "        vertical-align: top;\n",
       "    }\n",
       "\n",
       "    .dataframe thead th {\n",
       "        text-align: right;\n",
       "    }\n",
       "</style>\n",
       "<table border=\"1\" class=\"dataframe\">\n",
       "  <thead>\n",
       "    <tr style=\"text-align: right;\">\n",
       "      <th></th>\n",
       "      <th>Number</th>\n",
       "      <th>Sex</th>\n",
       "      <th>%Red Pixel</th>\n",
       "      <th>%Green pixel</th>\n",
       "      <th>%Blue pixel</th>\n",
       "      <th>Hb</th>\n",
       "      <th>Anaemic</th>\n",
       "    </tr>\n",
       "  </thead>\n",
       "  <tbody>\n",
       "    <tr>\n",
       "      <th>0</th>\n",
       "      <td>1</td>\n",
       "      <td>0</td>\n",
       "      <td>43.2555</td>\n",
       "      <td>30.8421</td>\n",
       "      <td>25.902500</td>\n",
       "      <td>6.3</td>\n",
       "      <td>1</td>\n",
       "    </tr>\n",
       "    <tr>\n",
       "      <th>1</th>\n",
       "      <td>2</td>\n",
       "      <td>1</td>\n",
       "      <td>45.6033</td>\n",
       "      <td>28.1900</td>\n",
       "      <td>26.206700</td>\n",
       "      <td>13.5</td>\n",
       "      <td>0</td>\n",
       "    </tr>\n",
       "    <tr>\n",
       "      <th>2</th>\n",
       "      <td>3</td>\n",
       "      <td>1</td>\n",
       "      <td>45.0107</td>\n",
       "      <td>28.9677</td>\n",
       "      <td>26.021500</td>\n",
       "      <td>11.7</td>\n",
       "      <td>0</td>\n",
       "    </tr>\n",
       "    <tr>\n",
       "      <th>3</th>\n",
       "      <td>4</td>\n",
       "      <td>1</td>\n",
       "      <td>44.5398</td>\n",
       "      <td>28.9899</td>\n",
       "      <td>26.470300</td>\n",
       "      <td>13.5</td>\n",
       "      <td>0</td>\n",
       "    </tr>\n",
       "    <tr>\n",
       "      <th>4</th>\n",
       "      <td>5</td>\n",
       "      <td>0</td>\n",
       "      <td>43.2870</td>\n",
       "      <td>30.6972</td>\n",
       "      <td>26.015800</td>\n",
       "      <td>12.4</td>\n",
       "      <td>0</td>\n",
       "    </tr>\n",
       "    <tr>\n",
       "      <th>...</th>\n",
       "      <td>...</td>\n",
       "      <td>...</td>\n",
       "      <td>...</td>\n",
       "      <td>...</td>\n",
       "      <td>...</td>\n",
       "      <td>...</td>\n",
       "      <td>...</td>\n",
       "    </tr>\n",
       "    <tr>\n",
       "      <th>99</th>\n",
       "      <td>100</td>\n",
       "      <td>1</td>\n",
       "      <td>49.9999</td>\n",
       "      <td>29.2860</td>\n",
       "      <td>22.158662</td>\n",
       "      <td>14.5</td>\n",
       "      <td>1</td>\n",
       "    </tr>\n",
       "    <tr>\n",
       "      <th>100</th>\n",
       "      <td>101</td>\n",
       "      <td>0</td>\n",
       "      <td>42.2324</td>\n",
       "      <td>30.6757</td>\n",
       "      <td>27.091900</td>\n",
       "      <td>6.3</td>\n",
       "      <td>1</td>\n",
       "    </tr>\n",
       "    <tr>\n",
       "      <th>101</th>\n",
       "      <td>102</td>\n",
       "      <td>1</td>\n",
       "      <td>45.6064</td>\n",
       "      <td>31.9084</td>\n",
       "      <td>22.485200</td>\n",
       "      <td>12.7</td>\n",
       "      <td>0</td>\n",
       "    </tr>\n",
       "    <tr>\n",
       "      <th>102</th>\n",
       "      <td>103</td>\n",
       "      <td>0</td>\n",
       "      <td>45.2095</td>\n",
       "      <td>29.2769</td>\n",
       "      <td>25.513600</td>\n",
       "      <td>13.4</td>\n",
       "      <td>0</td>\n",
       "    </tr>\n",
       "    <tr>\n",
       "      <th>103</th>\n",
       "      <td>104</td>\n",
       "      <td>1</td>\n",
       "      <td>43.5706</td>\n",
       "      <td>29.8094</td>\n",
       "      <td>26.619900</td>\n",
       "      <td>12.2</td>\n",
       "      <td>0</td>\n",
       "    </tr>\n",
       "  </tbody>\n",
       "</table>\n",
       "<p>104 rows × 7 columns</p>\n",
       "</div>"
      ],
      "text/plain": [
       "     Number  Sex  %Red Pixel  %Green pixel  %Blue pixel    Hb  Anaemic\n",
       "0         1    0     43.2555       30.8421    25.902500   6.3        1\n",
       "1         2    1     45.6033       28.1900    26.206700  13.5        0\n",
       "2         3    1     45.0107       28.9677    26.021500  11.7        0\n",
       "3         4    1     44.5398       28.9899    26.470300  13.5        0\n",
       "4         5    0     43.2870       30.6972    26.015800  12.4        0\n",
       "..      ...  ...         ...           ...          ...   ...      ...\n",
       "99      100    1     49.9999       29.2860    22.158662  14.5        1\n",
       "100     101    0     42.2324       30.6757    27.091900   6.3        1\n",
       "101     102    1     45.6064       31.9084    22.485200  12.7        0\n",
       "102     103    0     45.2095       29.2769    25.513600  13.4        0\n",
       "103     104    1     43.5706       29.8094    26.619900  12.2        0\n",
       "\n",
       "[104 rows x 7 columns]"
      ]
     },
     "execution_count": 17,
     "metadata": {},
     "output_type": "execute_result"
    }
   ],
   "source": [
    "from sklearn.preprocessing import LabelEncoder\n",
    "le = LabelEncoder()\n",
    "mapping1 = {'M':0,'F':1,}\n",
    "mapping2 = {'No':0,'Yes':1}\n",
    "df['Sex'] = le.fit_transform(df['Sex'].map(mapping1))\n",
    "df['Anaemic'] = le.fit_transform(df['Anaemic'].map(mapping2))\n",
    "df"
   ]
  },
  {
   "cell_type": "code",
   "execution_count": 18,
   "id": "134b15d4",
   "metadata": {
    "execution": {
     "iopub.execute_input": "2024-07-05T17:03:47.129009Z",
     "iopub.status.busy": "2024-07-05T17:03:47.128536Z",
     "iopub.status.idle": "2024-07-05T17:03:47.649833Z",
     "shell.execute_reply": "2024-07-05T17:03:47.648807Z"
    },
    "papermill": {
     "duration": 0.542584,
     "end_time": "2024-07-05T17:03:47.651971",
     "exception": false,
     "start_time": "2024-07-05T17:03:47.109387",
     "status": "completed"
    },
    "tags": []
   },
   "outputs": [
    {
     "data": {
      "image/png": "[encoded data removed]",
      "text/plain": [
       "<Figure size 1500x1500 with 2 Axes>"
      ]
     },
     "metadata": {},
     "output_type": "display_data"
    }
   ],
   "source": [
    "import matplotlib.pyplot as plt #korelasi hubungan antar variabel dapat dilihat dari korelasi di bawah\n",
    "import seaborn as sns\n",
    "plt.figure(figsize=(15,15))# bahwa Total_Phenols,Flavanoids, dan OD280 memliki pengaruh yang besar\n",
    "sns.heatmap(df.corr(),annot=True,fmt=\".2f\",linewidths=0.7,cmap=\"coolwarm\")\n",
    "plt.show()"
   ]
  },
  {
   "cell_type": "code",
   "execution_count": 19,
   "id": "094b3797",
   "metadata": {
    "execution": {
     "iopub.execute_input": "2024-07-05T17:03:47.690595Z",
     "iopub.status.busy": "2024-07-05T17:03:47.689649Z",
     "iopub.status.idle": "2024-07-05T17:03:47.714525Z",
     "shell.execute_reply": "2024-07-05T17:03:47.713479Z"
    },
    "papermill": {
     "duration": 0.046867,
     "end_time": "2024-07-05T17:03:47.716732",
     "exception": false,
     "start_time": "2024-07-05T17:03:47.669865",
     "status": "completed"
    },
    "tags": []
   },
   "outputs": [
    {
     "data": {
      "text/html": [
       "<div>\n",
       "<style scoped>\n",
       "    .dataframe tbody tr th:only-of-type {\n",
       "        vertical-align: middle;\n",
       "    }\n",
       "\n",
       "    .dataframe tbody tr th {\n",
       "        vertical-align: top;\n",
       "    }\n",
       "\n",
       "    .dataframe thead th {\n",
       "        text-align: right;\n",
       "    }\n",
       "</style>\n",
       "<table border=\"1\" class=\"dataframe\">\n",
       "  <thead>\n",
       "    <tr style=\"text-align: right;\">\n",
       "      <th></th>\n",
       "      <th>KolomKe</th>\n",
       "      <th>Nama Kolom</th>\n",
       "      <th>KoefisienKorelasi-Pearson</th>\n",
       "    </tr>\n",
       "  </thead>\n",
       "  <tbody>\n",
       "    <tr>\n",
       "      <th>0</th>\n",
       "      <td>5</td>\n",
       "      <td>Hb</td>\n",
       "      <td>0.776653</td>\n",
       "    </tr>\n",
       "    <tr>\n",
       "      <th>1</th>\n",
       "      <td>3</td>\n",
       "      <td>%Green pixel</td>\n",
       "      <td>0.566447</td>\n",
       "    </tr>\n",
       "    <tr>\n",
       "      <th>2</th>\n",
       "      <td>2</td>\n",
       "      <td>%Red Pixel</td>\n",
       "      <td>0.361302</td>\n",
       "    </tr>\n",
       "    <tr>\n",
       "      <th>3</th>\n",
       "      <td>1</td>\n",
       "      <td>Sex</td>\n",
       "      <td>0.211307</td>\n",
       "    </tr>\n",
       "    <tr>\n",
       "      <th>4</th>\n",
       "      <td>0</td>\n",
       "      <td>Number</td>\n",
       "      <td>0.053997</td>\n",
       "    </tr>\n",
       "    <tr>\n",
       "      <th>5</th>\n",
       "      <td>4</td>\n",
       "      <td>%Blue pixel</td>\n",
       "      <td>0.044425</td>\n",
       "    </tr>\n",
       "  </tbody>\n",
       "</table>\n",
       "</div>"
      ],
      "text/plain": [
       "   KolomKe    Nama Kolom  KoefisienKorelasi-Pearson\n",
       "0        5            Hb                   0.776653\n",
       "1        3  %Green pixel                   0.566447\n",
       "2        2    %Red Pixel                   0.361302\n",
       "3        1           Sex                   0.211307\n",
       "4        0        Number                   0.053997\n",
       "5        4   %Blue pixel                   0.044425"
      ]
     },
     "execution_count": 19,
     "metadata": {},
     "output_type": "execute_result"
    }
   ],
   "source": [
    "import scipy\n",
    "from scipy import stats\n",
    "\n",
    "kolom=len(df.columns)\n",
    "z=[]\n",
    "for i in range (0,kolom-1):\n",
    "  k,y=stats.pearsonr(df.iloc[:,i],df.iloc[:,-1])\n",
    "  z.append([i,df.columns[i], abs(k)])\n",
    "\n",
    "z=sorted(z, key=lambda z:z[2], reverse=True)\n",
    "z=pd.DataFrame(z,columns=[\"KolomKe\",\"Nama Kolom\",\"KoefisienKorelasi-Pearson\"])\n",
    "z"
   ]
  },
  {
   "cell_type": "code",
   "execution_count": 20,
   "id": "0530b802",
   "metadata": {
    "execution": {
     "iopub.execute_input": "2024-07-05T17:03:47.755232Z",
     "iopub.status.busy": "2024-07-05T17:03:47.754384Z",
     "iopub.status.idle": "2024-07-05T17:03:48.074389Z",
     "shell.execute_reply": "2024-07-05T17:03:48.073324Z"
    },
    "papermill": {
     "duration": 0.341783,
     "end_time": "2024-07-05T17:03:48.076803",
     "exception": false,
     "start_time": "2024-07-05T17:03:47.735020",
     "status": "completed"
    },
    "tags": []
   },
   "outputs": [
    {
     "data": {
      "image/png": "[encoded data removed]",
      "text/plain": [
       "<Figure size 640x480 with 1 Axes>"
      ]
     },
     "metadata": {},
     "output_type": "display_data"
    }
   ],
   "source": [
    "import matplotlib.pyplot as plt\n",
    "g=z.head(5)\n",
    "fig = plt.figure()\n",
    "\n",
    "ax = fig.add_axes([1,1, 2, 2])\n",
    "x_axis = g.iloc[:,1]\n",
    "y_axis = g.iloc[:,2]\n",
    "\n",
    "ax.bar(x_axis , y_axis, color = 'y', width = 0.5)\n",
    "\n",
    "plt.title('Korelasi Feature (Dependent Variable) dengan Target - Koefisien Pearson')\n",
    "\n",
    "plt.xlabel('Feature - Dependent variable (kolom)')\n",
    "plt.ylabel('Koefisien Pearson')\n",
    "plt.show()"
   ]
  },
  {
   "cell_type": "code",
   "execution_count": 21,
   "id": "f416612f",
   "metadata": {
    "execution": {
     "iopub.execute_input": "2024-07-05T17:03:48.117100Z",
     "iopub.status.busy": "2024-07-05T17:03:48.116703Z",
     "iopub.status.idle": "2024-07-05T17:03:48.133284Z",
     "shell.execute_reply": "2024-07-05T17:03:48.132233Z"
    },
    "papermill": {
     "duration": 0.038994,
     "end_time": "2024-07-05T17:03:48.135428",
     "exception": false,
     "start_time": "2024-07-05T17:03:48.096434",
     "status": "completed"
    },
    "tags": []
   },
   "outputs": [
    {
     "data": {
      "text/html": [
       "<div>\n",
       "<style scoped>\n",
       "    .dataframe tbody tr th:only-of-type {\n",
       "        vertical-align: middle;\n",
       "    }\n",
       "\n",
       "    .dataframe tbody tr th {\n",
       "        vertical-align: top;\n",
       "    }\n",
       "\n",
       "    .dataframe thead th {\n",
       "        text-align: right;\n",
       "    }\n",
       "</style>\n",
       "<table border=\"1\" class=\"dataframe\">\n",
       "  <thead>\n",
       "    <tr style=\"text-align: right;\">\n",
       "      <th></th>\n",
       "      <th>Sex</th>\n",
       "      <th>%Red Pixel</th>\n",
       "      <th>%Green pixel</th>\n",
       "      <th>%Blue pixel</th>\n",
       "      <th>Hb</th>\n",
       "      <th>Anaemic</th>\n",
       "    </tr>\n",
       "  </thead>\n",
       "  <tbody>\n",
       "    <tr>\n",
       "      <th>0</th>\n",
       "      <td>0</td>\n",
       "      <td>43.2555</td>\n",
       "      <td>30.8421</td>\n",
       "      <td>25.902500</td>\n",
       "      <td>6.3</td>\n",
       "      <td>1</td>\n",
       "    </tr>\n",
       "    <tr>\n",
       "      <th>1</th>\n",
       "      <td>1</td>\n",
       "      <td>45.6033</td>\n",
       "      <td>28.1900</td>\n",
       "      <td>26.206700</td>\n",
       "      <td>13.5</td>\n",
       "      <td>0</td>\n",
       "    </tr>\n",
       "    <tr>\n",
       "      <th>2</th>\n",
       "      <td>1</td>\n",
       "      <td>45.0107</td>\n",
       "      <td>28.9677</td>\n",
       "      <td>26.021500</td>\n",
       "      <td>11.7</td>\n",
       "      <td>0</td>\n",
       "    </tr>\n",
       "    <tr>\n",
       "      <th>3</th>\n",
       "      <td>1</td>\n",
       "      <td>44.5398</td>\n",
       "      <td>28.9899</td>\n",
       "      <td>26.470300</td>\n",
       "      <td>13.5</td>\n",
       "      <td>0</td>\n",
       "    </tr>\n",
       "    <tr>\n",
       "      <th>4</th>\n",
       "      <td>0</td>\n",
       "      <td>43.2870</td>\n",
       "      <td>30.6972</td>\n",
       "      <td>26.015800</td>\n",
       "      <td>12.4</td>\n",
       "      <td>0</td>\n",
       "    </tr>\n",
       "    <tr>\n",
       "      <th>...</th>\n",
       "      <td>...</td>\n",
       "      <td>...</td>\n",
       "      <td>...</td>\n",
       "      <td>...</td>\n",
       "      <td>...</td>\n",
       "      <td>...</td>\n",
       "    </tr>\n",
       "    <tr>\n",
       "      <th>99</th>\n",
       "      <td>1</td>\n",
       "      <td>49.9999</td>\n",
       "      <td>29.2860</td>\n",
       "      <td>22.158662</td>\n",
       "      <td>14.5</td>\n",
       "      <td>1</td>\n",
       "    </tr>\n",
       "    <tr>\n",
       "      <th>100</th>\n",
       "      <td>0</td>\n",
       "      <td>42.2324</td>\n",
       "      <td>30.6757</td>\n",
       "      <td>27.091900</td>\n",
       "      <td>6.3</td>\n",
       "      <td>1</td>\n",
       "    </tr>\n",
       "    <tr>\n",
       "      <th>101</th>\n",
       "      <td>1</td>\n",
       "      <td>45.6064</td>\n",
       "      <td>31.9084</td>\n",
       "      <td>22.485200</td>\n",
       "      <td>12.7</td>\n",
       "      <td>0</td>\n",
       "    </tr>\n",
       "    <tr>\n",
       "      <th>102</th>\n",
       "      <td>0</td>\n",
       "      <td>45.2095</td>\n",
       "      <td>29.2769</td>\n",
       "      <td>25.513600</td>\n",
       "      <td>13.4</td>\n",
       "      <td>0</td>\n",
       "    </tr>\n",
       "    <tr>\n",
       "      <th>103</th>\n",
       "      <td>1</td>\n",
       "      <td>43.5706</td>\n",
       "      <td>29.8094</td>\n",
       "      <td>26.619900</td>\n",
       "      <td>12.2</td>\n",
       "      <td>0</td>\n",
       "    </tr>\n",
       "  </tbody>\n",
       "</table>\n",
       "<p>104 rows × 6 columns</p>\n",
       "</div>"
      ],
      "text/plain": [
       "     Sex  %Red Pixel  %Green pixel  %Blue pixel    Hb  Anaemic\n",
       "0      0     43.2555       30.8421    25.902500   6.3        1\n",
       "1      1     45.6033       28.1900    26.206700  13.5        0\n",
       "2      1     45.0107       28.9677    26.021500  11.7        0\n",
       "3      1     44.5398       28.9899    26.470300  13.5        0\n",
       "4      0     43.2870       30.6972    26.015800  12.4        0\n",
       "..   ...         ...           ...          ...   ...      ...\n",
       "99     1     49.9999       29.2860    22.158662  14.5        1\n",
       "100    0     42.2324       30.6757    27.091900   6.3        1\n",
       "101    1     45.6064       31.9084    22.485200  12.7        0\n",
       "102    0     45.2095       29.2769    25.513600  13.4        0\n",
       "103    1     43.5706       29.8094    26.619900  12.2        0\n",
       "\n",
       "[104 rows x 6 columns]"
      ]
     },
     "execution_count": 21,
     "metadata": {},
     "output_type": "execute_result"
    }
   ],
   "source": [
    "df = df.drop([\"Number\"], axis=1)\n",
    "df"
   ]
  },
  {
   "cell_type": "markdown",
   "id": "68d4c65f",
   "metadata": {
    "papermill": {
     "duration": 0.072287,
     "end_time": "2024-07-05T17:03:48.227130",
     "exception": false,
     "start_time": "2024-07-05T17:03:48.154843",
     "status": "completed"
    },
    "tags": []
   },
   "source": [
    "# TRAIN TEST SPLIT"
   ]
  },
  {
   "cell_type": "code",
   "execution_count": 22,
   "id": "16a9c8af",
   "metadata": {
    "execution": {
     "iopub.execute_input": "2024-07-05T17:03:48.267773Z",
     "iopub.status.busy": "2024-07-05T17:03:48.267061Z",
     "iopub.status.idle": "2024-07-05T17:03:48.543144Z",
     "shell.execute_reply": "2024-07-05T17:03:48.542281Z"
    },
    "papermill": {
     "duration": 0.29915,
     "end_time": "2024-07-05T17:03:48.545645",
     "exception": false,
     "start_time": "2024-07-05T17:03:48.246495",
     "status": "completed"
    },
    "tags": []
   },
   "outputs": [],
   "source": [
    "x=df.iloc[:,:-1]\n",
    "y=df.iloc[:,-1]\n",
    "from sklearn import tree\n",
    "from sklearn import metrics\n",
    "from sklearn import preprocessing\n",
    "from sklearn.model_selection import train_test_split\n",
    "\n",
    "x_train, x_test, y_train, y_test = train_test_split(x, y, test_size = 0.2, random_state=2)"
   ]
  },
  {
   "cell_type": "markdown",
   "id": "acad4185",
   "metadata": {
    "papermill": {
     "duration": 0.018855,
     "end_time": "2024-07-05T17:03:48.583870",
     "exception": false,
     "start_time": "2024-07-05T17:03:48.565015",
     "status": "completed"
    },
    "tags": []
   },
   "source": [
    "# DECISION TREE"
   ]
  },
  {
   "cell_type": "code",
   "execution_count": 23,
   "id": "246aa9e4",
   "metadata": {
    "execution": {
     "iopub.execute_input": "2024-07-05T17:03:48.623662Z",
     "iopub.status.busy": "2024-07-05T17:03:48.623244Z",
     "iopub.status.idle": "2024-07-05T17:03:49.219661Z",
     "shell.execute_reply": "2024-07-05T17:03:49.218597Z"
    },
    "papermill": {
     "duration": 0.618922,
     "end_time": "2024-07-05T17:03:49.221853",
     "exception": false,
     "start_time": "2024-07-05T17:03:48.602931",
     "status": "completed"
    },
    "tags": []
   },
   "outputs": [
    {
     "data": {
      "image/png": "[encoded data removed]",
      "text/plain": [
       "<Figure size 640x480 with 1 Axes>"
      ]
     },
     "metadata": {},
     "output_type": "display_data"
    }
   ],
   "source": [
    "from sklearn.metrics import accuracy_score \n",
    "from sklearn.metrics import classification_report\n",
    "\n",
    "clf=tree.DecisionTreeClassifier()\n",
    "clf.fit(x_train,y_train)\n",
    "tree.plot_tree(clf)\n",
    "zeroes = 0\n",
    "ones=0\n"
   ]
  },
  {
   "cell_type": "code",
   "execution_count": 24,
   "id": "58061988",
   "metadata": {
    "execution": {
     "iopub.execute_input": "2024-07-05T17:03:49.263504Z",
     "iopub.status.busy": "2024-07-05T17:03:49.263097Z",
     "iopub.status.idle": "2024-07-05T17:03:49.268061Z",
     "shell.execute_reply": "2024-07-05T17:03:49.267084Z"
    },
    "papermill": {
     "duration": 0.028337,
     "end_time": "2024-07-05T17:03:49.270103",
     "exception": false,
     "start_time": "2024-07-05T17:03:49.241766",
     "status": "completed"
    },
    "tags": []
   },
   "outputs": [],
   "source": [
    "from sklearn.model_selection import KFold\n",
    "from sklearn.model_selection import cross_val_score\n",
    "kf = KFold(n_splits=10, shuffle=True)"
   ]
  },
  {
   "cell_type": "code",
   "execution_count": 25,
   "id": "7c7e1245",
   "metadata": {
    "execution": {
     "iopub.execute_input": "2024-07-05T17:03:49.312256Z",
     "iopub.status.busy": "2024-07-05T17:03:49.311866Z",
     "iopub.status.idle": "2024-07-05T17:03:49.382791Z",
     "shell.execute_reply": "2024-07-05T17:03:49.381420Z"
    },
    "papermill": {
     "duration": 0.096022,
     "end_time": "2024-07-05T17:03:49.386015",
     "exception": false,
     "start_time": "2024-07-05T17:03:49.289993",
     "status": "completed"
    },
    "tags": []
   },
   "outputs": [
    {
     "name": "stdout",
     "output_type": "stream",
     "text": [
      "[1.         1.         0.90909091 0.72727273 0.9        0.8\n",
      " 1.         1.         0.9        1.        ]\n",
      "rata rata KFold nya adalah:  0.9236363636363636\n"
     ]
    }
   ],
   "source": [
    "scores1 = cross_val_score(clf, x, y, cv=kf)\n",
    "print(scores1)\n",
    "print('rata rata KFold nya adalah: ',scores1.mean())"
   ]
  },
  {
   "cell_type": "code",
   "execution_count": 26,
   "id": "47093e62",
   "metadata": {
    "execution": {
     "iopub.execute_input": "2024-07-05T17:03:49.429150Z",
     "iopub.status.busy": "2024-07-05T17:03:49.428350Z",
     "iopub.status.idle": "2024-07-05T17:03:49.438784Z",
     "shell.execute_reply": "2024-07-05T17:03:49.437624Z"
    },
    "papermill": {
     "duration": 0.0348,
     "end_time": "2024-07-05T17:03:49.441305",
     "exception": false,
     "start_time": "2024-07-05T17:03:49.406505",
     "status": "completed"
    },
    "tags": []
   },
   "outputs": [
    {
     "data": {
      "text/plain": [
       "array([0, 0, 0, 1, 1, 0, 0, 0, 0, 1, 0, 0, 0, 0, 1, 0, 0, 0, 0, 0, 0])"
      ]
     },
     "execution_count": 26,
     "metadata": {},
     "output_type": "execute_result"
    }
   ],
   "source": [
    "prediksi1 = clf.predict(x_test)\n",
    "prediksi1"
   ]
  },
  {
   "cell_type": "code",
   "execution_count": 27,
   "id": "3ef3ee2e",
   "metadata": {
    "execution": {
     "iopub.execute_input": "2024-07-05T17:03:49.493244Z",
     "iopub.status.busy": "2024-07-05T17:03:49.492643Z",
     "iopub.status.idle": "2024-07-05T17:03:49.503174Z",
     "shell.execute_reply": "2024-07-05T17:03:49.501970Z"
    },
    "papermill": {
     "duration": 0.035807,
     "end_time": "2024-07-05T17:03:49.505441",
     "exception": false,
     "start_time": "2024-07-05T17:03:49.469634",
     "status": "completed"
    },
    "tags": []
   },
   "outputs": [
    {
     "name": "stdout",
     "output_type": "stream",
     "text": [
      "Accuracy Score untuk algoritma Decision Tree :  100.0 %\n"
     ]
    }
   ],
   "source": [
    "from sklearn.metrics import accuracy_score\n",
    "print('Accuracy Score untuk algoritma Decision Tree : ',accuracy_score(prediksi1,y_test)*100,'%')"
   ]
  },
  {
   "cell_type": "code",
   "execution_count": 28,
   "id": "ef2ee61f",
   "metadata": {
    "execution": {
     "iopub.execute_input": "2024-07-05T17:03:49.548364Z",
     "iopub.status.busy": "2024-07-05T17:03:49.547543Z",
     "iopub.status.idle": "2024-07-05T17:03:49.562888Z",
     "shell.execute_reply": "2024-07-05T17:03:49.561717Z"
    },
    "papermill": {
     "duration": 0.039184,
     "end_time": "2024-07-05T17:03:49.565166",
     "exception": false,
     "start_time": "2024-07-05T17:03:49.525982",
     "status": "completed"
    },
    "tags": []
   },
   "outputs": [
    {
     "name": "stdout",
     "output_type": "stream",
     "text": [
      "Accuracy: 1.0\n",
      "Classification Report:\n",
      "              precision    recall  f1-score   support\n",
      "\n",
      "           0       1.00      1.00      1.00        17\n",
      "           1       1.00      1.00      1.00         4\n",
      "\n",
      "    accuracy                           1.00        21\n",
      "   macro avg       1.00      1.00      1.00        21\n",
      "weighted avg       1.00      1.00      1.00        21\n",
      "\n"
     ]
    }
   ],
   "source": [
    "accuracy_Decision_rep = accuracy_score(y_test, prediksi1)\n",
    "classification_rep_Decision = classification_report(y_test, prediksi1)\n",
    "\n",
    "print(f'Accuracy: {accuracy_Decision_rep}')\n",
    "print(f'Classification Report:\\n{classification_rep_Decision}')"
   ]
  },
  {
   "cell_type": "markdown",
   "id": "3fff50ea",
   "metadata": {
    "papermill": {
     "duration": 0.02004,
     "end_time": "2024-07-05T17:03:49.605521",
     "exception": false,
     "start_time": "2024-07-05T17:03:49.585481",
     "status": "completed"
    },
    "tags": []
   },
   "source": [
    "# LOGISTIC REGRESSION"
   ]
  },
  {
   "cell_type": "code",
   "execution_count": 29,
   "id": "30e7f40b",
   "metadata": {
    "execution": {
     "iopub.execute_input": "2024-07-05T17:03:49.648326Z",
     "iopub.status.busy": "2024-07-05T17:03:49.647585Z",
     "iopub.status.idle": "2024-07-05T17:03:49.673114Z",
     "shell.execute_reply": "2024-07-05T17:03:49.672069Z"
    },
    "papermill": {
     "duration": 0.049472,
     "end_time": "2024-07-05T17:03:49.675481",
     "exception": false,
     "start_time": "2024-07-05T17:03:49.626009",
     "status": "completed"
    },
    "tags": []
   },
   "outputs": [
    {
     "data": {
      "text/html": [
       "<style>#sk-container-id-1 {color: black;background-color: white;}#sk-container-id-1 pre{padding: 0;}#sk-container-id-1 div.sk-toggleable {background-color: white;}#sk-container-id-1 label.sk-toggleable__label {cursor: pointer;display: block;width: 100%;margin-bottom: 0;padding: 0.3em;box-sizing: border-box;text-align: center;}#sk-container-id-1 label.sk-toggleable__label-arrow:before {content: \"▸\";float: left;margin-right: 0.25em;color: #696969;}#sk-container-id-1 label.sk-toggleable__label-arrow:hover:before {color: black;}#sk-container-id-1 div.sk-estimator:hover label.sk-toggleable__label-arrow:before {color: black;}#sk-container-id-1 div.sk-toggleable__content {max-height: 0;max-width: 0;overflow: hidden;text-align: left;background-color: #f0f8ff;}#sk-container-id-1 div.sk-toggleable__content pre {margin: 0.2em;color: black;border-radius: 0.25em;background-color: #f0f8ff;}#sk-container-id-1 input.sk-toggleable__control:checked~div.sk-toggleable__content {max-height: 200px;max-width: 100%;overflow: auto;}#sk-container-id-1 input.sk-toggleable__control:checked~label.sk-toggleable__label-arrow:before {content: \"▾\";}#sk-container-id-1 div.sk-estimator input.sk-toggleable__control:checked~label.sk-toggleable__label {background-color: #d4ebff;}#sk-container-id-1 div.sk-label input.sk-toggleable__control:checked~label.sk-toggleable__label {background-color: #d4ebff;}#sk-container-id-1 input.sk-hidden--visually {border: 0;clip: rect(1px 1px 1px 1px);clip: rect(1px, 1px, 1px, 1px);height: 1px;margin: -1px;overflow: hidden;padding: 0;position: absolute;width: 1px;}#sk-container-id-1 div.sk-estimator {font-family: monospace;background-color: #f0f8ff;border: 1px dotted black;border-radius: 0.25em;box-sizing: border-box;margin-bottom: 0.5em;}#sk-container-id-1 div.sk-estimator:hover {background-color: #d4ebff;}#sk-container-id-1 div.sk-parallel-item::after {content: \"\";width: 100%;border-bottom: 1px solid gray;flex-grow: 1;}#sk-container-id-1 div.sk-label:hover label.sk-toggleable__label {background-color: #d4ebff;}#sk-container-id-1 div.sk-serial::before {content: \"\";position: absolute;border-left: 1px solid gray;box-sizing: border-box;top: 0;bottom: 0;left: 50%;z-index: 0;}#sk-container-id-1 div.sk-serial {display: flex;flex-direction: column;align-items: center;background-color: white;padding-right: 0.2em;padding-left: 0.2em;position: relative;}#sk-container-id-1 div.sk-item {position: relative;z-index: 1;}#sk-container-id-1 div.sk-parallel {display: flex;align-items: stretch;justify-content: center;background-color: white;position: relative;}#sk-container-id-1 div.sk-item::before, #sk-container-id-1 div.sk-parallel-item::before {content: \"\";position: absolute;border-left: 1px solid gray;box-sizing: border-box;top: 0;bottom: 0;left: 50%;z-index: -1;}#sk-container-id-1 div.sk-parallel-item {display: flex;flex-direction: column;z-index: 1;position: relative;background-color: white;}#sk-container-id-1 div.sk-parallel-item:first-child::after {align-self: flex-end;width: 50%;}#sk-container-id-1 div.sk-parallel-item:last-child::after {align-self: flex-start;width: 50%;}#sk-container-id-1 div.sk-parallel-item:only-child::after {width: 0;}#sk-container-id-1 div.sk-dashed-wrapped {border: 1px dashed gray;margin: 0 0.4em 0.5em 0.4em;box-sizing: border-box;padding-bottom: 0.4em;background-color: white;}#sk-container-id-1 div.sk-label label {font-family: monospace;font-weight: bold;display: inline-block;line-height: 1.2em;}#sk-container-id-1 div.sk-label-container {text-align: center;}#sk-container-id-1 div.sk-container {/* jupyter's `normalize.less` sets `[hidden] { display: none; }` but bootstrap.min.css set `[hidden] { display: none !important; }` so we also need the `!important` here to be able to override the default hidden behavior on the sphinx rendered scikit-learn.org. See: https://github.com/scikit-learn/scikit-learn/issues/21755 */display: inline-block !important;position: relative;}#sk-container-id-1 div.sk-text-repr-fallback {display: none;}</style><div id=\"sk-container-id-1\" class=\"sk-top-container\"><div class=\"sk-text-repr-fallback\"><pre>LogisticRegression()</pre><b>In a Jupyter environment, please rerun this cell to show the HTML representation or trust the notebook. <br />On GitHub, the HTML representation is unable to render, please try loading this page with nbviewer.org.</b></div><div class=\"sk-container\" hidden><div class=\"sk-item\"><div class=\"sk-estimator sk-toggleable\"><input class=\"sk-toggleable__control sk-hidden--visually\" id=\"sk-estimator-id-1\" type=\"checkbox\" checked><label for=\"sk-estimator-id-1\" class=\"sk-toggleable__label sk-toggleable__label-arrow\">LogisticRegression</label><div class=\"sk-toggleable__content\"><pre>LogisticRegression()</pre></div></div></div></div></div>"
      ],
      "text/plain": [
       "LogisticRegression()"
      ]
     },
     "execution_count": 29,
     "metadata": {},
     "output_type": "execute_result"
    }
   ],
   "source": [
    "from warnings import simplefilter\n",
    "from sklearn.exceptions import ConvergenceWarning\n",
    "simplefilter(\"ignore\", category=ConvergenceWarning)\n",
    "from sklearn.metrics import accuracy_score\n",
    "from sklearn.linear_model import LogisticRegression\n",
    "classifier = LogisticRegression()\n",
    "classifier.fit(x_train, y_train)"
   ]
  },
  {
   "cell_type": "code",
   "execution_count": 30,
   "id": "cc8ce60b",
   "metadata": {
    "execution": {
     "iopub.execute_input": "2024-07-05T17:03:49.721344Z",
     "iopub.status.busy": "2024-07-05T17:03:49.720842Z",
     "iopub.status.idle": "2024-07-05T17:03:49.877614Z",
     "shell.execute_reply": "2024-07-05T17:03:49.876556Z"
    },
    "papermill": {
     "duration": 0.183426,
     "end_time": "2024-07-05T17:03:49.880041",
     "exception": false,
     "start_time": "2024-07-05T17:03:49.696615",
     "status": "completed"
    },
    "tags": []
   },
   "outputs": [
    {
     "name": "stdout",
     "output_type": "stream",
     "text": [
      "[1.         1.         1.         0.90909091 1.         0.9\n",
      " 1.         1.         0.9        1.        ]\n",
      "rata rata KFold nya adalah:  0.9709090909090909\n"
     ]
    }
   ],
   "source": [
    "scores2 = cross_val_score(classifier, x, y, cv=kf)\n",
    "print(scores2)\n",
    "print('rata rata KFold nya adalah: ',scores2.mean())"
   ]
  },
  {
   "cell_type": "code",
   "execution_count": 31,
   "id": "77f0bd94",
   "metadata": {
    "execution": {
     "iopub.execute_input": "2024-07-05T17:03:49.923510Z",
     "iopub.status.busy": "2024-07-05T17:03:49.923109Z",
     "iopub.status.idle": "2024-07-05T17:03:49.931571Z",
     "shell.execute_reply": "2024-07-05T17:03:49.930595Z"
    },
    "papermill": {
     "duration": 0.032755,
     "end_time": "2024-07-05T17:03:49.933666",
     "exception": false,
     "start_time": "2024-07-05T17:03:49.900911",
     "status": "completed"
    },
    "tags": []
   },
   "outputs": [
    {
     "data": {
      "text/plain": [
       "array([0, 0, 0, 1, 1, 0, 0, 0, 0, 1, 0, 0, 0, 0, 1, 0, 0, 0, 0, 0, 0])"
      ]
     },
     "execution_count": 31,
     "metadata": {},
     "output_type": "execute_result"
    }
   ],
   "source": [
    "y_predlog = classifier.predict(x_test)\n",
    "y_predlog"
   ]
  },
  {
   "cell_type": "code",
   "execution_count": 32,
   "id": "84b47fad",
   "metadata": {
    "execution": {
     "iopub.execute_input": "2024-07-05T17:03:49.977884Z",
     "iopub.status.busy": "2024-07-05T17:03:49.977511Z",
     "iopub.status.idle": "2024-07-05T17:03:49.984016Z",
     "shell.execute_reply": "2024-07-05T17:03:49.983025Z"
    },
    "papermill": {
     "duration": 0.031106,
     "end_time": "2024-07-05T17:03:49.986032",
     "exception": false,
     "start_time": "2024-07-05T17:03:49.954926",
     "status": "completed"
    },
    "tags": []
   },
   "outputs": [
    {
     "name": "stdout",
     "output_type": "stream",
     "text": [
      "Akurasi menggunkan algoritma logistic Regression adalah : 100.0 %\n"
     ]
    }
   ],
   "source": [
    "accuracylog = accuracy_score(y_test, y_predlog)\n",
    "print('Akurasi menggunkan algoritma logistic Regression adalah :', (accuracylog)*100,'%')"
   ]
  },
  {
   "cell_type": "code",
   "execution_count": 33,
   "id": "7c32a0d3",
   "metadata": {
    "execution": {
     "iopub.execute_input": "2024-07-05T17:03:50.029992Z",
     "iopub.status.busy": "2024-07-05T17:03:50.028976Z",
     "iopub.status.idle": "2024-07-05T17:03:50.045713Z",
     "shell.execute_reply": "2024-07-05T17:03:50.044427Z"
    },
    "papermill": {
     "duration": 0.041314,
     "end_time": "2024-07-05T17:03:50.048182",
     "exception": false,
     "start_time": "2024-07-05T17:03:50.006868",
     "status": "completed"
    },
    "tags": []
   },
   "outputs": [
    {
     "name": "stdout",
     "output_type": "stream",
     "text": [
      "Accuracy: 1.0\n",
      "Classification Report:\n",
      "              precision    recall  f1-score   support\n",
      "\n",
      "           0       1.00      1.00      1.00        17\n",
      "           1       1.00      1.00      1.00         4\n",
      "\n",
      "    accuracy                           1.00        21\n",
      "   macro avg       1.00      1.00      1.00        21\n",
      "weighted avg       1.00      1.00      1.00        21\n",
      "\n"
     ]
    }
   ],
   "source": [
    "accuracy_LOG_rep = accuracy_score(y_test, y_predlog)\n",
    "classification_rep_LOG = classification_report(y_test, y_predlog)\n",
    "\n",
    "print(f'Accuracy: {accuracy_LOG_rep}')\n",
    "print(f'Classification Report:\\n{classification_rep_LOG}')"
   ]
  },
  {
   "cell_type": "markdown",
   "id": "59c1fe61",
   "metadata": {
    "papermill": {
     "duration": 0.020876,
     "end_time": "2024-07-05T17:03:50.091558",
     "exception": false,
     "start_time": "2024-07-05T17:03:50.070682",
     "status": "completed"
    },
    "tags": []
   },
   "source": [
    "# NAIVE BAYES"
   ]
  },
  {
   "cell_type": "code",
   "execution_count": 34,
   "id": "3251c9d2",
   "metadata": {
    "execution": {
     "iopub.execute_input": "2024-07-05T17:03:50.139360Z",
     "iopub.status.busy": "2024-07-05T17:03:50.138361Z",
     "iopub.status.idle": "2024-07-05T17:03:50.156215Z",
     "shell.execute_reply": "2024-07-05T17:03:50.155078Z"
    },
    "papermill": {
     "duration": 0.046184,
     "end_time": "2024-07-05T17:03:50.159187",
     "exception": false,
     "start_time": "2024-07-05T17:03:50.113003",
     "status": "completed"
    },
    "tags": []
   },
   "outputs": [
    {
     "data": {
      "text/plain": [
       "array([0, 0, 0, 1, 1, 0, 0, 0, 0, 1, 0, 0, 0, 0, 1, 0, 0, 0, 0, 0, 0])"
      ]
     },
     "execution_count": 34,
     "metadata": {},
     "output_type": "execute_result"
    }
   ],
   "source": [
    "from sklearn.naive_bayes import GaussianNB\n",
    "nb = GaussianNB()\n",
    "nb.fit(x_train, y_train)\n",
    "y_prednaive = nb.predict(x_test)\n",
    "y_prednaive"
   ]
  },
  {
   "cell_type": "code",
   "execution_count": 35,
   "id": "a44e8a8f",
   "metadata": {
    "execution": {
     "iopub.execute_input": "2024-07-05T17:03:50.224190Z",
     "iopub.status.busy": "2024-07-05T17:03:50.223776Z",
     "iopub.status.idle": "2024-07-05T17:03:50.284869Z",
     "shell.execute_reply": "2024-07-05T17:03:50.283569Z"
    },
    "papermill": {
     "duration": 0.092936,
     "end_time": "2024-07-05T17:03:50.287130",
     "exception": false,
     "start_time": "2024-07-05T17:03:50.194194",
     "status": "completed"
    },
    "tags": []
   },
   "outputs": [
    {
     "name": "stdout",
     "output_type": "stream",
     "text": [
      "[0.90909091 0.81818182 0.90909091 0.90909091 0.9        1.\n",
      " 1.         0.9        1.         1.        ]\n",
      "rata rata KFold nya adalah:  0.9345454545454546\n"
     ]
    }
   ],
   "source": [
    "scores3 = cross_val_score(nb, x, y, cv=kf)\n",
    "print(scores3)\n",
    "print('rata rata KFold nya adalah: ',scores3.mean())"
   ]
  },
  {
   "cell_type": "code",
   "execution_count": 36,
   "id": "af01a17b",
   "metadata": {
    "execution": {
     "iopub.execute_input": "2024-07-05T17:03:50.331147Z",
     "iopub.status.busy": "2024-07-05T17:03:50.330764Z",
     "iopub.status.idle": "2024-07-05T17:03:50.338356Z",
     "shell.execute_reply": "2024-07-05T17:03:50.337249Z"
    },
    "papermill": {
     "duration": 0.031895,
     "end_time": "2024-07-05T17:03:50.340373",
     "exception": false,
     "start_time": "2024-07-05T17:03:50.308478",
     "status": "completed"
    },
    "tags": []
   },
   "outputs": [
    {
     "name": "stdout",
     "output_type": "stream",
     "text": [
      "Akurasi menggunakan algoritma naive bayes : 100.0 %\n"
     ]
    }
   ],
   "source": [
    "accuracynavie = accuracy_score(y_test, y_prednaive)\n",
    "print(\"Akurasi menggunakan algoritma naive bayes :\", (accuracynavie)*100,'%')"
   ]
  },
  {
   "cell_type": "code",
   "execution_count": 37,
   "id": "584ff3ad",
   "metadata": {
    "execution": {
     "iopub.execute_input": "2024-07-05T17:03:50.386480Z",
     "iopub.status.busy": "2024-07-05T17:03:50.385633Z",
     "iopub.status.idle": "2024-07-05T17:03:50.399338Z",
     "shell.execute_reply": "2024-07-05T17:03:50.398356Z"
    },
    "papermill": {
     "duration": 0.040229,
     "end_time": "2024-07-05T17:03:50.401689",
     "exception": false,
     "start_time": "2024-07-05T17:03:50.361460",
     "status": "completed"
    },
    "tags": []
   },
   "outputs": [
    {
     "name": "stdout",
     "output_type": "stream",
     "text": [
      "Accuracy: 1.0\n",
      "Classification Report:\n",
      "              precision    recall  f1-score   support\n",
      "\n",
      "           0       1.00      1.00      1.00        17\n",
      "           1       1.00      1.00      1.00         4\n",
      "\n",
      "    accuracy                           1.00        21\n",
      "   macro avg       1.00      1.00      1.00        21\n",
      "weighted avg       1.00      1.00      1.00        21\n",
      "\n"
     ]
    }
   ],
   "source": [
    "accuracy_Naive_rep = accuracy_score(y_test, y_prednaive)\n",
    "classification_rep_Naive = classification_report(y_test, y_prednaive)\n",
    "\n",
    "print(f'Accuracy: {accuracy_Naive_rep}')\n",
    "print(f'Classification Report:\\n{classification_rep_Naive}')"
   ]
  },
  {
   "cell_type": "markdown",
   "id": "fedeca2c",
   "metadata": {
    "papermill": {
     "duration": 0.021123,
     "end_time": "2024-07-05T17:03:50.444078",
     "exception": false,
     "start_time": "2024-07-05T17:03:50.422955",
     "status": "completed"
    },
    "tags": []
   },
   "source": [
    "# KNN"
   ]
  },
  {
   "cell_type": "code",
   "execution_count": 38,
   "id": "0858c69e",
   "metadata": {
    "execution": {
     "iopub.execute_input": "2024-07-05T17:03:50.488451Z",
     "iopub.status.busy": "2024-07-05T17:03:50.488015Z",
     "iopub.status.idle": "2024-07-05T17:03:50.504162Z",
     "shell.execute_reply": "2024-07-05T17:03:50.503156Z"
    },
    "papermill": {
     "duration": 0.041107,
     "end_time": "2024-07-05T17:03:50.506349",
     "exception": false,
     "start_time": "2024-07-05T17:03:50.465242",
     "status": "completed"
    },
    "tags": []
   },
   "outputs": [
    {
     "data": {
      "text/plain": [
       "array([0, 0, 0, 1, 1, 0, 0, 0, 0, 1, 0, 0, 0, 0, 1, 0, 0, 0, 0, 0, 0])"
      ]
     },
     "execution_count": 38,
     "metadata": {},
     "output_type": "execute_result"
    }
   ],
   "source": [
    "from sklearn.neighbors import KNeighborsClassifier\n",
    "knn = KNeighborsClassifier(n_neighbors=3)\n",
    "knn.fit(x_train, y_train)\n",
    "y_predknn = knn.predict(x_test)\n",
    "y_predknn"
   ]
  },
  {
   "cell_type": "code",
   "execution_count": 39,
   "id": "8dc33e1e",
   "metadata": {
    "execution": {
     "iopub.execute_input": "2024-07-05T17:03:50.552002Z",
     "iopub.status.busy": "2024-07-05T17:03:50.551633Z",
     "iopub.status.idle": "2024-07-05T17:03:50.624990Z",
     "shell.execute_reply": "2024-07-05T17:03:50.623812Z"
    },
    "papermill": {
     "duration": 0.099428,
     "end_time": "2024-07-05T17:03:50.627496",
     "exception": false,
     "start_time": "2024-07-05T17:03:50.528068",
     "status": "completed"
    },
    "tags": []
   },
   "outputs": [
    {
     "name": "stdout",
     "output_type": "stream",
     "text": [
      "[1.         1.         0.90909091 0.81818182 1.         1.\n",
      " 0.9        0.9        0.9        0.9       ]\n",
      "rata rata KFold nya adalah:  0.9327272727272728\n"
     ]
    }
   ],
   "source": [
    "scores4 = cross_val_score(knn, x, y, cv=kf)\n",
    "print(scores4)\n",
    "print('rata rata KFold nya adalah: ',scores4.mean())"
   ]
  },
  {
   "cell_type": "code",
   "execution_count": 40,
   "id": "ad28c896",
   "metadata": {
    "execution": {
     "iopub.execute_input": "2024-07-05T17:03:50.672147Z",
     "iopub.status.busy": "2024-07-05T17:03:50.671433Z",
     "iopub.status.idle": "2024-07-05T17:03:50.677965Z",
     "shell.execute_reply": "2024-07-05T17:03:50.676963Z"
    },
    "papermill": {
     "duration": 0.031485,
     "end_time": "2024-07-05T17:03:50.680469",
     "exception": false,
     "start_time": "2024-07-05T17:03:50.648984",
     "status": "completed"
    },
    "tags": []
   },
   "outputs": [
    {
     "name": "stdout",
     "output_type": "stream",
     "text": [
      "akurasi untuk penggunaan algoritma KNN adalah : 100.0 %\n"
     ]
    }
   ],
   "source": [
    "accuracyknn = accuracy_score(y_test, y_predknn)\n",
    "print('akurasi untuk penggunaan algoritma KNN adalah :',(accuracyknn)*100,'%')"
   ]
  },
  {
   "cell_type": "code",
   "execution_count": 41,
   "id": "5ed11550",
   "metadata": {
    "execution": {
     "iopub.execute_input": "2024-07-05T17:03:50.725018Z",
     "iopub.status.busy": "2024-07-05T17:03:50.724649Z",
     "iopub.status.idle": "2024-07-05T17:03:50.739439Z",
     "shell.execute_reply": "2024-07-05T17:03:50.738124Z"
    },
    "papermill": {
     "duration": 0.03954,
     "end_time": "2024-07-05T17:03:50.741506",
     "exception": false,
     "start_time": "2024-07-05T17:03:50.701966",
     "status": "completed"
    },
    "tags": []
   },
   "outputs": [
    {
     "name": "stdout",
     "output_type": "stream",
     "text": [
      "Accuracy: 1.0\n",
      "Classification Report:\n",
      "              precision    recall  f1-score   support\n",
      "\n",
      "           0       1.00      1.00      1.00        17\n",
      "           1       1.00      1.00      1.00         4\n",
      "\n",
      "    accuracy                           1.00        21\n",
      "   macro avg       1.00      1.00      1.00        21\n",
      "weighted avg       1.00      1.00      1.00        21\n",
      "\n"
     ]
    }
   ],
   "source": [
    "accuracy_KNN_rep = accuracy_score(y_test, y_predknn)\n",
    "classification_rep_KNN = classification_report(y_test, y_predknn)\n",
    "\n",
    "print(f'Accuracy: {accuracy_KNN_rep}')\n",
    "print(f'Classification Report:\\n{classification_rep_KNN}')"
   ]
  },
  {
   "cell_type": "markdown",
   "id": "db210bec",
   "metadata": {
    "papermill": {
     "duration": 0.021047,
     "end_time": "2024-07-05T17:03:50.784499",
     "exception": false,
     "start_time": "2024-07-05T17:03:50.763452",
     "status": "completed"
    },
    "tags": []
   },
   "source": [
    "# LINEAR DESCRIMINANT ANALYSIST LDA"
   ]
  },
  {
   "cell_type": "code",
   "execution_count": 42,
   "id": "cde46115",
   "metadata": {
    "execution": {
     "iopub.execute_input": "2024-07-05T17:03:50.829694Z",
     "iopub.status.busy": "2024-07-05T17:03:50.829329Z",
     "iopub.status.idle": "2024-07-05T17:03:50.859930Z",
     "shell.execute_reply": "2024-07-05T17:03:50.858990Z"
    },
    "papermill": {
     "duration": 0.056051,
     "end_time": "2024-07-05T17:03:50.862200",
     "exception": false,
     "start_time": "2024-07-05T17:03:50.806149",
     "status": "completed"
    },
    "tags": []
   },
   "outputs": [
    {
     "data": {
      "text/plain": [
       "array([0, 0, 0, 1, 1, 0, 0, 0, 0, 1, 0, 0, 0, 0, 1, 0, 0, 0, 0, 0, 0])"
      ]
     },
     "execution_count": 42,
     "metadata": {},
     "output_type": "execute_result"
    }
   ],
   "source": [
    "from sklearn.discriminant_analysis import LinearDiscriminantAnalysis\n",
    "lda = LinearDiscriminantAnalysis()\n",
    "lda.fit(x_train, y_train)\n",
    "y_predLDA = lda.predict(x_test)\n",
    "accuracyLDA = accuracy_score(y_test, y_predLDA)\n",
    "y_predLDA"
   ]
  },
  {
   "cell_type": "code",
   "execution_count": 43,
   "id": "5e25b585",
   "metadata": {
    "execution": {
     "iopub.execute_input": "2024-07-05T17:03:50.907541Z",
     "iopub.status.busy": "2024-07-05T17:03:50.907013Z",
     "iopub.status.idle": "2024-07-05T17:03:50.967011Z",
     "shell.execute_reply": "2024-07-05T17:03:50.965644Z"
    },
    "papermill": {
     "duration": 0.085364,
     "end_time": "2024-07-05T17:03:50.969383",
     "exception": false,
     "start_time": "2024-07-05T17:03:50.884019",
     "status": "completed"
    },
    "tags": []
   },
   "outputs": [
    {
     "name": "stdout",
     "output_type": "stream",
     "text": [
      "[0.90909091 0.90909091 1.         1.         1.         0.9\n",
      " 1.         1.         0.9        1.        ]\n",
      "rata rata KFold nya adalah:  0.9618181818181819\n"
     ]
    }
   ],
   "source": [
    "scores5 = cross_val_score(lda, x, y, cv=kf)\n",
    "print(scores5)\n",
    "print('rata rata KFold nya adalah: ',scores5.mean())"
   ]
  },
  {
   "cell_type": "code",
   "execution_count": 44,
   "id": "827b8649",
   "metadata": {
    "execution": {
     "iopub.execute_input": "2024-07-05T17:03:51.015806Z",
     "iopub.status.busy": "2024-07-05T17:03:51.014898Z",
     "iopub.status.idle": "2024-07-05T17:03:51.020148Z",
     "shell.execute_reply": "2024-07-05T17:03:51.019167Z"
    },
    "papermill": {
     "duration": 0.031077,
     "end_time": "2024-07-05T17:03:51.022799",
     "exception": false,
     "start_time": "2024-07-05T17:03:50.991722",
     "status": "completed"
    },
    "tags": []
   },
   "outputs": [
    {
     "name": "stdout",
     "output_type": "stream",
     "text": [
      "Akurasi untuk penggunaan algoritma Linear Discriminant Analysis: 100.0 %\n"
     ]
    }
   ],
   "source": [
    "print(\"Akurasi untuk penggunaan algoritma Linear Discriminant Analysis:\", (accuracyLDA)*100,'%')"
   ]
  },
  {
   "cell_type": "code",
   "execution_count": 45,
   "id": "a7a42250",
   "metadata": {
    "execution": {
     "iopub.execute_input": "2024-07-05T17:03:51.068158Z",
     "iopub.status.busy": "2024-07-05T17:03:51.067800Z",
     "iopub.status.idle": "2024-07-05T17:03:51.083227Z",
     "shell.execute_reply": "2024-07-05T17:03:51.081829Z"
    },
    "papermill": {
     "duration": 0.040612,
     "end_time": "2024-07-05T17:03:51.085365",
     "exception": false,
     "start_time": "2024-07-05T17:03:51.044753",
     "status": "completed"
    },
    "tags": []
   },
   "outputs": [
    {
     "name": "stdout",
     "output_type": "stream",
     "text": [
      "Accuracy: 1.0\n",
      "Classification Report:\n",
      "              precision    recall  f1-score   support\n",
      "\n",
      "           0       1.00      1.00      1.00        17\n",
      "           1       1.00      1.00      1.00         4\n",
      "\n",
      "    accuracy                           1.00        21\n",
      "   macro avg       1.00      1.00      1.00        21\n",
      "weighted avg       1.00      1.00      1.00        21\n",
      "\n"
     ]
    }
   ],
   "source": [
    "accuracy_LDA_rep = accuracy_score(y_test, y_predLDA)\n",
    "classification_rep_LDA = classification_report(y_test, y_predLDA)\n",
    "\n",
    "print(f'Accuracy: {accuracy_LDA_rep}')\n",
    "print(f'Classification Report:\\n{classification_rep_LDA}')"
   ]
  },
  {
   "cell_type": "markdown",
   "id": "16a9d7e2",
   "metadata": {
    "papermill": {
     "duration": 0.021659,
     "end_time": "2024-07-05T17:03:51.129088",
     "exception": false,
     "start_time": "2024-07-05T17:03:51.107429",
     "status": "completed"
    },
    "tags": []
   },
   "source": [
    "# EXTRA TRESS CLASIFIER"
   ]
  },
  {
   "cell_type": "code",
   "execution_count": 46,
   "id": "d65a9bcb",
   "metadata": {
    "execution": {
     "iopub.execute_input": "2024-07-05T17:03:51.174727Z",
     "iopub.status.busy": "2024-07-05T17:03:51.174333Z",
     "iopub.status.idle": "2024-07-05T17:03:51.371870Z",
     "shell.execute_reply": "2024-07-05T17:03:51.370650Z"
    },
    "papermill": {
     "duration": 0.223675,
     "end_time": "2024-07-05T17:03:51.374873",
     "exception": false,
     "start_time": "2024-07-05T17:03:51.151198",
     "status": "completed"
    },
    "tags": []
   },
   "outputs": [
    {
     "data": {
      "text/plain": [
       "array([0, 0, 0, 1, 1, 0, 0, 0, 0, 1, 0, 0, 0, 0, 1, 0, 0, 0, 0, 0, 0])"
      ]
     },
     "execution_count": 46,
     "metadata": {},
     "output_type": "execute_result"
    }
   ],
   "source": [
    "from sklearn.ensemble import ExtraTreesClassifier\n",
    "model = ExtraTreesClassifier(n_estimators=100, random_state=0)\n",
    "model.fit(x_train, y_train)\n",
    "y_predETC = model.predict(x_test)\n",
    "accuracyETC = accuracy_score(y_test, y_predETC)\n",
    "y_predETC"
   ]
  },
  {
   "cell_type": "code",
   "execution_count": 47,
   "id": "037431ca",
   "metadata": {
    "execution": {
     "iopub.execute_input": "2024-07-05T17:03:51.421292Z",
     "iopub.status.busy": "2024-07-05T17:03:51.420889Z",
     "iopub.status.idle": "2024-07-05T17:03:52.738706Z",
     "shell.execute_reply": "2024-07-05T17:03:52.737667Z"
    },
    "papermill": {
     "duration": 1.343891,
     "end_time": "2024-07-05T17:03:52.741375",
     "exception": false,
     "start_time": "2024-07-05T17:03:51.397484",
     "status": "completed"
    },
    "tags": []
   },
   "outputs": [
    {
     "name": "stdout",
     "output_type": "stream",
     "text": [
      "[1.         1.         0.72727273 1.         0.9        0.9\n",
      " 1.         1.         1.         0.8       ]\n",
      "rata rata nya adalah:  0.9327272727272728\n"
     ]
    }
   ],
   "source": [
    "scores6 = cross_val_score(model, x, y, cv=kf)\n",
    "print(scores6)\n",
    "print('rata rata nya adalah: ',scores6.mean())"
   ]
  },
  {
   "cell_type": "code",
   "execution_count": 48,
   "id": "b3f25571",
   "metadata": {
    "execution": {
     "iopub.execute_input": "2024-07-05T17:03:52.788801Z",
     "iopub.status.busy": "2024-07-05T17:03:52.788376Z",
     "iopub.status.idle": "2024-07-05T17:03:52.793942Z",
     "shell.execute_reply": "2024-07-05T17:03:52.792982Z"
    },
    "papermill": {
     "duration": 0.03272,
     "end_time": "2024-07-05T17:03:52.796593",
     "exception": false,
     "start_time": "2024-07-05T17:03:52.763873",
     "status": "completed"
    },
    "tags": []
   },
   "outputs": [
    {
     "name": "stdout",
     "output_type": "stream",
     "text": [
      "Akurasi untuk penggunaan algoritma ExtraTreesClassifier : 100.0 %\n"
     ]
    }
   ],
   "source": [
    "print(\"Akurasi untuk penggunaan algoritma ExtraTreesClassifier :\", (accuracyETC)*100,'%')"
   ]
  },
  {
   "cell_type": "code",
   "execution_count": 49,
   "id": "dda7d2e3",
   "metadata": {
    "execution": {
     "iopub.execute_input": "2024-07-05T17:03:52.844329Z",
     "iopub.status.busy": "2024-07-05T17:03:52.843149Z",
     "iopub.status.idle": "2024-07-05T17:03:52.858450Z",
     "shell.execute_reply": "2024-07-05T17:03:52.857273Z"
    },
    "papermill": {
     "duration": 0.041658,
     "end_time": "2024-07-05T17:03:52.860748",
     "exception": false,
     "start_time": "2024-07-05T17:03:52.819090",
     "status": "completed"
    },
    "tags": []
   },
   "outputs": [
    {
     "name": "stdout",
     "output_type": "stream",
     "text": [
      "Accuracy: 1.0\n",
      "Classification Report:\n",
      "              precision    recall  f1-score   support\n",
      "\n",
      "           0       1.00      1.00      1.00        17\n",
      "           1       1.00      1.00      1.00         4\n",
      "\n",
      "    accuracy                           1.00        21\n",
      "   macro avg       1.00      1.00      1.00        21\n",
      "weighted avg       1.00      1.00      1.00        21\n",
      "\n"
     ]
    }
   ],
   "source": [
    "accuracy_ETC_rep = accuracy_score(y_test, y_predETC)\n",
    "classification_rep_ETC = classification_report(y_test, y_predETC)\n",
    "\n",
    "print(f'Accuracy: {accuracy_ETC_rep}')\n",
    "print(f'Classification Report:\\n{classification_rep_ETC}')"
   ]
  },
  {
   "cell_type": "markdown",
   "id": "b65414a9",
   "metadata": {
    "papermill": {
     "duration": 0.021948,
     "end_time": "2024-07-05T17:03:52.905186",
     "exception": false,
     "start_time": "2024-07-05T17:03:52.883238",
     "status": "completed"
    },
    "tags": []
   },
   "source": [
    "# RANDOM FOREST"
   ]
  },
  {
   "cell_type": "code",
   "execution_count": 50,
   "id": "3247ee46",
   "metadata": {
    "execution": {
     "iopub.execute_input": "2024-07-05T17:03:52.951925Z",
     "iopub.status.busy": "2024-07-05T17:03:52.951110Z",
     "iopub.status.idle": "2024-07-05T17:03:53.002455Z",
     "shell.execute_reply": "2024-07-05T17:03:53.001354Z"
    },
    "papermill": {
     "duration": 0.077162,
     "end_time": "2024-07-05T17:03:53.004676",
     "exception": false,
     "start_time": "2024-07-05T17:03:52.927514",
     "status": "completed"
    },
    "tags": []
   },
   "outputs": [
    {
     "data": {
      "text/html": [
       "<style>#sk-container-id-2 {color: black;background-color: white;}#sk-container-id-2 pre{padding: 0;}#sk-container-id-2 div.sk-toggleable {background-color: white;}#sk-container-id-2 label.sk-toggleable__label {cursor: pointer;display: block;width: 100%;margin-bottom: 0;padding: 0.3em;box-sizing: border-box;text-align: center;}#sk-container-id-2 label.sk-toggleable__label-arrow:before {content: \"▸\";float: left;margin-right: 0.25em;color: #696969;}#sk-container-id-2 label.sk-toggleable__label-arrow:hover:before {color: black;}#sk-container-id-2 div.sk-estimator:hover label.sk-toggleable__label-arrow:before {color: black;}#sk-container-id-2 div.sk-toggleable__content {max-height: 0;max-width: 0;overflow: hidden;text-align: left;background-color: #f0f8ff;}#sk-container-id-2 div.sk-toggleable__content pre {margin: 0.2em;color: black;border-radius: 0.25em;background-color: #f0f8ff;}#sk-container-id-2 input.sk-toggleable__control:checked~div.sk-toggleable__content {max-height: 200px;max-width: 100%;overflow: auto;}#sk-container-id-2 input.sk-toggleable__control:checked~label.sk-toggleable__label-arrow:before {content: \"▾\";}#sk-container-id-2 div.sk-estimator input.sk-toggleable__control:checked~label.sk-toggleable__label {background-color: #d4ebff;}#sk-container-id-2 div.sk-label input.sk-toggleable__control:checked~label.sk-toggleable__label {background-color: #d4ebff;}#sk-container-id-2 input.sk-hidden--visually {border: 0;clip: rect(1px 1px 1px 1px);clip: rect(1px, 1px, 1px, 1px);height: 1px;margin: -1px;overflow: hidden;padding: 0;position: absolute;width: 1px;}#sk-container-id-2 div.sk-estimator {font-family: monospace;background-color: #f0f8ff;border: 1px dotted black;border-radius: 0.25em;box-sizing: border-box;margin-bottom: 0.5em;}#sk-container-id-2 div.sk-estimator:hover {background-color: #d4ebff;}#sk-container-id-2 div.sk-parallel-item::after {content: \"\";width: 100%;border-bottom: 1px solid gray;flex-grow: 1;}#sk-container-id-2 div.sk-label:hover label.sk-toggleable__label {background-color: #d4ebff;}#sk-container-id-2 div.sk-serial::before {content: \"\";position: absolute;border-left: 1px solid gray;box-sizing: border-box;top: 0;bottom: 0;left: 50%;z-index: 0;}#sk-container-id-2 div.sk-serial {display: flex;flex-direction: column;align-items: center;background-color: white;padding-right: 0.2em;padding-left: 0.2em;position: relative;}#sk-container-id-2 div.sk-item {position: relative;z-index: 1;}#sk-container-id-2 div.sk-parallel {display: flex;align-items: stretch;justify-content: center;background-color: white;position: relative;}#sk-container-id-2 div.sk-item::before, #sk-container-id-2 div.sk-parallel-item::before {content: \"\";position: absolute;border-left: 1px solid gray;box-sizing: border-box;top: 0;bottom: 0;left: 50%;z-index: -1;}#sk-container-id-2 div.sk-parallel-item {display: flex;flex-direction: column;z-index: 1;position: relative;background-color: white;}#sk-container-id-2 div.sk-parallel-item:first-child::after {align-self: flex-end;width: 50%;}#sk-container-id-2 div.sk-parallel-item:last-child::after {align-self: flex-start;width: 50%;}#sk-container-id-2 div.sk-parallel-item:only-child::after {width: 0;}#sk-container-id-2 div.sk-dashed-wrapped {border: 1px dashed gray;margin: 0 0.4em 0.5em 0.4em;box-sizing: border-box;padding-bottom: 0.4em;background-color: white;}#sk-container-id-2 div.sk-label label {font-family: monospace;font-weight: bold;display: inline-block;line-height: 1.2em;}#sk-container-id-2 div.sk-label-container {text-align: center;}#sk-container-id-2 div.sk-container {/* jupyter's `normalize.less` sets `[hidden] { display: none; }` but bootstrap.min.css set `[hidden] { display: none !important; }` so we also need the `!important` here to be able to override the default hidden behavior on the sphinx rendered scikit-learn.org. See: https://github.com/scikit-learn/scikit-learn/issues/21755 */display: inline-block !important;position: relative;}#sk-container-id-2 div.sk-text-repr-fallback {display: none;}</style><div id=\"sk-container-id-2\" class=\"sk-top-container\"><div class=\"sk-text-repr-fallback\"><pre>RandomForestClassifier(n_estimators=25, random_state=2)</pre><b>In a Jupyter environment, please rerun this cell to show the HTML representation or trust the notebook. <br />On GitHub, the HTML representation is unable to render, please try loading this page with nbviewer.org.</b></div><div class=\"sk-container\" hidden><div class=\"sk-item\"><div class=\"sk-estimator sk-toggleable\"><input class=\"sk-toggleable__control sk-hidden--visually\" id=\"sk-estimator-id-2\" type=\"checkbox\" checked><label for=\"sk-estimator-id-2\" class=\"sk-toggleable__label sk-toggleable__label-arrow\">RandomForestClassifier</label><div class=\"sk-toggleable__content\"><pre>RandomForestClassifier(n_estimators=25, random_state=2)</pre></div></div></div></div></div>"
      ],
      "text/plain": [
       "RandomForestClassifier(n_estimators=25, random_state=2)"
      ]
     },
     "execution_count": 50,
     "metadata": {},
     "output_type": "execute_result"
    }
   ],
   "source": [
    "from sklearn.ensemble import RandomForestClassifier\n",
    "Random_forest = RandomForestClassifier(n_estimators = 25, random_state=2)\n",
    "Random_forest.fit(x_train, y_train)"
   ]
  },
  {
   "cell_type": "code",
   "execution_count": 51,
   "id": "1fcadb62",
   "metadata": {
    "execution": {
     "iopub.execute_input": "2024-07-05T17:03:53.052158Z",
     "iopub.status.busy": "2024-07-05T17:03:53.051347Z",
     "iopub.status.idle": "2024-07-05T17:03:53.056447Z",
     "shell.execute_reply": "2024-07-05T17:03:53.055331Z"
    },
    "papermill": {
     "duration": 0.03113,
     "end_time": "2024-07-05T17:03:53.058497",
     "exception": false,
     "start_time": "2024-07-05T17:03:53.027367",
     "status": "completed"
    },
    "tags": []
   },
   "outputs": [],
   "source": [
    "from sklearn.model_selection import KFold\n",
    "from sklearn.model_selection import cross_val_score\n",
    "kf = KFold(n_splits=7, shuffle=True)"
   ]
  },
  {
   "cell_type": "code",
   "execution_count": 52,
   "id": "f7072480",
   "metadata": {
    "execution": {
     "iopub.execute_input": "2024-07-05T17:03:53.106171Z",
     "iopub.status.busy": "2024-07-05T17:03:53.105799Z",
     "iopub.status.idle": "2024-07-05T17:03:53.443579Z",
     "shell.execute_reply": "2024-07-05T17:03:53.442314Z"
    },
    "papermill": {
     "duration": 0.364649,
     "end_time": "2024-07-05T17:03:53.445854",
     "exception": false,
     "start_time": "2024-07-05T17:03:53.081205",
     "status": "completed"
    },
    "tags": []
   },
   "outputs": [
    {
     "name": "stdout",
     "output_type": "stream",
     "text": [
      "[0.93333333 1.         0.93333333 1.         1.         0.93333333\n",
      " 0.85714286]\n",
      "rata rata KFold nya adalah:  0.9510204081632654\n"
     ]
    }
   ],
   "source": [
    "scores7 = cross_val_score(Random_forest, x, y, cv=kf)\n",
    "print(scores7)\n",
    "print('rata rata KFold nya adalah: ',scores7.mean())"
   ]
  },
  {
   "cell_type": "code",
   "execution_count": 53,
   "id": "2ef6390b",
   "metadata": {
    "execution": {
     "iopub.execute_input": "2024-07-05T17:03:53.493212Z",
     "iopub.status.busy": "2024-07-05T17:03:53.492131Z",
     "iopub.status.idle": "2024-07-05T17:03:53.503755Z",
     "shell.execute_reply": "2024-07-05T17:03:53.502722Z"
    },
    "papermill": {
     "duration": 0.037496,
     "end_time": "2024-07-05T17:03:53.505817",
     "exception": false,
     "start_time": "2024-07-05T17:03:53.468321",
     "status": "completed"
    },
    "tags": []
   },
   "outputs": [
    {
     "data": {
      "text/plain": [
       "array([0, 0, 0, 1, 1, 0, 0, 0, 0, 1, 0, 0, 0, 0, 1, 0, 0, 0, 0, 0, 0])"
      ]
     },
     "execution_count": 53,
     "metadata": {},
     "output_type": "execute_result"
    }
   ],
   "source": [
    "forest_pred = Random_forest.predict(x_test)\n",
    "forest_pred"
   ]
  },
  {
   "cell_type": "code",
   "execution_count": 54,
   "id": "a862cbe6",
   "metadata": {
    "execution": {
     "iopub.execute_input": "2024-07-05T17:03:53.552565Z",
     "iopub.status.busy": "2024-07-05T17:03:53.552148Z",
     "iopub.status.idle": "2024-07-05T17:03:53.559222Z",
     "shell.execute_reply": "2024-07-05T17:03:53.558122Z"
    },
    "papermill": {
     "duration": 0.033099,
     "end_time": "2024-07-05T17:03:53.561414",
     "exception": false,
     "start_time": "2024-07-05T17:03:53.528315",
     "status": "completed"
    },
    "tags": []
   },
   "outputs": [
    {
     "name": "stdout",
     "output_type": "stream",
     "text": [
      "Accuracy Score untuk algoritma Random Forest Adalah :  100.0 %\n"
     ]
    }
   ],
   "source": [
    "from sklearn.metrics import accuracy_score\n",
    "print('Accuracy Score untuk algoritma Random Forest Adalah : ',accuracy_score(forest_pred,y_test)*100,'%')"
   ]
  },
  {
   "cell_type": "code",
   "execution_count": 55,
   "id": "d14257ee",
   "metadata": {
    "execution": {
     "iopub.execute_input": "2024-07-05T17:03:53.609057Z",
     "iopub.status.busy": "2024-07-05T17:03:53.608661Z",
     "iopub.status.idle": "2024-07-05T17:03:53.624061Z",
     "shell.execute_reply": "2024-07-05T17:03:53.622917Z"
    },
    "papermill": {
     "duration": 0.042308,
     "end_time": "2024-07-05T17:03:53.626514",
     "exception": false,
     "start_time": "2024-07-05T17:03:53.584206",
     "status": "completed"
    },
    "tags": []
   },
   "outputs": [
    {
     "name": "stdout",
     "output_type": "stream",
     "text": [
      "Accuracy: 1.0\n",
      "Classification Report:\n",
      "              precision    recall  f1-score   support\n",
      "\n",
      "           0       1.00      1.00      1.00        17\n",
      "           1       1.00      1.00      1.00         4\n",
      "\n",
      "    accuracy                           1.00        21\n",
      "   macro avg       1.00      1.00      1.00        21\n",
      "weighted avg       1.00      1.00      1.00        21\n",
      "\n"
     ]
    }
   ],
   "source": [
    "from sklearn.metrics import classification_report, confusion_matrix\n",
    "accuracy_Random_Forest = accuracy_score(y_test, forest_pred)\n",
    "classification_rep = classification_report(y_test, forest_pred)\n",
    "\n",
    "print(f'Accuracy: {accuracy_Random_Forest}')\n",
    "print(f'Classification Report:\\n{classification_rep}')"
   ]
  },
  {
   "cell_type": "markdown",
   "id": "eb860c03",
   "metadata": {
    "papermill": {
     "duration": 0.022415,
     "end_time": "2024-07-05T17:03:53.671898",
     "exception": false,
     "start_time": "2024-07-05T17:03:53.649483",
     "status": "completed"
    },
    "tags": []
   },
   "source": [
    "# KESIMPULAN DARI KESELURUHAN K FOLD"
   ]
  },
  {
   "cell_type": "code",
   "execution_count": 56,
   "id": "676ad5e1",
   "metadata": {
    "execution": {
     "iopub.execute_input": "2024-07-05T17:03:53.719967Z",
     "iopub.status.busy": "2024-07-05T17:03:53.719560Z",
     "iopub.status.idle": "2024-07-05T17:03:53.726030Z",
     "shell.execute_reply": "2024-07-05T17:03:53.725052Z"
    },
    "papermill": {
     "duration": 0.033835,
     "end_time": "2024-07-05T17:03:53.728779",
     "exception": false,
     "start_time": "2024-07-05T17:03:53.694944",
     "status": "completed"
    },
    "tags": []
   },
   "outputs": [
    {
     "name": "stdout",
     "output_type": "stream",
     "text": [
      "rata rata decision tree adalah:  0.9236363636363636\n",
      "rata rata logistic regression adalah:  0.9709090909090909\n",
      "rata rata naive bayes adalah:  0.9345454545454546\n",
      "rata rata KNN adalah:  0.9327272727272728\n",
      "rata rata Linear Discriminant Analysis adalah:  0.9618181818181819\n",
      "rata rata ExtraTreesClassifier adalah:  0.9327272727272728\n",
      "rata rata RandomForest nya adalah:  0.9510204081632654\n",
      "================================================================================\n"
     ]
    }
   ],
   "source": [
    "print('rata rata decision tree adalah: ',scores1.mean())\n",
    "print('rata rata logistic regression adalah: ',scores2.mean())\n",
    "print('rata rata naive bayes adalah: ',scores3.mean())\n",
    "print('rata rata KNN adalah: ',scores4.mean())\n",
    "print('rata rata Linear Discriminant Analysis adalah: ',scores5.mean())\n",
    "print('rata rata ExtraTreesClassifier adalah: ',scores6.mean())\n",
    "print('rata rata RandomForest nya adalah: ',scores7.mean())\n",
    "print('=='*40)\n"
   ]
  },
  {
   "cell_type": "markdown",
   "id": "3f2a3ef6",
   "metadata": {
    "papermill": {
     "duration": 0.022367,
     "end_time": "2024-07-05T17:03:53.773996",
     "exception": false,
     "start_time": "2024-07-05T17:03:53.751629",
     "status": "completed"
    },
    "tags": []
   },
   "source": [
    "# KESELURUHAN DARI HASIL 7 ALGORITMA"
   ]
  },
  {
   "cell_type": "code",
   "execution_count": 57,
   "id": "2eabc102",
   "metadata": {
    "execution": {
     "iopub.execute_input": "2024-07-05T17:03:53.821701Z",
     "iopub.status.busy": "2024-07-05T17:03:53.821305Z",
     "iopub.status.idle": "2024-07-05T17:03:53.831679Z",
     "shell.execute_reply": "2024-07-05T17:03:53.830430Z"
    },
    "papermill": {
     "duration": 0.037198,
     "end_time": "2024-07-05T17:03:53.833888",
     "exception": false,
     "start_time": "2024-07-05T17:03:53.796690",
     "status": "completed"
    },
    "tags": []
   },
   "outputs": [
    {
     "name": "stdout",
     "output_type": "stream",
     "text": [
      "Accuracy Score untuk algoritma Decision Tree :  100.0 %\n",
      "Akurasi menggunkan algoritma logistic Regression adalah : 100.0 %\n",
      "Akurasi menggunakan algoritma naive bayes : 100.0 %\n",
      "akurasi untuk penggunaan algoritma KNN adalah : 100.0 %\n",
      "Akurasi untuk penggunaan algoritma Linear Discriminant Analysis: 100.0 %\n",
      "Akurasi untuk penggunaan algoritma ExtraTreesClassifier : 100.0 %\n",
      "Accuracy Score untuk algoritma Random Forest Adalah :  100.0 %\n",
      "================================================================================\n"
     ]
    }
   ],
   "source": [
    "#kesimpulan dari beberapa algoritma pengukuran yang telah dilakukan\n",
    "print('Accuracy Score untuk algoritma Decision Tree : ',accuracy_score(prediksi1,y_test)*100,'%')\n",
    "print('Akurasi menggunkan algoritma logistic Regression adalah :', (accuracylog)*100,'%')\n",
    "print(\"Akurasi menggunakan algoritma naive bayes :\", (accuracynavie)*100,'%')\n",
    "print('akurasi untuk penggunaan algoritma KNN adalah :',(accuracyknn)*100,'%')\n",
    "print(\"Akurasi untuk penggunaan algoritma Linear Discriminant Analysis:\", (accuracyLDA)*100,'%')\n",
    "print(\"Akurasi untuk penggunaan algoritma ExtraTreesClassifier :\", (accuracyETC)*100,'%')\n",
    "print('Accuracy Score untuk algoritma Random Forest Adalah : ',accuracy_score(forest_pred,y_test)*100,'%')\n",
    "print('=='*40)"
   ]
  },
  {
   "cell_type": "code",
   "execution_count": 58,
   "id": "adf215fe",
   "metadata": {
    "execution": {
     "iopub.execute_input": "2024-07-05T17:03:53.881176Z",
     "iopub.status.busy": "2024-07-05T17:03:53.880818Z",
     "iopub.status.idle": "2024-07-05T17:03:54.143046Z",
     "shell.execute_reply": "2024-07-05T17:03:54.141976Z"
    },
    "papermill": {
     "duration": 0.288713,
     "end_time": "2024-07-05T17:03:54.145479",
     "exception": false,
     "start_time": "2024-07-05T17:03:53.856766",
     "status": "completed"
    },
    "tags": []
   },
   "outputs": [
    {
     "name": "stdout",
     "output_type": "stream",
     "text": [
      "Nilai AUC Klasifikasi:  1.0\n",
      "Nilai TPR (True Positive Rate) Klasifikasi:  [0. 1. 1.]\n",
      "Nilai FPR (False Positive Rate) Klasifikasi:  [0. 0. 1.]\n",
      "Akurasi Klasifikasi:  100.0 %\n",
      "f-measure score:  1.0\n",
      "Area dibawah Grafik ROC adalah AUC(Area Under Curve)\n"
     ]
    },
    {
     "data": {
      "image/png": "[encoded data removed]",
      "text/plain": [
       "<Figure size 640x480 with 1 Axes>"
      ]
     },
     "metadata": {},
     "output_type": "display_data"
    }
   ],
   "source": [
    "#Analisa Performa dari Klasifikasi\n",
    "fpr, tpr, thresholds = metrics.roc_curve(y_test, y_prednaive, pos_label=1)\n",
    "print('Nilai AUC Klasifikasi: ', metrics.auc(fpr, tpr))\n",
    "print('Nilai TPR (True Positive Rate) Klasifikasi: ', tpr)\n",
    "print('Nilai FPR (False Positive Rate) Klasifikasi: ', fpr)\n",
    "#Analisa Akurasi dari Klasifikasi\n",
    "print('Akurasi Klasifikasi: ',metrics.accuracy_score(y_prednaive,y_test)*100,'%')\n",
    "#Analisa f-measure menggunakan sklearn\n",
    "from sklearn.metrics import f1_score\n",
    "f_measure=f1_score(y_test,y_prednaive,average='macro')\n",
    "print('f-measure score: ',f_measure)\n",
    "plt.plot(fpr,tpr)\n",
    "plt.title('Grafik ROC')\n",
    "plt.xlabel('FPR')\n",
    "plt.ylabel('TPR')\n",
    "print('Area dibawah Grafik ROC adalah AUC(Area Under Curve)')"
   ]
  },
  {
   "cell_type": "code",
   "execution_count": 59,
   "id": "c298b30d",
   "metadata": {
    "execution": {
     "iopub.execute_input": "2024-07-05T17:03:54.194913Z",
     "iopub.status.busy": "2024-07-05T17:03:54.193975Z",
     "iopub.status.idle": "2024-07-05T17:03:54.410391Z",
     "shell.execute_reply": "2024-07-05T17:03:54.409377Z"
    },
    "papermill": {
     "duration": 0.243647,
     "end_time": "2024-07-05T17:03:54.412554",
     "exception": false,
     "start_time": "2024-07-05T17:03:54.168907",
     "status": "completed"
    },
    "tags": []
   },
   "outputs": [
    {
     "name": "stdout",
     "output_type": "stream",
     "text": [
      "Nilai AUC Klasifikasi:  1.0\n",
      "Nilai TPR (True Positive Rate) Klasifikasi:  [0. 1. 1.]\n",
      "Nilai FPR (False Positive Rate) Klasifikasi:  [0. 0. 1.]\n",
      "Akurasi Klasifikasi:  100.0 %\n",
      "f-measure score:  1.0\n",
      "Area dibawah Grafik ROC adalah AUC(Area Under Curve)\n"
     ]
    },
    {
     "data": {
      "image/png": "[encoded data removed]",
      "text/plain": [
       "<Figure size 640x480 with 1 Axes>"
      ]
     },
     "metadata": {},
     "output_type": "display_data"
    }
   ],
   "source": [
    "#ALGORITMA LINEAR DESCRIMINANT ANALYSIST\n",
    "#Analisa Performa dari Klasifikasi\n",
    "fpr, tpr, thresholds = metrics.roc_curve(y_test, y_predLDA, pos_label=1)\n",
    "print('Nilai AUC Klasifikasi: ', metrics.auc(fpr, tpr))\n",
    "print('Nilai TPR (True Positive Rate) Klasifikasi: ', tpr)\n",
    "print('Nilai FPR (False Positive Rate) Klasifikasi: ', fpr)\n",
    "#Analisa Akurasi dari Klasifikasi\n",
    "print('Akurasi Klasifikasi: ',metrics.accuracy_score(y_predLDA,y_test)*100,'%')\n",
    "#Analisa f-measure menggunakan sklearn\n",
    "from sklearn.metrics import f1_score\n",
    "f_measure=f1_score(y_test,y_predLDA,average='macro')\n",
    "print('f-measure score: ',f_measure)\n",
    "plt.plot(fpr,tpr)\n",
    "plt.title('Grafik ROC')\n",
    "plt.xlabel('FPR')\n",
    "plt.ylabel('TPR')\n",
    "print('Area dibawah Grafik ROC adalah AUC(Area Under Curve)')"
   ]
  }
 ],
 "metadata": {
  "kaggle": {
   "accelerator": "none",
   "dataSources": [
    {
     "datasetId": 5334004,
     "sourceId": 8859848,
     "sourceType": "datasetVersion"
    }
   ],
   "dockerImageVersionId": 30732,
   "isGpuEnabled": false,
   "isInternetEnabled": true,
   "language": "python",
   "sourceType": "notebook"
  },
  "kernelspec": {
   "display_name": "Python 3",
   "language": "python",
   "name": "python3"
  },
  "language_info": {
   "codemirror_mode": {
    "name": "ipython",
    "version": 3
   },
   "file_extension": ".py",
   "mimetype": "text/x-python",
   "name": "python",
   "nbconvert_exporter": "python",
   "pygments_lexer": "ipython3",
   "version": "3.10.13"
  },
  "papermill": {
   "default_parameters": {},
   "duration": 15.531684,
   "end_time": "2024-07-05T17:03:55.056988",
   "environment_variables": {},
   "exception": null,
   "input_path": "__notebook__.ipynb",
   "output_path": "__notebook__.ipynb",
   "parameters": {},
   "start_time": "2024-07-05T17:03:39.525304",
   "version": "2.5.0"
  }
 },
 "nbformat": 4,
 "nbformat_minor": 5
}
