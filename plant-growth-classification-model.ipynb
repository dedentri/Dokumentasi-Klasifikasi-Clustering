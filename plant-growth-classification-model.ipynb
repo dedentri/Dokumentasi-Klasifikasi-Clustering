{
 "cells": [
  {
   "cell_type": "code",
   "execution_count": 1,
   "id": "a7218ebe",
   "metadata": {
    "_cell_guid": "b1076dfc-b9ad-4769-8c92-a6c4dae69d19",
    "_uuid": "8f2839f25d086af736a60e9eeb907d3b93b6e0e5",
    "execution": {
     "iopub.execute_input": "2024-07-10T09:32:17.419062Z",
     "iopub.status.busy": "2024-07-10T09:32:17.418660Z",
     "iopub.status.idle": "2024-07-10T09:32:18.451715Z",
     "shell.execute_reply": "2024-07-10T09:32:18.450241Z"
    },
    "papermill": {
     "duration": 1.051668,
     "end_time": "2024-07-10T09:32:18.454182",
     "exception": false,
     "start_time": "2024-07-10T09:32:17.402514",
     "status": "completed"
    },
    "tags": []
   },
   "outputs": [
    {
     "name": "stdout",
     "output_type": "stream",
     "text": [
      "/kaggle/input/plant-growth-data-classification/plant_growth_data.csv\n"
     ]
    }
   ],
   "source": [
    "# This Python 3 environment comes with many helpful analytics libraries installed\n",
    "# It is defined by the kaggle/python Docker image: https://github.com/kaggle/docker-python\n",
    "# For example, here's several helpful packages to load\n",
    "\n",
    "import numpy as np # linear algebra\n",
    "import pandas as pd # data processing, CSV file I/O (e.g. pd.read_csv)\n",
    "\n",
    "# Input data files are available in the read-only \"../input/\" directory\n",
    "# For example, running this (by clicking run or pressing Shift+Enter) will list all files under the input directory\n",
    "\n",
    "import os\n",
    "for dirname, _, filenames in os.walk('/kaggle/input'):\n",
    "    for filename in filenames:\n",
    "        print(os.path.join(dirname, filename))\n",
    "\n",
    "# You can write up to 20GB to the current directory (/kaggle/working/) that gets preserved as output when you create a version using \"Save & Run All\" \n",
    "# You can also write temporary files to /kaggle/temp/, but they won't be saved outside of the current session"
   ]
  },
  {
   "cell_type": "markdown",
   "id": "b20fff3c",
   "metadata": {
    "papermill": {
     "duration": 0.014282,
     "end_time": "2024-07-10T09:32:18.483173",
     "exception": false,
     "start_time": "2024-07-10T09:32:18.468891",
     "status": "completed"
    },
    "tags": []
   },
   "source": [
    "Dataset \"Klasifikasi Data Pertumbuhan Tanaman\" ini biasanya melibatkan tugas prediksi atau klasifikasi tahap pertumbuhan tanaman berdasarkan faktor lingkungan dan pengelolaan yang disediakan. Secara khusus, Anda akan bertujuan untuk memprediksi tahap pertumbuhan atau pencapaian yang dicapai oleh tanaman berdasarkan variabel seperti jenis tanah, durasi sinar matahari, frekuensi penyiraman, jenis pupuk, suhu, dan kelembaban. Prediksi ini dapat membantu memahami bagaimana kondisi yang berbeda mempengaruhi pertumbuhan tanaman dan dapat berguna untuk mengoptimalkan praktik pertanian atau manajemen rumah kaca.\n",
    "\n",
    "**deskripsi dari kolom:**\n",
    "\n",
    "1. Soil_Type (Jenis_Tanah): Jenis atau komposisi tanah tempat tanaman ditanam.\n",
    "\n",
    "2. Sunlight_Hours (Durasi_Sinar_Matahari): Durasi atau intensitas paparan sinar matahari yang diterima oleh tanaman.\n",
    "\n",
    "3. Water_Frequency (Frekuensi_Penyiraman): Seberapa sering tanaman disiram, menunjukkan jadwal penyiraman.\n",
    "\n",
    "4. Fertilizer_Type (Jenis_Pupuk): Jenis pupuk yang digunakan untuk memberikan nutrisi pada tanaman.\n",
    "\n",
    "5. Temperature (Suhu): Kondisi suhu lingkungan tempat tanaman tumbuh.\n",
    "\n",
    "6. Humidity (Kelembaban): Tingkat kelembaban atau kandungan air di lingkungan sekitar tanaman.\n",
    "\n",
    "7. Growth_Milestone (Tahap_Pertumbuhan): Deskripsi atau penanda yang menunjukkan tahap atau kejadian penting dalam proses pertumbuhan tanaman.\n",
    "\n",
    "**Maksud dan Tujuan:**\n",
    "\n",
    "Tujuan dari dataset ini adalah untuk memungkinkan prediksi atau klasifikasi tahap pertumbuhan tanaman berdasarkan berbagai faktor lingkungan dan pengelolaan. Dengan memahami bagaimana variabel-variabel seperti jenis tanah, durasi sinar matahari, frekuensi penyiraman, jenis pupuk, suhu, dan kelembaban mempengaruhi pertumbuhan tanaman, kita dapat mengoptimalkan praktik pertanian atau manajemen rumah kaca. Misalnya, dengan mengetahui kombinasi kondisi yang ideal, kita dapat meningkatkan efisiensi produksi tanaman dan kesehatan tanaman secara keseluruhan."
   ]
  },
  {
   "cell_type": "code",
   "execution_count": 2,
   "id": "83fb6f07",
   "metadata": {
    "execution": {
     "iopub.execute_input": "2024-07-10T09:32:18.515396Z",
     "iopub.status.busy": "2024-07-10T09:32:18.514746Z",
     "iopub.status.idle": "2024-07-10T09:32:20.005970Z",
     "shell.execute_reply": "2024-07-10T09:32:20.004231Z"
    },
    "papermill": {
     "duration": 1.511131,
     "end_time": "2024-07-10T09:32:20.008777",
     "exception": false,
     "start_time": "2024-07-10T09:32:18.497646",
     "status": "completed"
    },
    "tags": []
   },
   "outputs": [],
   "source": [
    "import matplotlib.pyplot as plt\n",
    "import seaborn as sns "
   ]
  },
  {
   "cell_type": "code",
   "execution_count": 3,
   "id": "a6081526",
   "metadata": {
    "execution": {
     "iopub.execute_input": "2024-07-10T09:32:20.042628Z",
     "iopub.status.busy": "2024-07-10T09:32:20.042195Z",
     "iopub.status.idle": "2024-07-10T09:32:20.092913Z",
     "shell.execute_reply": "2024-07-10T09:32:20.091596Z"
    },
    "papermill": {
     "duration": 0.071536,
     "end_time": "2024-07-10T09:32:20.095677",
     "exception": false,
     "start_time": "2024-07-10T09:32:20.024141",
     "status": "completed"
    },
    "tags": []
   },
   "outputs": [
    {
     "data": {
      "text/html": [
       "<div>\n",
       "<style scoped>\n",
       "    .dataframe tbody tr th:only-of-type {\n",
       "        vertical-align: middle;\n",
       "    }\n",
       "\n",
       "    .dataframe tbody tr th {\n",
       "        vertical-align: top;\n",
       "    }\n",
       "\n",
       "    .dataframe thead th {\n",
       "        text-align: right;\n",
       "    }\n",
       "</style>\n",
       "<table border=\"1\" class=\"dataframe\">\n",
       "  <thead>\n",
       "    <tr style=\"text-align: right;\">\n",
       "      <th></th>\n",
       "      <th>Soil_Type</th>\n",
       "      <th>Sunlight_Hours</th>\n",
       "      <th>Water_Frequency</th>\n",
       "      <th>Fertilizer_Type</th>\n",
       "      <th>Temperature</th>\n",
       "      <th>Humidity</th>\n",
       "      <th>Growth_Milestone</th>\n",
       "    </tr>\n",
       "  </thead>\n",
       "  <tbody>\n",
       "    <tr>\n",
       "      <th>0</th>\n",
       "      <td>loam</td>\n",
       "      <td>5.192294</td>\n",
       "      <td>bi-weekly</td>\n",
       "      <td>chemical</td>\n",
       "      <td>31.719602</td>\n",
       "      <td>61.591861</td>\n",
       "      <td>0</td>\n",
       "    </tr>\n",
       "    <tr>\n",
       "      <th>1</th>\n",
       "      <td>sandy</td>\n",
       "      <td>4.033133</td>\n",
       "      <td>weekly</td>\n",
       "      <td>organic</td>\n",
       "      <td>28.919484</td>\n",
       "      <td>52.422276</td>\n",
       "      <td>1</td>\n",
       "    </tr>\n",
       "    <tr>\n",
       "      <th>2</th>\n",
       "      <td>loam</td>\n",
       "      <td>8.892769</td>\n",
       "      <td>bi-weekly</td>\n",
       "      <td>none</td>\n",
       "      <td>23.179059</td>\n",
       "      <td>44.660539</td>\n",
       "      <td>0</td>\n",
       "    </tr>\n",
       "    <tr>\n",
       "      <th>3</th>\n",
       "      <td>loam</td>\n",
       "      <td>8.241144</td>\n",
       "      <td>bi-weekly</td>\n",
       "      <td>none</td>\n",
       "      <td>18.465886</td>\n",
       "      <td>46.433227</td>\n",
       "      <td>0</td>\n",
       "    </tr>\n",
       "    <tr>\n",
       "      <th>4</th>\n",
       "      <td>sandy</td>\n",
       "      <td>8.374043</td>\n",
       "      <td>bi-weekly</td>\n",
       "      <td>organic</td>\n",
       "      <td>18.128741</td>\n",
       "      <td>63.625923</td>\n",
       "      <td>0</td>\n",
       "    </tr>\n",
       "    <tr>\n",
       "      <th>...</th>\n",
       "      <td>...</td>\n",
       "      <td>...</td>\n",
       "      <td>...</td>\n",
       "      <td>...</td>\n",
       "      <td>...</td>\n",
       "      <td>...</td>\n",
       "      <td>...</td>\n",
       "    </tr>\n",
       "    <tr>\n",
       "      <th>188</th>\n",
       "      <td>sandy</td>\n",
       "      <td>5.652000</td>\n",
       "      <td>daily</td>\n",
       "      <td>none</td>\n",
       "      <td>28.000000</td>\n",
       "      <td>70.200000</td>\n",
       "      <td>0</td>\n",
       "    </tr>\n",
       "    <tr>\n",
       "      <th>189</th>\n",
       "      <td>clay</td>\n",
       "      <td>7.528000</td>\n",
       "      <td>weekly</td>\n",
       "      <td>chemical</td>\n",
       "      <td>30.500000</td>\n",
       "      <td>60.100000</td>\n",
       "      <td>1</td>\n",
       "    </tr>\n",
       "    <tr>\n",
       "      <th>190</th>\n",
       "      <td>loam</td>\n",
       "      <td>4.934000</td>\n",
       "      <td>bi-weekly</td>\n",
       "      <td>none</td>\n",
       "      <td>24.500000</td>\n",
       "      <td>61.700000</td>\n",
       "      <td>0</td>\n",
       "    </tr>\n",
       "    <tr>\n",
       "      <th>191</th>\n",
       "      <td>sandy</td>\n",
       "      <td>8.273000</td>\n",
       "      <td>daily</td>\n",
       "      <td>organic</td>\n",
       "      <td>27.900000</td>\n",
       "      <td>69.500000</td>\n",
       "      <td>1</td>\n",
       "    </tr>\n",
       "    <tr>\n",
       "      <th>192</th>\n",
       "      <td>clay</td>\n",
       "      <td>6.732000</td>\n",
       "      <td>weekly</td>\n",
       "      <td>none</td>\n",
       "      <td>21.700000</td>\n",
       "      <td>56.900000</td>\n",
       "      <td>0</td>\n",
       "    </tr>\n",
       "  </tbody>\n",
       "</table>\n",
       "<p>193 rows × 7 columns</p>\n",
       "</div>"
      ],
      "text/plain": [
       "    Soil_Type  Sunlight_Hours Water_Frequency Fertilizer_Type  Temperature  \\\n",
       "0        loam        5.192294       bi-weekly        chemical    31.719602   \n",
       "1       sandy        4.033133          weekly         organic    28.919484   \n",
       "2        loam        8.892769       bi-weekly            none    23.179059   \n",
       "3        loam        8.241144       bi-weekly            none    18.465886   \n",
       "4       sandy        8.374043       bi-weekly         organic    18.128741   \n",
       "..        ...             ...             ...             ...          ...   \n",
       "188     sandy        5.652000           daily            none    28.000000   \n",
       "189      clay        7.528000          weekly        chemical    30.500000   \n",
       "190      loam        4.934000       bi-weekly            none    24.500000   \n",
       "191     sandy        8.273000           daily         organic    27.900000   \n",
       "192      clay        6.732000          weekly            none    21.700000   \n",
       "\n",
       "      Humidity  Growth_Milestone  \n",
       "0    61.591861                 0  \n",
       "1    52.422276                 1  \n",
       "2    44.660539                 0  \n",
       "3    46.433227                 0  \n",
       "4    63.625923                 0  \n",
       "..         ...               ...  \n",
       "188  70.200000                 0  \n",
       "189  60.100000                 1  \n",
       "190  61.700000                 0  \n",
       "191  69.500000                 1  \n",
       "192  56.900000                 0  \n",
       "\n",
       "[193 rows x 7 columns]"
      ]
     },
     "execution_count": 3,
     "metadata": {},
     "output_type": "execute_result"
    }
   ],
   "source": [
    "df = pd.read_csv(\"/kaggle/input/plant-growth-data-classification/plant_growth_data.csv\")\n",
    "df"
   ]
  },
  {
   "cell_type": "code",
   "execution_count": 4,
   "id": "91f893f9",
   "metadata": {
    "execution": {
     "iopub.execute_input": "2024-07-10T09:32:20.127116Z",
     "iopub.status.busy": "2024-07-10T09:32:20.126715Z",
     "iopub.status.idle": "2024-07-10T09:32:20.153166Z",
     "shell.execute_reply": "2024-07-10T09:32:20.151858Z"
    },
    "papermill": {
     "duration": 0.044868,
     "end_time": "2024-07-10T09:32:20.155997",
     "exception": false,
     "start_time": "2024-07-10T09:32:20.111129",
     "status": "completed"
    },
    "tags": []
   },
   "outputs": [
    {
     "name": "stdout",
     "output_type": "stream",
     "text": [
      "<class 'pandas.core.frame.DataFrame'>\n",
      "RangeIndex: 193 entries, 0 to 192\n",
      "Data columns (total 7 columns):\n",
      " #   Column            Non-Null Count  Dtype  \n",
      "---  ------            --------------  -----  \n",
      " 0   Soil_Type         193 non-null    object \n",
      " 1   Sunlight_Hours    193 non-null    float64\n",
      " 2   Water_Frequency   193 non-null    object \n",
      " 3   Fertilizer_Type   193 non-null    object \n",
      " 4   Temperature       193 non-null    float64\n",
      " 5   Humidity          193 non-null    float64\n",
      " 6   Growth_Milestone  193 non-null    int64  \n",
      "dtypes: float64(3), int64(1), object(3)\n",
      "memory usage: 10.7+ KB\n"
     ]
    }
   ],
   "source": [
    "df.info()"
   ]
  },
  {
   "cell_type": "code",
   "execution_count": 5,
   "id": "c0c3a558",
   "metadata": {
    "execution": {
     "iopub.execute_input": "2024-07-10T09:32:20.187070Z",
     "iopub.status.busy": "2024-07-10T09:32:20.186665Z",
     "iopub.status.idle": "2024-07-10T09:32:20.212403Z",
     "shell.execute_reply": "2024-07-10T09:32:20.211190Z"
    },
    "papermill": {
     "duration": 0.044525,
     "end_time": "2024-07-10T09:32:20.215090",
     "exception": false,
     "start_time": "2024-07-10T09:32:20.170565",
     "status": "completed"
    },
    "tags": []
   },
   "outputs": [
    {
     "data": {
      "text/html": [
       "<div>\n",
       "<style scoped>\n",
       "    .dataframe tbody tr th:only-of-type {\n",
       "        vertical-align: middle;\n",
       "    }\n",
       "\n",
       "    .dataframe tbody tr th {\n",
       "        vertical-align: top;\n",
       "    }\n",
       "\n",
       "    .dataframe thead th {\n",
       "        text-align: right;\n",
       "    }\n",
       "</style>\n",
       "<table border=\"1\" class=\"dataframe\">\n",
       "  <thead>\n",
       "    <tr style=\"text-align: right;\">\n",
       "      <th></th>\n",
       "      <th>Sunlight_Hours</th>\n",
       "      <th>Temperature</th>\n",
       "      <th>Humidity</th>\n",
       "      <th>Growth_Milestone</th>\n",
       "    </tr>\n",
       "  </thead>\n",
       "  <tbody>\n",
       "    <tr>\n",
       "      <th>count</th>\n",
       "      <td>193.000000</td>\n",
       "      <td>193.000000</td>\n",
       "      <td>193.000000</td>\n",
       "      <td>193.000000</td>\n",
       "    </tr>\n",
       "    <tr>\n",
       "      <th>mean</th>\n",
       "      <td>6.826484</td>\n",
       "      <td>25.076087</td>\n",
       "      <td>58.098927</td>\n",
       "      <td>0.497409</td>\n",
       "    </tr>\n",
       "    <tr>\n",
       "      <th>std</th>\n",
       "      <td>1.599509</td>\n",
       "      <td>5.354170</td>\n",
       "      <td>12.631799</td>\n",
       "      <td>0.501294</td>\n",
       "    </tr>\n",
       "    <tr>\n",
       "      <th>min</th>\n",
       "      <td>4.033133</td>\n",
       "      <td>15.200000</td>\n",
       "      <td>30.567682</td>\n",
       "      <td>0.000000</td>\n",
       "    </tr>\n",
       "    <tr>\n",
       "      <th>25%</th>\n",
       "      <td>5.477000</td>\n",
       "      <td>20.637095</td>\n",
       "      <td>49.300000</td>\n",
       "      <td>0.000000</td>\n",
       "    </tr>\n",
       "    <tr>\n",
       "      <th>50%</th>\n",
       "      <td>6.833290</td>\n",
       "      <td>25.912336</td>\n",
       "      <td>59.182806</td>\n",
       "      <td>0.000000</td>\n",
       "    </tr>\n",
       "    <tr>\n",
       "      <th>75%</th>\n",
       "      <td>8.241144</td>\n",
       "      <td>29.757938</td>\n",
       "      <td>69.100000</td>\n",
       "      <td>1.000000</td>\n",
       "    </tr>\n",
       "    <tr>\n",
       "      <th>max</th>\n",
       "      <td>9.913903</td>\n",
       "      <td>34.810103</td>\n",
       "      <td>79.648240</td>\n",
       "      <td>1.000000</td>\n",
       "    </tr>\n",
       "  </tbody>\n",
       "</table>\n",
       "</div>"
      ],
      "text/plain": [
       "       Sunlight_Hours  Temperature    Humidity  Growth_Milestone\n",
       "count      193.000000   193.000000  193.000000        193.000000\n",
       "mean         6.826484    25.076087   58.098927          0.497409\n",
       "std          1.599509     5.354170   12.631799          0.501294\n",
       "min          4.033133    15.200000   30.567682          0.000000\n",
       "25%          5.477000    20.637095   49.300000          0.000000\n",
       "50%          6.833290    25.912336   59.182806          0.000000\n",
       "75%          8.241144    29.757938   69.100000          1.000000\n",
       "max          9.913903    34.810103   79.648240          1.000000"
      ]
     },
     "execution_count": 5,
     "metadata": {},
     "output_type": "execute_result"
    }
   ],
   "source": [
    "df.describe()"
   ]
  },
  {
   "cell_type": "code",
   "execution_count": 6,
   "id": "2aee785e",
   "metadata": {
    "execution": {
     "iopub.execute_input": "2024-07-10T09:32:20.248868Z",
     "iopub.status.busy": "2024-07-10T09:32:20.248454Z",
     "iopub.status.idle": "2024-07-10T09:32:20.258920Z",
     "shell.execute_reply": "2024-07-10T09:32:20.257295Z"
    },
    "papermill": {
     "duration": 0.030392,
     "end_time": "2024-07-10T09:32:20.261793",
     "exception": false,
     "start_time": "2024-07-10T09:32:20.231401",
     "status": "completed"
    },
    "tags": []
   },
   "outputs": [
    {
     "name": "stdout",
     "output_type": "stream",
     "text": [
      "Rows: 193, Columns: 7\n",
      "Duplicates: 0\n",
      "missing data: 0\n"
     ]
    }
   ],
   "source": [
    "print(f\"Rows: {df.shape[0]}, Columns: {df.shape[1]}\")\n",
    "print(f\"Duplicates: {df.duplicated().sum()}\") \n",
    "print(f\"missing data: {sum(df.isna().sum())}\")"
   ]
  },
  {
   "cell_type": "code",
   "execution_count": 7,
   "id": "25020ab0",
   "metadata": {
    "execution": {
     "iopub.execute_input": "2024-07-10T09:32:20.296608Z",
     "iopub.status.busy": "2024-07-10T09:32:20.295874Z",
     "iopub.status.idle": "2024-07-10T09:32:20.317292Z",
     "shell.execute_reply": "2024-07-10T09:32:20.316242Z"
    },
    "papermill": {
     "duration": 0.040161,
     "end_time": "2024-07-10T09:32:20.319760",
     "exception": false,
     "start_time": "2024-07-10T09:32:20.279599",
     "status": "completed"
    },
    "tags": []
   },
   "outputs": [
    {
     "data": {
      "text/html": [
       "<div>\n",
       "<style scoped>\n",
       "    .dataframe tbody tr th:only-of-type {\n",
       "        vertical-align: middle;\n",
       "    }\n",
       "\n",
       "    .dataframe tbody tr th {\n",
       "        vertical-align: top;\n",
       "    }\n",
       "\n",
       "    .dataframe thead th {\n",
       "        text-align: right;\n",
       "    }\n",
       "</style>\n",
       "<table border=\"1\" class=\"dataframe\">\n",
       "  <thead>\n",
       "    <tr style=\"text-align: right;\">\n",
       "      <th></th>\n",
       "      <th>Jenis_Tanah</th>\n",
       "      <th>Durasi_Sinar_Matahari</th>\n",
       "      <th>Frekuensi_Penyiraman</th>\n",
       "      <th>Jenis_Pupuk</th>\n",
       "      <th>Suhu</th>\n",
       "      <th>Kelembaban</th>\n",
       "      <th>Tahap_Pertumbuhan</th>\n",
       "    </tr>\n",
       "  </thead>\n",
       "  <tbody>\n",
       "    <tr>\n",
       "      <th>0</th>\n",
       "      <td>loam</td>\n",
       "      <td>5.192294</td>\n",
       "      <td>bi-weekly</td>\n",
       "      <td>chemical</td>\n",
       "      <td>31.719602</td>\n",
       "      <td>61.591861</td>\n",
       "      <td>0</td>\n",
       "    </tr>\n",
       "    <tr>\n",
       "      <th>1</th>\n",
       "      <td>sandy</td>\n",
       "      <td>4.033133</td>\n",
       "      <td>weekly</td>\n",
       "      <td>organic</td>\n",
       "      <td>28.919484</td>\n",
       "      <td>52.422276</td>\n",
       "      <td>1</td>\n",
       "    </tr>\n",
       "    <tr>\n",
       "      <th>2</th>\n",
       "      <td>loam</td>\n",
       "      <td>8.892769</td>\n",
       "      <td>bi-weekly</td>\n",
       "      <td>none</td>\n",
       "      <td>23.179059</td>\n",
       "      <td>44.660539</td>\n",
       "      <td>0</td>\n",
       "    </tr>\n",
       "    <tr>\n",
       "      <th>3</th>\n",
       "      <td>loam</td>\n",
       "      <td>8.241144</td>\n",
       "      <td>bi-weekly</td>\n",
       "      <td>none</td>\n",
       "      <td>18.465886</td>\n",
       "      <td>46.433227</td>\n",
       "      <td>0</td>\n",
       "    </tr>\n",
       "    <tr>\n",
       "      <th>4</th>\n",
       "      <td>sandy</td>\n",
       "      <td>8.374043</td>\n",
       "      <td>bi-weekly</td>\n",
       "      <td>organic</td>\n",
       "      <td>18.128741</td>\n",
       "      <td>63.625923</td>\n",
       "      <td>0</td>\n",
       "    </tr>\n",
       "    <tr>\n",
       "      <th>...</th>\n",
       "      <td>...</td>\n",
       "      <td>...</td>\n",
       "      <td>...</td>\n",
       "      <td>...</td>\n",
       "      <td>...</td>\n",
       "      <td>...</td>\n",
       "      <td>...</td>\n",
       "    </tr>\n",
       "    <tr>\n",
       "      <th>188</th>\n",
       "      <td>sandy</td>\n",
       "      <td>5.652000</td>\n",
       "      <td>daily</td>\n",
       "      <td>none</td>\n",
       "      <td>28.000000</td>\n",
       "      <td>70.200000</td>\n",
       "      <td>0</td>\n",
       "    </tr>\n",
       "    <tr>\n",
       "      <th>189</th>\n",
       "      <td>clay</td>\n",
       "      <td>7.528000</td>\n",
       "      <td>weekly</td>\n",
       "      <td>chemical</td>\n",
       "      <td>30.500000</td>\n",
       "      <td>60.100000</td>\n",
       "      <td>1</td>\n",
       "    </tr>\n",
       "    <tr>\n",
       "      <th>190</th>\n",
       "      <td>loam</td>\n",
       "      <td>4.934000</td>\n",
       "      <td>bi-weekly</td>\n",
       "      <td>none</td>\n",
       "      <td>24.500000</td>\n",
       "      <td>61.700000</td>\n",
       "      <td>0</td>\n",
       "    </tr>\n",
       "    <tr>\n",
       "      <th>191</th>\n",
       "      <td>sandy</td>\n",
       "      <td>8.273000</td>\n",
       "      <td>daily</td>\n",
       "      <td>organic</td>\n",
       "      <td>27.900000</td>\n",
       "      <td>69.500000</td>\n",
       "      <td>1</td>\n",
       "    </tr>\n",
       "    <tr>\n",
       "      <th>192</th>\n",
       "      <td>clay</td>\n",
       "      <td>6.732000</td>\n",
       "      <td>weekly</td>\n",
       "      <td>none</td>\n",
       "      <td>21.700000</td>\n",
       "      <td>56.900000</td>\n",
       "      <td>0</td>\n",
       "    </tr>\n",
       "  </tbody>\n",
       "</table>\n",
       "<p>193 rows × 7 columns</p>\n",
       "</div>"
      ],
      "text/plain": [
       "    Jenis_Tanah  Durasi_Sinar_Matahari Frekuensi_Penyiraman Jenis_Pupuk  \\\n",
       "0          loam               5.192294            bi-weekly    chemical   \n",
       "1         sandy               4.033133               weekly     organic   \n",
       "2          loam               8.892769            bi-weekly        none   \n",
       "3          loam               8.241144            bi-weekly        none   \n",
       "4         sandy               8.374043            bi-weekly     organic   \n",
       "..          ...                    ...                  ...         ...   \n",
       "188       sandy               5.652000                daily        none   \n",
       "189        clay               7.528000               weekly    chemical   \n",
       "190        loam               4.934000            bi-weekly        none   \n",
       "191       sandy               8.273000                daily     organic   \n",
       "192        clay               6.732000               weekly        none   \n",
       "\n",
       "          Suhu  Kelembaban  Tahap_Pertumbuhan  \n",
       "0    31.719602   61.591861                  0  \n",
       "1    28.919484   52.422276                  1  \n",
       "2    23.179059   44.660539                  0  \n",
       "3    18.465886   46.433227                  0  \n",
       "4    18.128741   63.625923                  0  \n",
       "..         ...         ...                ...  \n",
       "188  28.000000   70.200000                  0  \n",
       "189  30.500000   60.100000                  1  \n",
       "190  24.500000   61.700000                  0  \n",
       "191  27.900000   69.500000                  1  \n",
       "192  21.700000   56.900000                  0  \n",
       "\n",
       "[193 rows x 7 columns]"
      ]
     },
     "execution_count": 7,
     "metadata": {},
     "output_type": "execute_result"
    }
   ],
   "source": [
    "df = df.rename(columns={'Soil_Type': 'Jenis_Tanah'})\n",
    "df = df.rename(columns={'Sunlight_Hours': 'Durasi_Sinar_Matahari'})\n",
    "df = df.rename(columns={'Water_Frequency': 'Frekuensi_Penyiraman'})\n",
    "df = df.rename(columns={'Fertilizer_Type': 'Jenis_Pupuk'})\n",
    "df = df.rename(columns={'Temperature': 'Suhu'})\n",
    "df = df.rename(columns={'Humidity': 'Kelembaban'})\n",
    "df = df.rename(columns={'Growth_Milestone': 'Tahap_Pertumbuhan'})\n",
    "df\n"
   ]
  },
  {
   "cell_type": "code",
   "execution_count": 8,
   "id": "9ad9f929",
   "metadata": {
    "execution": {
     "iopub.execute_input": "2024-07-10T09:32:20.351231Z",
     "iopub.status.busy": "2024-07-10T09:32:20.350855Z",
     "iopub.status.idle": "2024-07-10T09:32:20.359784Z",
     "shell.execute_reply": "2024-07-10T09:32:20.358740Z"
    },
    "papermill": {
     "duration": 0.027412,
     "end_time": "2024-07-10T09:32:20.362113",
     "exception": false,
     "start_time": "2024-07-10T09:32:20.334701",
     "status": "completed"
    },
    "tags": []
   },
   "outputs": [
    {
     "data": {
      "text/plain": [
       "Jenis_Tanah\n",
       "clay     67\n",
       "sandy    64\n",
       "loam     62\n",
       "Name: count, dtype: int64"
      ]
     },
     "execution_count": 8,
     "metadata": {},
     "output_type": "execute_result"
    }
   ],
   "source": [
    "df['Jenis_Tanah'].value_counts()"
   ]
  },
  {
   "cell_type": "code",
   "execution_count": 9,
   "id": "1d0fbe50",
   "metadata": {
    "execution": {
     "iopub.execute_input": "2024-07-10T09:32:20.395173Z",
     "iopub.status.busy": "2024-07-10T09:32:20.394783Z",
     "iopub.status.idle": "2024-07-10T09:32:20.403622Z",
     "shell.execute_reply": "2024-07-10T09:32:20.402482Z"
    },
    "papermill": {
     "duration": 0.028383,
     "end_time": "2024-07-10T09:32:20.405984",
     "exception": false,
     "start_time": "2024-07-10T09:32:20.377601",
     "status": "completed"
    },
    "tags": []
   },
   "outputs": [
    {
     "data": {
      "text/plain": [
       "Frekuensi_Penyiraman\n",
       "daily        74\n",
       "bi-weekly    60\n",
       "weekly       59\n",
       "Name: count, dtype: int64"
      ]
     },
     "execution_count": 9,
     "metadata": {},
     "output_type": "execute_result"
    }
   ],
   "source": [
    "df['Frekuensi_Penyiraman'].value_counts()"
   ]
  },
  {
   "cell_type": "code",
   "execution_count": 10,
   "id": "48d782b3",
   "metadata": {
    "execution": {
     "iopub.execute_input": "2024-07-10T09:32:20.440788Z",
     "iopub.status.busy": "2024-07-10T09:32:20.440384Z",
     "iopub.status.idle": "2024-07-10T09:32:20.449225Z",
     "shell.execute_reply": "2024-07-10T09:32:20.448085Z"
    },
    "papermill": {
     "duration": 0.029059,
     "end_time": "2024-07-10T09:32:20.451954",
     "exception": false,
     "start_time": "2024-07-10T09:32:20.422895",
     "status": "completed"
    },
    "tags": []
   },
   "outputs": [
    {
     "data": {
      "text/plain": [
       "Jenis_Pupuk\n",
       "none        74\n",
       "chemical    65\n",
       "organic     54\n",
       "Name: count, dtype: int64"
      ]
     },
     "execution_count": 10,
     "metadata": {},
     "output_type": "execute_result"
    }
   ],
   "source": [
    "df['Jenis_Pupuk'].value_counts()"
   ]
  },
  {
   "cell_type": "code",
   "execution_count": 11,
   "id": "57f899b4",
   "metadata": {
    "execution": {
     "iopub.execute_input": "2024-07-10T09:32:20.485732Z",
     "iopub.status.busy": "2024-07-10T09:32:20.485275Z",
     "iopub.status.idle": "2024-07-10T09:32:20.501775Z",
     "shell.execute_reply": "2024-07-10T09:32:20.500027Z"
    },
    "papermill": {
     "duration": 0.03668,
     "end_time": "2024-07-10T09:32:20.504537",
     "exception": false,
     "start_time": "2024-07-10T09:32:20.467857",
     "status": "completed"
    },
    "tags": []
   },
   "outputs": [
    {
     "data": {
      "text/html": [
       "<div>\n",
       "<style scoped>\n",
       "    .dataframe tbody tr th:only-of-type {\n",
       "        vertical-align: middle;\n",
       "    }\n",
       "\n",
       "    .dataframe tbody tr th {\n",
       "        vertical-align: top;\n",
       "    }\n",
       "\n",
       "    .dataframe thead th {\n",
       "        text-align: right;\n",
       "    }\n",
       "</style>\n",
       "<table border=\"1\" class=\"dataframe\">\n",
       "  <thead>\n",
       "    <tr style=\"text-align: right;\">\n",
       "      <th></th>\n",
       "      <th>Jenis_Tanah</th>\n",
       "      <th>Durasi_Sinar_Matahari</th>\n",
       "      <th>Frekuensi_Penyiraman</th>\n",
       "      <th>Jenis_Pupuk</th>\n",
       "      <th>Suhu</th>\n",
       "      <th>Kelembaban</th>\n",
       "      <th>Tahap_Pertumbuhan</th>\n",
       "    </tr>\n",
       "  </thead>\n",
       "  <tbody>\n",
       "    <tr>\n",
       "      <th>188</th>\n",
       "      <td>sandy</td>\n",
       "      <td>5.652</td>\n",
       "      <td>daily</td>\n",
       "      <td>none</td>\n",
       "      <td>28.0</td>\n",
       "      <td>70.2</td>\n",
       "      <td>0</td>\n",
       "    </tr>\n",
       "    <tr>\n",
       "      <th>189</th>\n",
       "      <td>clay</td>\n",
       "      <td>7.528</td>\n",
       "      <td>weekly</td>\n",
       "      <td>chemical</td>\n",
       "      <td>30.5</td>\n",
       "      <td>60.1</td>\n",
       "      <td>1</td>\n",
       "    </tr>\n",
       "    <tr>\n",
       "      <th>190</th>\n",
       "      <td>loam</td>\n",
       "      <td>4.934</td>\n",
       "      <td>bi-weekly</td>\n",
       "      <td>none</td>\n",
       "      <td>24.5</td>\n",
       "      <td>61.7</td>\n",
       "      <td>0</td>\n",
       "    </tr>\n",
       "    <tr>\n",
       "      <th>191</th>\n",
       "      <td>sandy</td>\n",
       "      <td>8.273</td>\n",
       "      <td>daily</td>\n",
       "      <td>organic</td>\n",
       "      <td>27.9</td>\n",
       "      <td>69.5</td>\n",
       "      <td>1</td>\n",
       "    </tr>\n",
       "    <tr>\n",
       "      <th>192</th>\n",
       "      <td>clay</td>\n",
       "      <td>6.732</td>\n",
       "      <td>weekly</td>\n",
       "      <td>none</td>\n",
       "      <td>21.7</td>\n",
       "      <td>56.9</td>\n",
       "      <td>0</td>\n",
       "    </tr>\n",
       "  </tbody>\n",
       "</table>\n",
       "</div>"
      ],
      "text/plain": [
       "    Jenis_Tanah  Durasi_Sinar_Matahari Frekuensi_Penyiraman Jenis_Pupuk  Suhu  \\\n",
       "188       sandy                  5.652                daily        none  28.0   \n",
       "189        clay                  7.528               weekly    chemical  30.5   \n",
       "190        loam                  4.934            bi-weekly        none  24.5   \n",
       "191       sandy                  8.273                daily     organic  27.9   \n",
       "192        clay                  6.732               weekly        none  21.7   \n",
       "\n",
       "     Kelembaban  Tahap_Pertumbuhan  \n",
       "188        70.2                  0  \n",
       "189        60.1                  1  \n",
       "190        61.7                  0  \n",
       "191        69.5                  1  \n",
       "192        56.9                  0  "
      ]
     },
     "execution_count": 11,
     "metadata": {},
     "output_type": "execute_result"
    }
   ],
   "source": [
    "df.tail()"
   ]
  },
  {
   "cell_type": "code",
   "execution_count": 12,
   "id": "8e688e75",
   "metadata": {
    "execution": {
     "iopub.execute_input": "2024-07-10T09:32:20.538502Z",
     "iopub.status.busy": "2024-07-10T09:32:20.538085Z",
     "iopub.status.idle": "2024-07-10T09:32:21.611892Z",
     "shell.execute_reply": "2024-07-10T09:32:21.610721Z"
    },
    "papermill": {
     "duration": 1.093253,
     "end_time": "2024-07-10T09:32:21.614450",
     "exception": false,
     "start_time": "2024-07-10T09:32:20.521197",
     "status": "completed"
    },
    "tags": []
   },
   "outputs": [
    {
     "data": {
      "image/png": "[encoded data removed]",
      "text/plain": [
       "<Figure size 1200x1400 with 16 Axes>"
      ]
     },
     "metadata": {},
     "output_type": "display_data"
    }
   ],
   "source": [
    "df.plot(subplots=True, layout=(4,4), kind='box', figsize=(12,14))\n",
    "plt.subplots_adjust(wspace=0.5); \n"
   ]
  },
  {
   "cell_type": "code",
   "execution_count": 13,
   "id": "5eb74517",
   "metadata": {
    "execution": {
     "iopub.execute_input": "2024-07-10T09:32:21.650784Z",
     "iopub.status.busy": "2024-07-10T09:32:21.650377Z",
     "iopub.status.idle": "2024-07-10T09:32:21.813483Z",
     "shell.execute_reply": "2024-07-10T09:32:21.812164Z"
    },
    "papermill": {
     "duration": 0.187516,
     "end_time": "2024-07-10T09:32:21.817815",
     "exception": false,
     "start_time": "2024-07-10T09:32:21.630299",
     "status": "completed"
    },
    "tags": []
   },
   "outputs": [
    {
     "data": {
      "image/png": "[encoded data removed]",
      "text/plain": [
       "<Figure size 640x480 with 1 Axes>"
      ]
     },
     "metadata": {},
     "output_type": "display_data"
    }
   ],
   "source": [
    "#presentase antar brand yang tersedia dapat dilihat dibawah ini\n",
    "df_piechart = df['Jenis_Tanah'].value_counts()\n",
    "\n",
    "labels = df_piechart.index\n",
    "quantity = df_piechart.values\n",
    "colors = plt.cm.tab20(range(len(labels)))\n",
    "explode = (0.1, 0, 0)\n",
    "\n",
    "plt.title('Pie Chart')\n",
    "plt.pie(quantity, labels=labels, colors=colors,\n",
    "        autopct='%1.1f%%', shadow=True, startangle=90, explode=explode)\n",
    "\n",
    "plt.axis('equal')\n",
    "plt.show()"
   ]
  },
  {
   "cell_type": "code",
   "execution_count": 14,
   "id": "0f7c4e1d",
   "metadata": {
    "execution": {
     "iopub.execute_input": "2024-07-10T09:32:21.856912Z",
     "iopub.status.busy": "2024-07-10T09:32:21.856519Z",
     "iopub.status.idle": "2024-07-10T09:32:22.181470Z",
     "shell.execute_reply": "2024-07-10T09:32:22.180312Z"
    },
    "papermill": {
     "duration": 0.348197,
     "end_time": "2024-07-10T09:32:22.184165",
     "exception": false,
     "start_time": "2024-07-10T09:32:21.835968",
     "status": "completed"
    },
    "tags": []
   },
   "outputs": [
    {
     "data": {
      "image/png": "[encoded data removed]",
      "text/plain": [
       "<Figure size 1500x1500 with 1 Axes>"
      ]
     },
     "metadata": {},
     "output_type": "display_data"
    }
   ],
   "source": [
    "#membuat diagram batang untuk perbandingan\n",
    "plt.figure(figsize=(15,15))\n",
    "sns.countplot(data=df, x=\"Frekuensi_Penyiraman\", hue=\"Jenis_Pupuk\")\n",
    "plt.show()"
   ]
  },
  {
   "cell_type": "code",
   "execution_count": 15,
   "id": "a61fe6e0",
   "metadata": {
    "execution": {
     "iopub.execute_input": "2024-07-10T09:32:22.222036Z",
     "iopub.status.busy": "2024-07-10T09:32:22.221631Z",
     "iopub.status.idle": "2024-07-10T09:32:25.171975Z",
     "shell.execute_reply": "2024-07-10T09:32:25.170843Z"
    },
    "papermill": {
     "duration": 2.971244,
     "end_time": "2024-07-10T09:32:25.174558",
     "exception": false,
     "start_time": "2024-07-10T09:32:22.203314",
     "status": "completed"
    },
    "tags": []
   },
   "outputs": [
    {
     "name": "stderr",
     "output_type": "stream",
     "text": [
      "/opt/conda/lib/python3.10/site-packages/plotly/express/_core.py:2065: FutureWarning: When grouping with a length-1 list-like, you will need to pass a length-1 tuple to get_group in a future version of pandas. Pass `(name,)` instead of `name` to silence this warning.\n",
      "  sf: grouped.get_group(s if len(s) > 1 else s[0])\n"
     ]
    },
    {
     "data": {
      "text/html": [
       "        <script type=\"text/javascript\">\n",
       "        window.PlotlyConfig = {MathJaxConfig: 'local'};\n",
       "        if (window.MathJax && window.MathJax.Hub && window.MathJax.Hub.Config) {window.MathJax.Hub.Config({SVG: {font: \"STIX-Web\"}});}\n",
       "        if (typeof require !== 'undefined') {\n",
       "        require.undef(\"plotly\");\n",
       "        requirejs.config({\n",
       "            paths: {\n",
       "                'plotly': ['https://cdn.plot.ly/plotly-2.27.0.min']\n",
       "            }\n",
       "        });\n",
       "        require(['plotly'], function(Plotly) {\n",
       "            window._Plotly = Plotly;\n",
       "        });\n",
       "        }\n",
       "        </script>\n",
       "        "
      ]
     },
     "metadata": {},
     "output_type": "display_data"
    },
    {
     "data": {
      "text/html": [
       "<div>                            <div id=\"5b883764-f1ac-42a6-8898-747d27098b0f\" class=\"plotly-graph-div\" style=\"height:525px; width:100%;\"></div>            <script type=\"text/javascript\">                require([\"plotly\"], function(Plotly) {                    window.PLOTLYENV=window.PLOTLYENV || {};                                    if (document.getElementById(\"5b883764-f1ac-42a6-8898-747d27098b0f\")) {                    Plotly.newPlot(                        \"5b883764-f1ac-42a6-8898-747d27098b0f\",                        [{\"hovertemplate\":\"Jenis_Tanah=loam\\u003cbr\\u003eDurasi_Sinar_Matahari=%{x}\\u003cbr\\u003eSuhu=%{y}\\u003cbr\\u003eKelembaban=%{z}\\u003cextra\\u003e\\u003c\\u002fextra\\u003e\",\"legendgroup\":\"loam\",\"marker\":{\"color\":\"#636efa\",\"opacity\":1,\"symbol\":\"circle\"},\"mode\":\"markers\",\"name\":\"loam\",\"scene\":\"scene\",\"showlegend\":true,\"x\":[5.192294089205035,8.892768570729004,8.241144063085702,4.444267910404542,4.695214357150778,9.17862055525356,7.7397887609653475,5.985388149115895,5.865893930293973,4.152514760464571,4.647348561959827,4.188575114120406,5.88613588645796,5.495753374893249,8.533306831258292,5.372788992949735,5.738508717482608,9.57818591405544,8.848722277386502,8.822032461394688,8.90808859553496,9.164383499538062,7.064483815465394,6.504466018892674,5.510693774952185,4.308872507499936,5.671878785419668,5.437371344001835,8.569717691972306,4.54173862032645,4.244650849328584,6.0,7.0,5.229,4.789,8.442,4.546,5.689,7.456,9.121,5.589,4.372,5.477,6.832,4.918,7.134,6.762,5.334,8.019,4.776,7.093,6.348,9.043,8.263,4.932,5.813,4.568,8.012,7.289,5.922,6.127,4.934],\"y\":[31.71960241024412,23.1790588882854,18.46588640141692,25.984533294122407,28.203947534354626,20.598677938918858,34.097305613263885,29.75793833391537,27.234414924687044,24.469435415611315,18.464037398200304,23.67703298475946,27.31700196104433,22.492252292529425,25.062725171601755,32.12979682376644,18.258688541628597,27.84838556412631,15.530226210832437,26.50948355751758,16.38722601750331,17.01556002754853,16.88885921511857,28.660135468327137,29.70142087607772,23.25235353822853,22.440361715855666,21.81607080506036,17.062477376718654,15.216753029605968,34.0012393410161,22.0,30.0,24.7,31.6,19.3,29.1,20.8,24.6,26.1,31.9,27.2,22.8,31.7,24.3,31.0,22.9,17.6,27.3,24.8,20.4,22.6,26.4,30.6,31.4,26.0,30.1,20.9,28.6,26.8,22.1,24.5],\"z\":[61.59186060848997,44.66053858490323,46.4332272684958,69.57895218629243,34.56030515243452,54.72101523512907,32.877938000832216,57.47644411618678,74.38520913791498,79.33197892505876,48.71353978780601,48.53210735334454,77.36242886919294,48.81297927654579,68.85734579637185,57.92021248679025,75.3177192547368,54.63125521454296,30.567682238370956,35.9408958134036,78.16112697203056,30.60772373449082,32.1579955975288,74.55715568490356,59.21571559615501,61.00662989007684,43.86905914905663,53.18492024699911,64.90808570098726,71.12686214615846,50.912151814530944,55.0,50.0,52.1,68.9,54.1,71.2,57.5,55.9,61.9,52.3,55.2,71.5,47.8,54.9,52.6,46.5,57.7,55.3,70.7,70.0,63.1,70.1,47.5,54.0,60.2,48.0,55.8,60.9,70.6,55.7,61.7],\"type\":\"scatter3d\"},{\"hovertemplate\":\"Jenis_Tanah=sandy\\u003cbr\\u003eDurasi_Sinar_Matahari=%{x}\\u003cbr\\u003eSuhu=%{y}\\u003cbr\\u003eKelembaban=%{z}\\u003cextra\\u003e\\u003c\\u002fextra\\u003e\",\"legendgroup\":\"sandy\",\"marker\":{\"color\":\"#EF553B\",\"opacity\":1,\"symbol\":\"circle\"},\"mode\":\"markers\",\"name\":\"sandy\",\"scene\":\"scene\",\"showlegend\":true,\"x\":[4.033132702741614,8.374043008245923,8.627622080115675,4.381350101716142,8.377637070028385,8.27946872333797,8.564710291701385,6.9627735781863445,7.136396976291964,6.565246110151298,4.461879458972758,4.9673277235240265,7.800422539062541,9.228763541126304,9.355353990939866,5.908020849831184,5.36761097525165,4.041712783187144,4.719192204002097,9.774683769652668,4.8693692325473386,9.913902724663604,5.452331629069002,5.425825263954398,6.20669879631552,7.793834983561477,7.801178264565368,7.214648104448551,9.011814973535428,5.924680389830416,5.119111062399125,7.545357659129451,8.065386171053694,8.0,7.445,8.318,7.019,6.356,7.627,4.118,8.902,4.753,8.556,7.245,4.649,5.612,8.745,5.489,4.813,9.104,5.163,8.239,5.451,4.917,5.789,5.124,8.721,7.491,6.817,5.233,4.671,7.321,5.652,8.273],\"y\":[28.91948412187396,18.12874085342172,20.004857963291904,26.08708105022801,19.95461979002315,15.920052840435057,15.814576046379402,24.483476581746505,16.95668321302003,24.832317502336647,28.173872632378902,16.411374948008596,26.715511625469265,33.80460482849915,27.865764368847064,22.722052756015486,33.107012839121275,15.364436513030997,21.379512605875227,32.549440270541055,33.61514651207129,23.57988054750037,30.017421355829946,33.05105813359133,31.529149322154836,21.40099202061224,32.91046456992401,22.784033574683264,33.10763952838528,16.82573353572267,21.3862727518083,34.012142938751126,26.46875776246572,25.0,18.3,20.1,22.5,30.8,23.9,31.2,15.2,18.7,19.6,30.4,28.5,19.2,20.6,18.1,30.0,28.2,31.5,30.7,31.3,28.7,20.2,27.1,24.1,28.4,26.3,31.8,18.4,20.3,28.0,27.9],\"z\":[52.42227609891599,63.62592280385192,67.618726471884,52.07652506866885,35.853350821380296,34.20534030574987,65.048456572956,65.31211135782482,34.06743903209499,34.241885704259595,51.21110046234881,35.559874115307565,53.43303209970631,32.815163784091865,62.460515105803175,48.7435289761852,73.42995640947302,78.49394133538195,79.64823980596502,61.37790400420317,47.66761140130264,33.88673184824924,78.71974038330833,56.80481831720602,70.68975098534743,64.23655862769397,38.130846967244565,75.54635922469213,77.4899956645962,66.28597541941801,60.6707597967895,76.63642416770065,73.30319447502042,60.0,48.7,62.5,55.4,63.7,69.8,50.4,43.7,47.4,60.7,63.4,55.1,61.6,70.5,69.4,71.8,62.1,50.8,68.3,46.1,54.5,55.0,62.3,55.6,54.3,61.1,47.9,61.5,47.3,70.2,69.5],\"type\":\"scatter3d\"},{\"hovertemplate\":\"Jenis_Tanah=clay\\u003cbr\\u003eDurasi_Sinar_Matahari=%{x}\\u003cbr\\u003eSuhu=%{y}\\u003cbr\\u003eKelembaban=%{z}\\u003cextra\\u003e\\u003c\\u002fextra\\u003e\",\"legendgroup\":\"clay\",\"marker\":{\"color\":\"#00cc96\",\"opacity\":1,\"symbol\":\"circle\"},\"mode\":\"markers\",\"name\":\"clay\",\"scene\":\"scene\",\"showlegend\":true,\"x\":[6.150794371265635,5.951099932160482,7.8253448281312785,9.32327645545796,6.833289550971696,4.71756547562981,7.367663185416977,8.625803079727365,7.818462467582682,7.051424146988216,9.445398843556555,6.462297538213779,5.119420353316215,7.236053451493904,8.844640930984376,9.376547799540958,4.66031154716606,6.562646731757538,5.332646862824381,6.025691028421768,9.657458223475114,5.939217592124532,7.112743730460196,8.218113753371068,6.181777614275764,9.830692496325764,6.983491035354312,5.805269858900618,5.709042966264805,4.221321684127197,7.657386003879381,7.016074139373169,9.449595315799922,6.936716561665378,8.03281328443527,8.369298091671158,5.0,6.812,6.134,5.932,9.128,8.443,6.917,5.667,7.318,6.127,9.872,8.512,7.428,6.217,8.317,7.856,6.698,7.512,6.658,8.991,7.392,6.917,7.528,6.341,9.263,7.945,6.456,8.846,9.034,7.528,6.732],\"y\":[29.291918454001248,23.3920012485558,22.119453573025236,30.15692220928738,15.287869772595116,17.321452810138325,32.10921168022014,29.073157187600472,22.97009468794747,27.701873017352877,15.90608019544089,27.517198314284727,22.76339852413044,24.165057809830333,25.9123357863187,33.8292961755305,34.22381127647829,18.915822695785927,16.42377296920458,31.89750621938909,15.465438714716518,31.28936965177872,20.637095495468,17.363296552433127,28.93474330728301,27.57885693559768,31.06961860769697,20.64069145142613,18.548790875594456,30.012295032817168,31.13669478534528,34.81010284001347,30.52825921483993,32.16825503686024,30.090857481693646,25.105047448957144,20.0,26.5,27.4,17.8,15.7,27.6,18.9,30.3,22.3,25.7,17.1,21.4,26.9,28.9,27.5,26.2,21.5,19.0,27.8,27.9,31.1,18.6,22.0,30.9,22.4,27.0,24.9,27.7,31.7,30.5,21.7],\"z\":[69.48090713972769,47.54575062760394,37.1495841026418,68.07553158587362,60.91090316581305,35.05613380613951,33.638150318209675,71.09300296451781,70.63997836287513,79.30005319114355,67.66890926294708,34.17503583493344,35.87631233885524,67.30224396327117,59.16843825485798,78.10862742372709,44.28560431409304,41.17979192597263,56.385055454314994,33.68982823676994,57.69271422006604,78.46512678095495,56.15489220850744,61.46993190676312,64.78743444923086,52.72705323838866,75.05790052454944,32.272319017072896,44.04815947961151,77.52057420382793,74.51318919454582,52.782837639285646,39.40605798618807,59.1828055925436,79.31053722398013,45.47638081431639,70.0,65.2,70.3,46.2,40.6,49.3,67.1,73.6,68.5,70.9,49.7,69.3,68.2,56.7,60.3,48.1,69.6,61.2,54.6,57.2,68.6,61.4,70.4,69.1,69.2,57.6,70.8,56.8,61.0,60.1,56.9],\"type\":\"scatter3d\"}],                        {\"template\":{\"data\":{\"histogram2dcontour\":[{\"type\":\"histogram2dcontour\",\"colorbar\":{\"outlinewidth\":0,\"ticks\":\"\"},\"colorscale\":[[0.0,\"#0d0887\"],[0.1111111111111111,\"#46039f\"],[0.2222222222222222,\"#7201a8\"],[0.3333333333333333,\"#9c179e\"],[0.4444444444444444,\"#bd3786\"],[0.5555555555555556,\"#d8576b\"],[0.6666666666666666,\"#ed7953\"],[0.7777777777777778,\"#fb9f3a\"],[0.8888888888888888,\"#fdca26\"],[1.0,\"#f0f921\"]]}],\"choropleth\":[{\"type\":\"choropleth\",\"colorbar\":{\"outlinewidth\":0,\"ticks\":\"\"}}],\"histogram2d\":[{\"type\":\"histogram2d\",\"colorbar\":{\"outlinewidth\":0,\"ticks\":\"\"},\"colorscale\":[[0.0,\"#0d0887\"],[0.1111111111111111,\"#46039f\"],[0.2222222222222222,\"#7201a8\"],[0.3333333333333333,\"#9c179e\"],[0.4444444444444444,\"#bd3786\"],[0.5555555555555556,\"#d8576b\"],[0.6666666666666666,\"#ed7953\"],[0.7777777777777778,\"#fb9f3a\"],[0.8888888888888888,\"#fdca26\"],[1.0,\"#f0f921\"]]}],\"heatmap\":[{\"type\":\"heatmap\",\"colorbar\":{\"outlinewidth\":0,\"ticks\":\"\"},\"colorscale\":[[0.0,\"#0d0887\"],[0.1111111111111111,\"#46039f\"],[0.2222222222222222,\"#7201a8\"],[0.3333333333333333,\"#9c179e\"],[0.4444444444444444,\"#bd3786\"],[0.5555555555555556,\"#d8576b\"],[0.6666666666666666,\"#ed7953\"],[0.7777777777777778,\"#fb9f3a\"],[0.8888888888888888,\"#fdca26\"],[1.0,\"#f0f921\"]]}],\"heatmapgl\":[{\"type\":\"heatmapgl\",\"colorbar\":{\"outlinewidth\":0,\"ticks\":\"\"},\"colorscale\":[[0.0,\"#0d0887\"],[0.1111111111111111,\"#46039f\"],[0.2222222222222222,\"#7201a8\"],[0.3333333333333333,\"#9c179e\"],[0.4444444444444444,\"#bd3786\"],[0.5555555555555556,\"#d8576b\"],[0.6666666666666666,\"#ed7953\"],[0.7777777777777778,\"#fb9f3a\"],[0.8888888888888888,\"#fdca26\"],[1.0,\"#f0f921\"]]}],\"contourcarpet\":[{\"type\":\"contourcarpet\",\"colorbar\":{\"outlinewidth\":0,\"ticks\":\"\"}}],\"contour\":[{\"type\":\"contour\",\"colorbar\":{\"outlinewidth\":0,\"ticks\":\"\"},\"colorscale\":[[0.0,\"#0d0887\"],[0.1111111111111111,\"#46039f\"],[0.2222222222222222,\"#7201a8\"],[0.3333333333333333,\"#9c179e\"],[0.4444444444444444,\"#bd3786\"],[0.5555555555555556,\"#d8576b\"],[0.6666666666666666,\"#ed7953\"],[0.7777777777777778,\"#fb9f3a\"],[0.8888888888888888,\"#fdca26\"],[1.0,\"#f0f921\"]]}],\"surface\":[{\"type\":\"surface\",\"colorbar\":{\"outlinewidth\":0,\"ticks\":\"\"},\"colorscale\":[[0.0,\"#0d0887\"],[0.1111111111111111,\"#46039f\"],[0.2222222222222222,\"#7201a8\"],[0.3333333333333333,\"#9c179e\"],[0.4444444444444444,\"#bd3786\"],[0.5555555555555556,\"#d8576b\"],[0.6666666666666666,\"#ed7953\"],[0.7777777777777778,\"#fb9f3a\"],[0.8888888888888888,\"#fdca26\"],[1.0,\"#f0f921\"]]}],\"mesh3d\":[{\"type\":\"mesh3d\",\"colorbar\":{\"outlinewidth\":0,\"ticks\":\"\"}}],\"scatter\":[{\"fillpattern\":{\"fillmode\":\"overlay\",\"size\":10,\"solidity\":0.2},\"type\":\"scatter\"}],\"parcoords\":[{\"type\":\"parcoords\",\"line\":{\"colorbar\":{\"outlinewidth\":0,\"ticks\":\"\"}}}],\"scatterpolargl\":[{\"type\":\"scatterpolargl\",\"marker\":{\"colorbar\":{\"outlinewidth\":0,\"ticks\":\"\"}}}],\"bar\":[{\"error_x\":{\"color\":\"#2a3f5f\"},\"error_y\":{\"color\":\"#2a3f5f\"},\"marker\":{\"line\":{\"color\":\"#E5ECF6\",\"width\":0.5},\"pattern\":{\"fillmode\":\"overlay\",\"size\":10,\"solidity\":0.2}},\"type\":\"bar\"}],\"scattergeo\":[{\"type\":\"scattergeo\",\"marker\":{\"colorbar\":{\"outlinewidth\":0,\"ticks\":\"\"}}}],\"scatterpolar\":[{\"type\":\"scatterpolar\",\"marker\":{\"colorbar\":{\"outlinewidth\":0,\"ticks\":\"\"}}}],\"histogram\":[{\"marker\":{\"pattern\":{\"fillmode\":\"overlay\",\"size\":10,\"solidity\":0.2}},\"type\":\"histogram\"}],\"scattergl\":[{\"type\":\"scattergl\",\"marker\":{\"colorbar\":{\"outlinewidth\":0,\"ticks\":\"\"}}}],\"scatter3d\":[{\"type\":\"scatter3d\",\"line\":{\"colorbar\":{\"outlinewidth\":0,\"ticks\":\"\"}},\"marker\":{\"colorbar\":{\"outlinewidth\":0,\"ticks\":\"\"}}}],\"scattermapbox\":[{\"type\":\"scattermapbox\",\"marker\":{\"colorbar\":{\"outlinewidth\":0,\"ticks\":\"\"}}}],\"scatterternary\":[{\"type\":\"scatterternary\",\"marker\":{\"colorbar\":{\"outlinewidth\":0,\"ticks\":\"\"}}}],\"scattercarpet\":[{\"type\":\"scattercarpet\",\"marker\":{\"colorbar\":{\"outlinewidth\":0,\"ticks\":\"\"}}}],\"carpet\":[{\"aaxis\":{\"endlinecolor\":\"#2a3f5f\",\"gridcolor\":\"white\",\"linecolor\":\"white\",\"minorgridcolor\":\"white\",\"startlinecolor\":\"#2a3f5f\"},\"baxis\":{\"endlinecolor\":\"#2a3f5f\",\"gridcolor\":\"white\",\"linecolor\":\"white\",\"minorgridcolor\":\"white\",\"startlinecolor\":\"#2a3f5f\"},\"type\":\"carpet\"}],\"table\":[{\"cells\":{\"fill\":{\"color\":\"#EBF0F8\"},\"line\":{\"color\":\"white\"}},\"header\":{\"fill\":{\"color\":\"#C8D4E3\"},\"line\":{\"color\":\"white\"}},\"type\":\"table\"}],\"barpolar\":[{\"marker\":{\"line\":{\"color\":\"#E5ECF6\",\"width\":0.5},\"pattern\":{\"fillmode\":\"overlay\",\"size\":10,\"solidity\":0.2}},\"type\":\"barpolar\"}],\"pie\":[{\"automargin\":true,\"type\":\"pie\"}]},\"layout\":{\"autotypenumbers\":\"strict\",\"colorway\":[\"#636efa\",\"#EF553B\",\"#00cc96\",\"#ab63fa\",\"#FFA15A\",\"#19d3f3\",\"#FF6692\",\"#B6E880\",\"#FF97FF\",\"#FECB52\"],\"font\":{\"color\":\"#2a3f5f\"},\"hovermode\":\"closest\",\"hoverlabel\":{\"align\":\"left\"},\"paper_bgcolor\":\"white\",\"plot_bgcolor\":\"#E5ECF6\",\"polar\":{\"bgcolor\":\"#E5ECF6\",\"angularaxis\":{\"gridcolor\":\"white\",\"linecolor\":\"white\",\"ticks\":\"\"},\"radialaxis\":{\"gridcolor\":\"white\",\"linecolor\":\"white\",\"ticks\":\"\"}},\"ternary\":{\"bgcolor\":\"#E5ECF6\",\"aaxis\":{\"gridcolor\":\"white\",\"linecolor\":\"white\",\"ticks\":\"\"},\"baxis\":{\"gridcolor\":\"white\",\"linecolor\":\"white\",\"ticks\":\"\"},\"caxis\":{\"gridcolor\":\"white\",\"linecolor\":\"white\",\"ticks\":\"\"}},\"coloraxis\":{\"colorbar\":{\"outlinewidth\":0,\"ticks\":\"\"}},\"colorscale\":{\"sequential\":[[0.0,\"#0d0887\"],[0.1111111111111111,\"#46039f\"],[0.2222222222222222,\"#7201a8\"],[0.3333333333333333,\"#9c179e\"],[0.4444444444444444,\"#bd3786\"],[0.5555555555555556,\"#d8576b\"],[0.6666666666666666,\"#ed7953\"],[0.7777777777777778,\"#fb9f3a\"],[0.8888888888888888,\"#fdca26\"],[1.0,\"#f0f921\"]],\"sequentialminus\":[[0.0,\"#0d0887\"],[0.1111111111111111,\"#46039f\"],[0.2222222222222222,\"#7201a8\"],[0.3333333333333333,\"#9c179e\"],[0.4444444444444444,\"#bd3786\"],[0.5555555555555556,\"#d8576b\"],[0.6666666666666666,\"#ed7953\"],[0.7777777777777778,\"#fb9f3a\"],[0.8888888888888888,\"#fdca26\"],[1.0,\"#f0f921\"]],\"diverging\":[[0,\"#8e0152\"],[0.1,\"#c51b7d\"],[0.2,\"#de77ae\"],[0.3,\"#f1b6da\"],[0.4,\"#fde0ef\"],[0.5,\"#f7f7f7\"],[0.6,\"#e6f5d0\"],[0.7,\"#b8e186\"],[0.8,\"#7fbc41\"],[0.9,\"#4d9221\"],[1,\"#276419\"]]},\"xaxis\":{\"gridcolor\":\"white\",\"linecolor\":\"white\",\"ticks\":\"\",\"title\":{\"standoff\":15},\"zerolinecolor\":\"white\",\"automargin\":true,\"zerolinewidth\":2},\"yaxis\":{\"gridcolor\":\"white\",\"linecolor\":\"white\",\"ticks\":\"\",\"title\":{\"standoff\":15},\"zerolinecolor\":\"white\",\"automargin\":true,\"zerolinewidth\":2},\"scene\":{\"xaxis\":{\"backgroundcolor\":\"#E5ECF6\",\"gridcolor\":\"white\",\"linecolor\":\"white\",\"showbackground\":true,\"ticks\":\"\",\"zerolinecolor\":\"white\",\"gridwidth\":2},\"yaxis\":{\"backgroundcolor\":\"#E5ECF6\",\"gridcolor\":\"white\",\"linecolor\":\"white\",\"showbackground\":true,\"ticks\":\"\",\"zerolinecolor\":\"white\",\"gridwidth\":2},\"zaxis\":{\"backgroundcolor\":\"#E5ECF6\",\"gridcolor\":\"white\",\"linecolor\":\"white\",\"showbackground\":true,\"ticks\":\"\",\"zerolinecolor\":\"white\",\"gridwidth\":2}},\"shapedefaults\":{\"line\":{\"color\":\"#2a3f5f\"}},\"annotationdefaults\":{\"arrowcolor\":\"#2a3f5f\",\"arrowhead\":0,\"arrowwidth\":1},\"geo\":{\"bgcolor\":\"white\",\"landcolor\":\"#E5ECF6\",\"subunitcolor\":\"white\",\"showland\":true,\"showlakes\":true,\"lakecolor\":\"white\"},\"title\":{\"x\":0.05},\"mapbox\":{\"style\":\"light\"}}},\"scene\":{\"domain\":{\"x\":[0.0,1.0],\"y\":[0.0,1.0]},\"xaxis\":{\"title\":{\"text\":\"Durasi_Sinar_Matahari\"}},\"yaxis\":{\"title\":{\"text\":\"Suhu\"}},\"zaxis\":{\"title\":{\"text\":\"Kelembaban\"}}},\"legend\":{\"title\":{\"text\":\"Jenis_Tanah\"},\"tracegroupgap\":0},\"margin\":{\"t\":0,\"l\":0,\"r\":0,\"b\":0}},                        {\"responsive\": true}                    ).then(function(){\n",
       "                            \n",
       "var gd = document.getElementById('5b883764-f1ac-42a6-8898-747d27098b0f');\n",
       "var x = new MutationObserver(function (mutations, observer) {{\n",
       "        var display = window.getComputedStyle(gd).display;\n",
       "        if (!display || display === 'none') {{\n",
       "            console.log([gd, 'removed!']);\n",
       "            Plotly.purge(gd);\n",
       "            observer.disconnect();\n",
       "        }}\n",
       "}});\n",
       "\n",
       "// Listen for the removal of the full notebook cells\n",
       "var notebookContainer = gd.closest('#notebook-container');\n",
       "if (notebookContainer) {{\n",
       "    x.observe(notebookContainer, {childList: true});\n",
       "}}\n",
       "\n",
       "// Listen for the clearing of the current output cell\n",
       "var outputEl = gd.closest('.output');\n",
       "if (outputEl) {{\n",
       "    x.observe(outputEl, {childList: true});\n",
       "}}\n",
       "\n",
       "                        })                };                });            </script>        </div>"
      ]
     },
     "metadata": {},
     "output_type": "display_data"
    }
   ],
   "source": [
    "import plotly.express as px\n",
    "fig = px.scatter_3d(df, x='Durasi_Sinar_Matahari', y='Suhu', z='Kelembaban', color='Jenis_Tanah', opacity=1)\n",
    "fig.update_layout(margin=dict(l=0, r=0, b=0, t=0))"
   ]
  },
  {
   "cell_type": "code",
   "execution_count": 16,
   "id": "46f7472a",
   "metadata": {
    "execution": {
     "iopub.execute_input": "2024-07-10T09:32:25.213314Z",
     "iopub.status.busy": "2024-07-10T09:32:25.212393Z",
     "iopub.status.idle": "2024-07-10T09:32:25.228862Z",
     "shell.execute_reply": "2024-07-10T09:32:25.227549Z"
    },
    "papermill": {
     "duration": 0.038284,
     "end_time": "2024-07-10T09:32:25.231382",
     "exception": false,
     "start_time": "2024-07-10T09:32:25.193098",
     "status": "completed"
    },
    "tags": []
   },
   "outputs": [
    {
     "data": {
      "text/html": [
       "<div>\n",
       "<style scoped>\n",
       "    .dataframe tbody tr th:only-of-type {\n",
       "        vertical-align: middle;\n",
       "    }\n",
       "\n",
       "    .dataframe tbody tr th {\n",
       "        vertical-align: top;\n",
       "    }\n",
       "\n",
       "    .dataframe thead th {\n",
       "        text-align: right;\n",
       "    }\n",
       "</style>\n",
       "<table border=\"1\" class=\"dataframe\">\n",
       "  <thead>\n",
       "    <tr style=\"text-align: right;\">\n",
       "      <th></th>\n",
       "      <th>Jenis_Tanah</th>\n",
       "      <th>Durasi_Sinar_Matahari</th>\n",
       "      <th>Frekuensi_Penyiraman</th>\n",
       "      <th>Jenis_Pupuk</th>\n",
       "      <th>Suhu</th>\n",
       "      <th>Kelembaban</th>\n",
       "      <th>Tahap_Pertumbuhan</th>\n",
       "    </tr>\n",
       "  </thead>\n",
       "  <tbody>\n",
       "    <tr>\n",
       "      <th>0</th>\n",
       "      <td>loam</td>\n",
       "      <td>5.192294</td>\n",
       "      <td>bi-weekly</td>\n",
       "      <td>chemical</td>\n",
       "      <td>31.719602</td>\n",
       "      <td>61.591861</td>\n",
       "      <td>0</td>\n",
       "    </tr>\n",
       "    <tr>\n",
       "      <th>1</th>\n",
       "      <td>sandy</td>\n",
       "      <td>4.033133</td>\n",
       "      <td>weekly</td>\n",
       "      <td>organic</td>\n",
       "      <td>28.919484</td>\n",
       "      <td>52.422276</td>\n",
       "      <td>1</td>\n",
       "    </tr>\n",
       "    <tr>\n",
       "      <th>2</th>\n",
       "      <td>loam</td>\n",
       "      <td>8.892769</td>\n",
       "      <td>bi-weekly</td>\n",
       "      <td>none</td>\n",
       "      <td>23.179059</td>\n",
       "      <td>44.660539</td>\n",
       "      <td>0</td>\n",
       "    </tr>\n",
       "    <tr>\n",
       "      <th>3</th>\n",
       "      <td>loam</td>\n",
       "      <td>8.241144</td>\n",
       "      <td>bi-weekly</td>\n",
       "      <td>none</td>\n",
       "      <td>18.465886</td>\n",
       "      <td>46.433227</td>\n",
       "      <td>0</td>\n",
       "    </tr>\n",
       "    <tr>\n",
       "      <th>4</th>\n",
       "      <td>sandy</td>\n",
       "      <td>8.374043</td>\n",
       "      <td>bi-weekly</td>\n",
       "      <td>organic</td>\n",
       "      <td>18.128741</td>\n",
       "      <td>63.625923</td>\n",
       "      <td>0</td>\n",
       "    </tr>\n",
       "    <tr>\n",
       "      <th>...</th>\n",
       "      <td>...</td>\n",
       "      <td>...</td>\n",
       "      <td>...</td>\n",
       "      <td>...</td>\n",
       "      <td>...</td>\n",
       "      <td>...</td>\n",
       "      <td>...</td>\n",
       "    </tr>\n",
       "    <tr>\n",
       "      <th>188</th>\n",
       "      <td>sandy</td>\n",
       "      <td>5.652000</td>\n",
       "      <td>daily</td>\n",
       "      <td>none</td>\n",
       "      <td>28.000000</td>\n",
       "      <td>70.200000</td>\n",
       "      <td>0</td>\n",
       "    </tr>\n",
       "    <tr>\n",
       "      <th>189</th>\n",
       "      <td>clay</td>\n",
       "      <td>7.528000</td>\n",
       "      <td>weekly</td>\n",
       "      <td>chemical</td>\n",
       "      <td>30.500000</td>\n",
       "      <td>60.100000</td>\n",
       "      <td>1</td>\n",
       "    </tr>\n",
       "    <tr>\n",
       "      <th>190</th>\n",
       "      <td>loam</td>\n",
       "      <td>4.934000</td>\n",
       "      <td>bi-weekly</td>\n",
       "      <td>none</td>\n",
       "      <td>24.500000</td>\n",
       "      <td>61.700000</td>\n",
       "      <td>0</td>\n",
       "    </tr>\n",
       "    <tr>\n",
       "      <th>191</th>\n",
       "      <td>sandy</td>\n",
       "      <td>8.273000</td>\n",
       "      <td>daily</td>\n",
       "      <td>organic</td>\n",
       "      <td>27.900000</td>\n",
       "      <td>69.500000</td>\n",
       "      <td>1</td>\n",
       "    </tr>\n",
       "    <tr>\n",
       "      <th>192</th>\n",
       "      <td>clay</td>\n",
       "      <td>6.732000</td>\n",
       "      <td>weekly</td>\n",
       "      <td>none</td>\n",
       "      <td>21.700000</td>\n",
       "      <td>56.900000</td>\n",
       "      <td>0</td>\n",
       "    </tr>\n",
       "  </tbody>\n",
       "</table>\n",
       "<p>193 rows × 7 columns</p>\n",
       "</div>"
      ],
      "text/plain": [
       "    Jenis_Tanah  Durasi_Sinar_Matahari Frekuensi_Penyiraman Jenis_Pupuk  \\\n",
       "0          loam               5.192294            bi-weekly    chemical   \n",
       "1         sandy               4.033133               weekly     organic   \n",
       "2          loam               8.892769            bi-weekly        none   \n",
       "3          loam               8.241144            bi-weekly        none   \n",
       "4         sandy               8.374043            bi-weekly     organic   \n",
       "..          ...                    ...                  ...         ...   \n",
       "188       sandy               5.652000                daily        none   \n",
       "189        clay               7.528000               weekly    chemical   \n",
       "190        loam               4.934000            bi-weekly        none   \n",
       "191       sandy               8.273000                daily     organic   \n",
       "192        clay               6.732000               weekly        none   \n",
       "\n",
       "          Suhu  Kelembaban  Tahap_Pertumbuhan  \n",
       "0    31.719602   61.591861                  0  \n",
       "1    28.919484   52.422276                  1  \n",
       "2    23.179059   44.660539                  0  \n",
       "3    18.465886   46.433227                  0  \n",
       "4    18.128741   63.625923                  0  \n",
       "..         ...         ...                ...  \n",
       "188  28.000000   70.200000                  0  \n",
       "189  30.500000   60.100000                  1  \n",
       "190  24.500000   61.700000                  0  \n",
       "191  27.900000   69.500000                  1  \n",
       "192  21.700000   56.900000                  0  \n",
       "\n",
       "[193 rows x 7 columns]"
      ]
     },
     "execution_count": 16,
     "metadata": {},
     "output_type": "execute_result"
    }
   ],
   "source": [
    "df"
   ]
  },
  {
   "cell_type": "code",
   "execution_count": 17,
   "id": "5fc4047d",
   "metadata": {
    "execution": {
     "iopub.execute_input": "2024-07-10T09:32:25.269301Z",
     "iopub.status.busy": "2024-07-10T09:32:25.268924Z",
     "iopub.status.idle": "2024-07-10T09:32:25.475872Z",
     "shell.execute_reply": "2024-07-10T09:32:25.474649Z"
    },
    "papermill": {
     "duration": 0.228975,
     "end_time": "2024-07-10T09:32:25.478121",
     "exception": false,
     "start_time": "2024-07-10T09:32:25.249146",
     "status": "completed"
    },
    "tags": []
   },
   "outputs": [
    {
     "data": {
      "text/html": [
       "<div>\n",
       "<style scoped>\n",
       "    .dataframe tbody tr th:only-of-type {\n",
       "        vertical-align: middle;\n",
       "    }\n",
       "\n",
       "    .dataframe tbody tr th {\n",
       "        vertical-align: top;\n",
       "    }\n",
       "\n",
       "    .dataframe thead th {\n",
       "        text-align: right;\n",
       "    }\n",
       "</style>\n",
       "<table border=\"1\" class=\"dataframe\">\n",
       "  <thead>\n",
       "    <tr style=\"text-align: right;\">\n",
       "      <th></th>\n",
       "      <th>Jenis_Tanah</th>\n",
       "      <th>Durasi_Sinar_Matahari</th>\n",
       "      <th>Frekuensi_Penyiraman</th>\n",
       "      <th>Jenis_Pupuk</th>\n",
       "      <th>Suhu</th>\n",
       "      <th>Kelembaban</th>\n",
       "      <th>Tahap_Pertumbuhan</th>\n",
       "    </tr>\n",
       "  </thead>\n",
       "  <tbody>\n",
       "    <tr>\n",
       "      <th>0</th>\n",
       "      <td>2</td>\n",
       "      <td>5.192294</td>\n",
       "      <td>1</td>\n",
       "      <td>1</td>\n",
       "      <td>31.719602</td>\n",
       "      <td>61.591861</td>\n",
       "      <td>0</td>\n",
       "    </tr>\n",
       "    <tr>\n",
       "      <th>1</th>\n",
       "      <td>1</td>\n",
       "      <td>4.033133</td>\n",
       "      <td>2</td>\n",
       "      <td>2</td>\n",
       "      <td>28.919484</td>\n",
       "      <td>52.422276</td>\n",
       "      <td>1</td>\n",
       "    </tr>\n",
       "    <tr>\n",
       "      <th>2</th>\n",
       "      <td>2</td>\n",
       "      <td>8.892769</td>\n",
       "      <td>1</td>\n",
       "      <td>0</td>\n",
       "      <td>23.179059</td>\n",
       "      <td>44.660539</td>\n",
       "      <td>0</td>\n",
       "    </tr>\n",
       "    <tr>\n",
       "      <th>3</th>\n",
       "      <td>2</td>\n",
       "      <td>8.241144</td>\n",
       "      <td>1</td>\n",
       "      <td>0</td>\n",
       "      <td>18.465886</td>\n",
       "      <td>46.433227</td>\n",
       "      <td>0</td>\n",
       "    </tr>\n",
       "    <tr>\n",
       "      <th>4</th>\n",
       "      <td>1</td>\n",
       "      <td>8.374043</td>\n",
       "      <td>1</td>\n",
       "      <td>2</td>\n",
       "      <td>18.128741</td>\n",
       "      <td>63.625923</td>\n",
       "      <td>0</td>\n",
       "    </tr>\n",
       "    <tr>\n",
       "      <th>...</th>\n",
       "      <td>...</td>\n",
       "      <td>...</td>\n",
       "      <td>...</td>\n",
       "      <td>...</td>\n",
       "      <td>...</td>\n",
       "      <td>...</td>\n",
       "      <td>...</td>\n",
       "    </tr>\n",
       "    <tr>\n",
       "      <th>188</th>\n",
       "      <td>1</td>\n",
       "      <td>5.652000</td>\n",
       "      <td>0</td>\n",
       "      <td>0</td>\n",
       "      <td>28.000000</td>\n",
       "      <td>70.200000</td>\n",
       "      <td>0</td>\n",
       "    </tr>\n",
       "    <tr>\n",
       "      <th>189</th>\n",
       "      <td>0</td>\n",
       "      <td>7.528000</td>\n",
       "      <td>2</td>\n",
       "      <td>1</td>\n",
       "      <td>30.500000</td>\n",
       "      <td>60.100000</td>\n",
       "      <td>1</td>\n",
       "    </tr>\n",
       "    <tr>\n",
       "      <th>190</th>\n",
       "      <td>2</td>\n",
       "      <td>4.934000</td>\n",
       "      <td>1</td>\n",
       "      <td>0</td>\n",
       "      <td>24.500000</td>\n",
       "      <td>61.700000</td>\n",
       "      <td>0</td>\n",
       "    </tr>\n",
       "    <tr>\n",
       "      <th>191</th>\n",
       "      <td>1</td>\n",
       "      <td>8.273000</td>\n",
       "      <td>0</td>\n",
       "      <td>2</td>\n",
       "      <td>27.900000</td>\n",
       "      <td>69.500000</td>\n",
       "      <td>1</td>\n",
       "    </tr>\n",
       "    <tr>\n",
       "      <th>192</th>\n",
       "      <td>0</td>\n",
       "      <td>6.732000</td>\n",
       "      <td>2</td>\n",
       "      <td>0</td>\n",
       "      <td>21.700000</td>\n",
       "      <td>56.900000</td>\n",
       "      <td>0</td>\n",
       "    </tr>\n",
       "  </tbody>\n",
       "</table>\n",
       "<p>193 rows × 7 columns</p>\n",
       "</div>"
      ],
      "text/plain": [
       "     Jenis_Tanah  Durasi_Sinar_Matahari  Frekuensi_Penyiraman  Jenis_Pupuk  \\\n",
       "0              2               5.192294                     1            1   \n",
       "1              1               4.033133                     2            2   \n",
       "2              2               8.892769                     1            0   \n",
       "3              2               8.241144                     1            0   \n",
       "4              1               8.374043                     1            2   \n",
       "..           ...                    ...                   ...          ...   \n",
       "188            1               5.652000                     0            0   \n",
       "189            0               7.528000                     2            1   \n",
       "190            2               4.934000                     1            0   \n",
       "191            1               8.273000                     0            2   \n",
       "192            0               6.732000                     2            0   \n",
       "\n",
       "          Suhu  Kelembaban  Tahap_Pertumbuhan  \n",
       "0    31.719602   61.591861                  0  \n",
       "1    28.919484   52.422276                  1  \n",
       "2    23.179059   44.660539                  0  \n",
       "3    18.465886   46.433227                  0  \n",
       "4    18.128741   63.625923                  0  \n",
       "..         ...         ...                ...  \n",
       "188  28.000000   70.200000                  0  \n",
       "189  30.500000   60.100000                  1  \n",
       "190  24.500000   61.700000                  0  \n",
       "191  27.900000   69.500000                  1  \n",
       "192  21.700000   56.900000                  0  \n",
       "\n",
       "[193 rows x 7 columns]"
      ]
     },
     "execution_count": 17,
     "metadata": {},
     "output_type": "execute_result"
    }
   ],
   "source": [
    "from sklearn.preprocessing import LabelEncoder\n",
    "le = LabelEncoder()\n",
    "mapping1 = {'clay':0,'sandy':1,'loam':2}\n",
    "mapping2 = {'daily':0,'bi-weekly':1,'weekly':2}\n",
    "mapping3 = {'none':0,'chemical':1,'organic':2}\n",
    "df['Jenis_Tanah'] = le.fit_transform(df['Jenis_Tanah'].map(mapping1))\n",
    "df['Frekuensi_Penyiraman'] = le.fit_transform(df['Frekuensi_Penyiraman'].map(mapping2))\n",
    "df['Jenis_Pupuk'] = le.fit_transform(df['Jenis_Pupuk'].map(mapping3))\n",
    "df"
   ]
  },
  {
   "cell_type": "code",
   "execution_count": 18,
   "id": "e4763565",
   "metadata": {
    "execution": {
     "iopub.execute_input": "2024-07-10T09:32:25.515718Z",
     "iopub.status.busy": "2024-07-10T09:32:25.515287Z",
     "iopub.status.idle": "2024-07-10T09:32:26.089907Z",
     "shell.execute_reply": "2024-07-10T09:32:26.088852Z"
    },
    "papermill": {
     "duration": 0.597171,
     "end_time": "2024-07-10T09:32:26.093237",
     "exception": false,
     "start_time": "2024-07-10T09:32:25.496066",
     "status": "completed"
    },
    "tags": []
   },
   "outputs": [
    {
     "data": {
      "image/png": "[encoded data removed]",
      "text/plain": [
       "<Figure size 1500x1500 with 2 Axes>"
      ]
     },
     "metadata": {},
     "output_type": "display_data"
    }
   ],
   "source": [
    "import matplotlib.pyplot as plt #korelasi hubungan antar variabel dapat dilihat dari korelasi di bawah\n",
    "import seaborn as sns\n",
    "plt.figure(figsize=(15,15))# bahwa Total_Phenols,Flavanoids, dan OD280 memliki pengaruh yang besar\n",
    "sns.heatmap(df.corr(),annot=True,fmt=\".2f\",linewidths=0.7,cmap=\"coolwarm\")\n",
    "plt.show()"
   ]
  },
  {
   "cell_type": "code",
   "execution_count": 19,
   "id": "998a808f",
   "metadata": {
    "execution": {
     "iopub.execute_input": "2024-07-10T09:32:26.134504Z",
     "iopub.status.busy": "2024-07-10T09:32:26.134083Z",
     "iopub.status.idle": "2024-07-10T09:32:26.161307Z",
     "shell.execute_reply": "2024-07-10T09:32:26.160192Z"
    },
    "papermill": {
     "duration": 0.050074,
     "end_time": "2024-07-10T09:32:26.163552",
     "exception": false,
     "start_time": "2024-07-10T09:32:26.113478",
     "status": "completed"
    },
    "tags": []
   },
   "outputs": [
    {
     "data": {
      "text/html": [
       "<div>\n",
       "<style scoped>\n",
       "    .dataframe tbody tr th:only-of-type {\n",
       "        vertical-align: middle;\n",
       "    }\n",
       "\n",
       "    .dataframe tbody tr th {\n",
       "        vertical-align: top;\n",
       "    }\n",
       "\n",
       "    .dataframe thead th {\n",
       "        text-align: right;\n",
       "    }\n",
       "</style>\n",
       "<table border=\"1\" class=\"dataframe\">\n",
       "  <thead>\n",
       "    <tr style=\"text-align: right;\">\n",
       "      <th></th>\n",
       "      <th>KolomKe</th>\n",
       "      <th>Nama Kolom</th>\n",
       "      <th>KoefisienKorelasi-Pearson</th>\n",
       "    </tr>\n",
       "  </thead>\n",
       "  <tbody>\n",
       "    <tr>\n",
       "      <th>0</th>\n",
       "      <td>3</td>\n",
       "      <td>Jenis_Pupuk</td>\n",
       "      <td>0.332892</td>\n",
       "    </tr>\n",
       "    <tr>\n",
       "      <th>1</th>\n",
       "      <td>5</td>\n",
       "      <td>Kelembaban</td>\n",
       "      <td>0.130328</td>\n",
       "    </tr>\n",
       "    <tr>\n",
       "      <th>2</th>\n",
       "      <td>1</td>\n",
       "      <td>Durasi_Sinar_Matahari</td>\n",
       "      <td>0.122212</td>\n",
       "    </tr>\n",
       "    <tr>\n",
       "      <th>3</th>\n",
       "      <td>0</td>\n",
       "      <td>Jenis_Tanah</td>\n",
       "      <td>0.094949</td>\n",
       "    </tr>\n",
       "    <tr>\n",
       "      <th>4</th>\n",
       "      <td>4</td>\n",
       "      <td>Suhu</td>\n",
       "      <td>0.053577</td>\n",
       "    </tr>\n",
       "    <tr>\n",
       "      <th>5</th>\n",
       "      <td>2</td>\n",
       "      <td>Frekuensi_Penyiraman</td>\n",
       "      <td>0.019295</td>\n",
       "    </tr>\n",
       "  </tbody>\n",
       "</table>\n",
       "</div>"
      ],
      "text/plain": [
       "   KolomKe             Nama Kolom  KoefisienKorelasi-Pearson\n",
       "0        3            Jenis_Pupuk                   0.332892\n",
       "1        5             Kelembaban                   0.130328\n",
       "2        1  Durasi_Sinar_Matahari                   0.122212\n",
       "3        0            Jenis_Tanah                   0.094949\n",
       "4        4                   Suhu                   0.053577\n",
       "5        2   Frekuensi_Penyiraman                   0.019295"
      ]
     },
     "execution_count": 19,
     "metadata": {},
     "output_type": "execute_result"
    }
   ],
   "source": [
    "import scipy\n",
    "from scipy import stats\n",
    "\n",
    "kolom=len(df.columns)\n",
    "z=[]\n",
    "for i in range (0,kolom-1):\n",
    "  k,y=stats.pearsonr(df.iloc[:,i],df.iloc[:,-1])\n",
    "  z.append([i,df.columns[i], abs(k)])\n",
    "\n",
    "z=sorted(z, key=lambda z:z[2], reverse=True)\n",
    "z=pd.DataFrame(z,columns=[\"KolomKe\",\"Nama Kolom\",\"KoefisienKorelasi-Pearson\"])\n",
    "z"
   ]
  },
  {
   "cell_type": "code",
   "execution_count": 20,
   "id": "3e7e3a04",
   "metadata": {
    "execution": {
     "iopub.execute_input": "2024-07-10T09:32:26.204697Z",
     "iopub.status.busy": "2024-07-10T09:32:26.204278Z",
     "iopub.status.idle": "2024-07-10T09:32:26.501577Z",
     "shell.execute_reply": "2024-07-10T09:32:26.500400Z"
    },
    "papermill": {
     "duration": 0.320759,
     "end_time": "2024-07-10T09:32:26.504137",
     "exception": false,
     "start_time": "2024-07-10T09:32:26.183378",
     "status": "completed"
    },
    "tags": []
   },
   "outputs": [
    {
     "data": {
      "image/png": "[encoded data removed]",
      "text/plain": [
       "<Figure size 640x480 with 1 Axes>"
      ]
     },
     "metadata": {},
     "output_type": "display_data"
    }
   ],
   "source": [
    "import matplotlib.pyplot as plt\n",
    "g=z.head(5)\n",
    "fig = plt.figure()\n",
    "\n",
    "ax = fig.add_axes([1,1, 2, 2])\n",
    "x_axis = g.iloc[:,1]\n",
    "y_axis = g.iloc[:,2]\n",
    "\n",
    "ax.bar(x_axis , y_axis, color = 'y', width = 0.5)\n",
    "\n",
    "plt.title('Korelasi Feature (Dependent Variable) dengan Target - Koefisien Pearson')\n",
    "\n",
    "plt.xlabel('Feature - Dependent variable (kolom)')\n",
    "plt.ylabel('Koefisien Pearson')\n",
    "plt.show()"
   ]
  },
  {
   "cell_type": "markdown",
   "id": "526f8c9b",
   "metadata": {
    "papermill": {
     "duration": 0.020794,
     "end_time": "2024-07-10T09:32:26.545909",
     "exception": false,
     "start_time": "2024-07-10T09:32:26.525115",
     "status": "completed"
    },
    "tags": []
   },
   "source": [
    "# TRAIN TEST SPLIT"
   ]
  },
  {
   "cell_type": "code",
   "execution_count": 21,
   "id": "c09efcf6",
   "metadata": {
    "execution": {
     "iopub.execute_input": "2024-07-10T09:32:26.653204Z",
     "iopub.status.busy": "2024-07-10T09:32:26.652796Z",
     "iopub.status.idle": "2024-07-10T09:32:27.125057Z",
     "shell.execute_reply": "2024-07-10T09:32:27.123833Z"
    },
    "papermill": {
     "duration": 0.497181,
     "end_time": "2024-07-10T09:32:27.127558",
     "exception": false,
     "start_time": "2024-07-10T09:32:26.630377",
     "status": "completed"
    },
    "tags": []
   },
   "outputs": [],
   "source": [
    "x=df.iloc[:,:-1]\n",
    "y=df.iloc[:,-1]\n",
    "from sklearn import tree\n",
    "from sklearn import metrics\n",
    "from sklearn import preprocessing\n",
    "from sklearn.model_selection import train_test_split\n",
    "\n",
    "x_train, x_test, y_train, y_test = train_test_split(x, y, test_size = 0.2, random_state=2)"
   ]
  },
  {
   "cell_type": "markdown",
   "id": "aebb6f12",
   "metadata": {
    "papermill": {
     "duration": 0.019959,
     "end_time": "2024-07-10T09:32:27.169037",
     "exception": false,
     "start_time": "2024-07-10T09:32:27.149078",
     "status": "completed"
    },
    "tags": []
   },
   "source": [
    "# DECISION TREE"
   ]
  },
  {
   "cell_type": "code",
   "execution_count": 22,
   "id": "6651c9e3",
   "metadata": {
    "execution": {
     "iopub.execute_input": "2024-07-10T09:32:27.216477Z",
     "iopub.status.busy": "2024-07-10T09:32:27.216060Z",
     "iopub.status.idle": "2024-07-10T09:32:30.549927Z",
     "shell.execute_reply": "2024-07-10T09:32:30.548721Z"
    },
    "papermill": {
     "duration": 3.362438,
     "end_time": "2024-07-10T09:32:30.552435",
     "exception": false,
     "start_time": "2024-07-10T09:32:27.189997",
     "status": "completed"
    },
    "tags": []
   },
   "outputs": [
    {
     "data": {
      "image/png": "[encoded data removed]",
      "text/plain": [
       "<Figure size 640x480 with 1 Axes>"
      ]
     },
     "metadata": {},
     "output_type": "display_data"
    }
   ],
   "source": [
    "from sklearn.metrics import accuracy_score \n",
    "from sklearn.metrics import classification_report\n",
    "\n",
    "clf=tree.DecisionTreeClassifier()\n",
    "clf.fit(x_train,y_train)\n",
    "tree.plot_tree(clf)\n",
    "zeroes = 0\n",
    "ones=0\n"
   ]
  },
  {
   "cell_type": "code",
   "execution_count": 23,
   "id": "4725a027",
   "metadata": {
    "execution": {
     "iopub.execute_input": "2024-07-10T09:32:30.600999Z",
     "iopub.status.busy": "2024-07-10T09:32:30.600609Z",
     "iopub.status.idle": "2024-07-10T09:32:30.605887Z",
     "shell.execute_reply": "2024-07-10T09:32:30.604695Z"
    },
    "papermill": {
     "duration": 0.033359,
     "end_time": "2024-07-10T09:32:30.608204",
     "exception": false,
     "start_time": "2024-07-10T09:32:30.574845",
     "status": "completed"
    },
    "tags": []
   },
   "outputs": [],
   "source": [
    "from sklearn.model_selection import KFold\n",
    "from sklearn.model_selection import cross_val_score\n",
    "kf = KFold(n_splits=10, shuffle=True)"
   ]
  },
  {
   "cell_type": "code",
   "execution_count": 24,
   "id": "a6f36b67",
   "metadata": {
    "execution": {
     "iopub.execute_input": "2024-07-10T09:32:30.653937Z",
     "iopub.status.busy": "2024-07-10T09:32:30.653484Z",
     "iopub.status.idle": "2024-07-10T09:32:30.735687Z",
     "shell.execute_reply": "2024-07-10T09:32:30.733916Z"
    },
    "papermill": {
     "duration": 0.108752,
     "end_time": "2024-07-10T09:32:30.738898",
     "exception": false,
     "start_time": "2024-07-10T09:32:30.630146",
     "status": "completed"
    },
    "tags": []
   },
   "outputs": [
    {
     "name": "stdout",
     "output_type": "stream",
     "text": [
      "[0.45       0.7        0.65       0.78947368 0.73684211 0.52631579\n",
      " 0.63157895 0.42105263 0.42105263 0.57894737]\n",
      "rata rata KFold nya adalah:  0.5905263157894737\n"
     ]
    }
   ],
   "source": [
    "scores1 = cross_val_score(clf, x, y, cv=kf)\n",
    "print(scores1)\n",
    "print('rata rata KFold nya adalah: ',scores1.mean())"
   ]
  },
  {
   "cell_type": "code",
   "execution_count": 25,
   "id": "50ec1bc9",
   "metadata": {
    "execution": {
     "iopub.execute_input": "2024-07-10T09:32:30.785559Z",
     "iopub.status.busy": "2024-07-10T09:32:30.785130Z",
     "iopub.status.idle": "2024-07-10T09:32:30.795964Z",
     "shell.execute_reply": "2024-07-10T09:32:30.794674Z"
    },
    "papermill": {
     "duration": 0.037016,
     "end_time": "2024-07-10T09:32:30.798523",
     "exception": false,
     "start_time": "2024-07-10T09:32:30.761507",
     "status": "completed"
    },
    "tags": []
   },
   "outputs": [
    {
     "data": {
      "text/plain": [
       "array([1, 0, 0, 0, 0, 1, 1, 0, 0, 0, 1, 1, 0, 1, 1, 1, 1, 1, 1, 1, 0, 1,\n",
       "       1, 0, 0, 1, 1, 0, 0, 1, 1, 0, 1, 1, 1, 0, 1, 1, 1])"
      ]
     },
     "execution_count": 25,
     "metadata": {},
     "output_type": "execute_result"
    }
   ],
   "source": [
    "prediksi1 = clf.predict(x_test)\n",
    "prediksi1"
   ]
  },
  {
   "cell_type": "code",
   "execution_count": 26,
   "id": "34798a0b",
   "metadata": {
    "execution": {
     "iopub.execute_input": "2024-07-10T09:32:30.844291Z",
     "iopub.status.busy": "2024-07-10T09:32:30.843906Z",
     "iopub.status.idle": "2024-07-10T09:32:30.851489Z",
     "shell.execute_reply": "2024-07-10T09:32:30.850165Z"
    },
    "papermill": {
     "duration": 0.033171,
     "end_time": "2024-07-10T09:32:30.853878",
     "exception": false,
     "start_time": "2024-07-10T09:32:30.820707",
     "status": "completed"
    },
    "tags": []
   },
   "outputs": [
    {
     "name": "stdout",
     "output_type": "stream",
     "text": [
      "Accuracy Score untuk algoritma Decision Tree :  48.717948717948715 %\n"
     ]
    }
   ],
   "source": [
    "from sklearn.metrics import accuracy_score\n",
    "print('Accuracy Score untuk algoritma Decision Tree : ',accuracy_score(prediksi1,y_test)*100,'%')"
   ]
  },
  {
   "cell_type": "code",
   "execution_count": 27,
   "id": "aa04be2e",
   "metadata": {
    "execution": {
     "iopub.execute_input": "2024-07-10T09:32:30.899534Z",
     "iopub.status.busy": "2024-07-10T09:32:30.899112Z",
     "iopub.status.idle": "2024-07-10T09:32:30.916721Z",
     "shell.execute_reply": "2024-07-10T09:32:30.915404Z"
    },
    "papermill": {
     "duration": 0.043767,
     "end_time": "2024-07-10T09:32:30.919475",
     "exception": false,
     "start_time": "2024-07-10T09:32:30.875708",
     "status": "completed"
    },
    "tags": []
   },
   "outputs": [
    {
     "name": "stdout",
     "output_type": "stream",
     "text": [
      "Accuracy: 0.48717948717948717\n",
      "Classification Report:\n",
      "              precision    recall  f1-score   support\n",
      "\n",
      "           0       0.47      0.37      0.41        19\n",
      "           1       0.50      0.60      0.55        20\n",
      "\n",
      "    accuracy                           0.49        39\n",
      "   macro avg       0.48      0.48      0.48        39\n",
      "weighted avg       0.48      0.49      0.48        39\n",
      "\n"
     ]
    }
   ],
   "source": [
    "accuracy_Decision_rep = accuracy_score(y_test, prediksi1)\n",
    "classification_rep_Decision = classification_report(y_test, prediksi1)\n",
    "\n",
    "print(f'Accuracy: {accuracy_Decision_rep}')\n",
    "print(f'Classification Report:\\n{classification_rep_Decision}')"
   ]
  },
  {
   "cell_type": "markdown",
   "id": "16a945ca",
   "metadata": {
    "papermill": {
     "duration": 0.023084,
     "end_time": "2024-07-10T09:32:30.967841",
     "exception": false,
     "start_time": "2024-07-10T09:32:30.944757",
     "status": "completed"
    },
    "tags": []
   },
   "source": [
    "# LOGISTIC REGRESSION"
   ]
  },
  {
   "cell_type": "code",
   "execution_count": 28,
   "id": "11005155",
   "metadata": {
    "execution": {
     "iopub.execute_input": "2024-07-10T09:32:31.018061Z",
     "iopub.status.busy": "2024-07-10T09:32:31.017652Z",
     "iopub.status.idle": "2024-07-10T09:32:31.051407Z",
     "shell.execute_reply": "2024-07-10T09:32:31.050089Z"
    },
    "papermill": {
     "duration": 0.061481,
     "end_time": "2024-07-10T09:32:31.054180",
     "exception": false,
     "start_time": "2024-07-10T09:32:30.992699",
     "status": "completed"
    },
    "tags": []
   },
   "outputs": [
    {
     "data": {
      "text/html": [
       "<style>#sk-container-id-1 {color: black;background-color: white;}#sk-container-id-1 pre{padding: 0;}#sk-container-id-1 div.sk-toggleable {background-color: white;}#sk-container-id-1 label.sk-toggleable__label {cursor: pointer;display: block;width: 100%;margin-bottom: 0;padding: 0.3em;box-sizing: border-box;text-align: center;}#sk-container-id-1 label.sk-toggleable__label-arrow:before {content: \"▸\";float: left;margin-right: 0.25em;color: #696969;}#sk-container-id-1 label.sk-toggleable__label-arrow:hover:before {color: black;}#sk-container-id-1 div.sk-estimator:hover label.sk-toggleable__label-arrow:before {color: black;}#sk-container-id-1 div.sk-toggleable__content {max-height: 0;max-width: 0;overflow: hidden;text-align: left;background-color: #f0f8ff;}#sk-container-id-1 div.sk-toggleable__content pre {margin: 0.2em;color: black;border-radius: 0.25em;background-color: #f0f8ff;}#sk-container-id-1 input.sk-toggleable__control:checked~div.sk-toggleable__content {max-height: 200px;max-width: 100%;overflow: auto;}#sk-container-id-1 input.sk-toggleable__control:checked~label.sk-toggleable__label-arrow:before {content: \"▾\";}#sk-container-id-1 div.sk-estimator input.sk-toggleable__control:checked~label.sk-toggleable__label {background-color: #d4ebff;}#sk-container-id-1 div.sk-label input.sk-toggleable__control:checked~label.sk-toggleable__label {background-color: #d4ebff;}#sk-container-id-1 input.sk-hidden--visually {border: 0;clip: rect(1px 1px 1px 1px);clip: rect(1px, 1px, 1px, 1px);height: 1px;margin: -1px;overflow: hidden;padding: 0;position: absolute;width: 1px;}#sk-container-id-1 div.sk-estimator {font-family: monospace;background-color: #f0f8ff;border: 1px dotted black;border-radius: 0.25em;box-sizing: border-box;margin-bottom: 0.5em;}#sk-container-id-1 div.sk-estimator:hover {background-color: #d4ebff;}#sk-container-id-1 div.sk-parallel-item::after {content: \"\";width: 100%;border-bottom: 1px solid gray;flex-grow: 1;}#sk-container-id-1 div.sk-label:hover label.sk-toggleable__label {background-color: #d4ebff;}#sk-container-id-1 div.sk-serial::before {content: \"\";position: absolute;border-left: 1px solid gray;box-sizing: border-box;top: 0;bottom: 0;left: 50%;z-index: 0;}#sk-container-id-1 div.sk-serial {display: flex;flex-direction: column;align-items: center;background-color: white;padding-right: 0.2em;padding-left: 0.2em;position: relative;}#sk-container-id-1 div.sk-item {position: relative;z-index: 1;}#sk-container-id-1 div.sk-parallel {display: flex;align-items: stretch;justify-content: center;background-color: white;position: relative;}#sk-container-id-1 div.sk-item::before, #sk-container-id-1 div.sk-parallel-item::before {content: \"\";position: absolute;border-left: 1px solid gray;box-sizing: border-box;top: 0;bottom: 0;left: 50%;z-index: -1;}#sk-container-id-1 div.sk-parallel-item {display: flex;flex-direction: column;z-index: 1;position: relative;background-color: white;}#sk-container-id-1 div.sk-parallel-item:first-child::after {align-self: flex-end;width: 50%;}#sk-container-id-1 div.sk-parallel-item:last-child::after {align-self: flex-start;width: 50%;}#sk-container-id-1 div.sk-parallel-item:only-child::after {width: 0;}#sk-container-id-1 div.sk-dashed-wrapped {border: 1px dashed gray;margin: 0 0.4em 0.5em 0.4em;box-sizing: border-box;padding-bottom: 0.4em;background-color: white;}#sk-container-id-1 div.sk-label label {font-family: monospace;font-weight: bold;display: inline-block;line-height: 1.2em;}#sk-container-id-1 div.sk-label-container {text-align: center;}#sk-container-id-1 div.sk-container {/* jupyter's `normalize.less` sets `[hidden] { display: none; }` but bootstrap.min.css set `[hidden] { display: none !important; }` so we also need the `!important` here to be able to override the default hidden behavior on the sphinx rendered scikit-learn.org. See: https://github.com/scikit-learn/scikit-learn/issues/21755 */display: inline-block !important;position: relative;}#sk-container-id-1 div.sk-text-repr-fallback {display: none;}</style><div id=\"sk-container-id-1\" class=\"sk-top-container\"><div class=\"sk-text-repr-fallback\"><pre>LogisticRegression()</pre><b>In a Jupyter environment, please rerun this cell to show the HTML representation or trust the notebook. <br />On GitHub, the HTML representation is unable to render, please try loading this page with nbviewer.org.</b></div><div class=\"sk-container\" hidden><div class=\"sk-item\"><div class=\"sk-estimator sk-toggleable\"><input class=\"sk-toggleable__control sk-hidden--visually\" id=\"sk-estimator-id-1\" type=\"checkbox\" checked><label for=\"sk-estimator-id-1\" class=\"sk-toggleable__label sk-toggleable__label-arrow\">LogisticRegression</label><div class=\"sk-toggleable__content\"><pre>LogisticRegression()</pre></div></div></div></div></div>"
      ],
      "text/plain": [
       "LogisticRegression()"
      ]
     },
     "execution_count": 28,
     "metadata": {},
     "output_type": "execute_result"
    }
   ],
   "source": [
    "from warnings import simplefilter\n",
    "from sklearn.exceptions import ConvergenceWarning\n",
    "simplefilter(\"ignore\", category=ConvergenceWarning)\n",
    "from sklearn.metrics import accuracy_score\n",
    "from sklearn.linear_model import LogisticRegression\n",
    "classifier = LogisticRegression()\n",
    "classifier.fit(x_train, y_train)"
   ]
  },
  {
   "cell_type": "code",
   "execution_count": 29,
   "id": "3c1c6b5a",
   "metadata": {
    "execution": {
     "iopub.execute_input": "2024-07-10T09:32:31.103757Z",
     "iopub.status.busy": "2024-07-10T09:32:31.103305Z",
     "iopub.status.idle": "2024-07-10T09:32:31.255586Z",
     "shell.execute_reply": "2024-07-10T09:32:31.254412Z"
    },
    "papermill": {
     "duration": 0.180796,
     "end_time": "2024-07-10T09:32:31.258167",
     "exception": false,
     "start_time": "2024-07-10T09:32:31.077371",
     "status": "completed"
    },
    "tags": []
   },
   "outputs": [
    {
     "name": "stdout",
     "output_type": "stream",
     "text": [
      "[0.6        0.65       0.65       0.68421053 0.52631579 0.47368421\n",
      " 0.47368421 0.68421053 0.68421053 0.68421053]\n",
      "rata rata KFold nya adalah:  0.6110526315789474\n"
     ]
    }
   ],
   "source": [
    "scores2 = cross_val_score(classifier, x, y, cv=kf)\n",
    "print(scores2)\n",
    "print('rata rata KFold nya adalah: ',scores2.mean())"
   ]
  },
  {
   "cell_type": "code",
   "execution_count": 30,
   "id": "3a360c8c",
   "metadata": {
    "execution": {
     "iopub.execute_input": "2024-07-10T09:32:31.306476Z",
     "iopub.status.busy": "2024-07-10T09:32:31.306049Z",
     "iopub.status.idle": "2024-07-10T09:32:31.316164Z",
     "shell.execute_reply": "2024-07-10T09:32:31.314824Z"
    },
    "papermill": {
     "duration": 0.038054,
     "end_time": "2024-07-10T09:32:31.319050",
     "exception": false,
     "start_time": "2024-07-10T09:32:31.280996",
     "status": "completed"
    },
    "tags": []
   },
   "outputs": [
    {
     "data": {
      "text/plain": [
       "array([0, 1, 1, 1, 0, 1, 1, 1, 0, 0, 0, 1, 1, 0, 1, 1, 1, 1, 0, 0, 0, 1,\n",
       "       1, 1, 1, 0, 1, 0, 0, 0, 0, 0, 0, 0, 1, 0, 0, 0, 1])"
      ]
     },
     "execution_count": 30,
     "metadata": {},
     "output_type": "execute_result"
    }
   ],
   "source": [
    "y_predlog = classifier.predict(x_test)\n",
    "y_predlog"
   ]
  },
  {
   "cell_type": "code",
   "execution_count": 31,
   "id": "21d7817b",
   "metadata": {
    "execution": {
     "iopub.execute_input": "2024-07-10T09:32:31.366898Z",
     "iopub.status.busy": "2024-07-10T09:32:31.366498Z",
     "iopub.status.idle": "2024-07-10T09:32:31.374763Z",
     "shell.execute_reply": "2024-07-10T09:32:31.373448Z"
    },
    "papermill": {
     "duration": 0.035442,
     "end_time": "2024-07-10T09:32:31.377066",
     "exception": false,
     "start_time": "2024-07-10T09:32:31.341624",
     "status": "completed"
    },
    "tags": []
   },
   "outputs": [
    {
     "name": "stdout",
     "output_type": "stream",
     "text": [
      "Akurasi menggunkan algoritma logistic Regression adalah : 61.53846153846154 %\n"
     ]
    }
   ],
   "source": [
    "accuracylog = accuracy_score(y_test, y_predlog)\n",
    "print('Akurasi menggunkan algoritma logistic Regression adalah :', (accuracylog)*100,'%')"
   ]
  },
  {
   "cell_type": "code",
   "execution_count": 32,
   "id": "da00edcb",
   "metadata": {
    "execution": {
     "iopub.execute_input": "2024-07-10T09:32:31.426703Z",
     "iopub.status.busy": "2024-07-10T09:32:31.426282Z",
     "iopub.status.idle": "2024-07-10T09:32:31.444816Z",
     "shell.execute_reply": "2024-07-10T09:32:31.443241Z"
    },
    "papermill": {
     "duration": 0.048603,
     "end_time": "2024-07-10T09:32:31.448059",
     "exception": false,
     "start_time": "2024-07-10T09:32:31.399456",
     "status": "completed"
    },
    "tags": []
   },
   "outputs": [
    {
     "name": "stdout",
     "output_type": "stream",
     "text": [
      "Accuracy: 0.6153846153846154\n",
      "Classification Report:\n",
      "              precision    recall  f1-score   support\n",
      "\n",
      "           0       0.60      0.63      0.62        19\n",
      "           1       0.63      0.60      0.62        20\n",
      "\n",
      "    accuracy                           0.62        39\n",
      "   macro avg       0.62      0.62      0.62        39\n",
      "weighted avg       0.62      0.62      0.62        39\n",
      "\n"
     ]
    }
   ],
   "source": [
    "accuracy_LOG_rep = accuracy_score(y_test, y_predlog)\n",
    "classification_rep_LOG = classification_report(y_test, y_predlog)\n",
    "\n",
    "print(f'Accuracy: {accuracy_LOG_rep}')\n",
    "print(f'Classification Report:\\n{classification_rep_LOG}')"
   ]
  },
  {
   "cell_type": "markdown",
   "id": "0df1997f",
   "metadata": {
    "papermill": {
     "duration": 0.022154,
     "end_time": "2024-07-10T09:32:31.493848",
     "exception": false,
     "start_time": "2024-07-10T09:32:31.471694",
     "status": "completed"
    },
    "tags": []
   },
   "source": [
    "# NAIVE BAYES"
   ]
  },
  {
   "cell_type": "code",
   "execution_count": 33,
   "id": "8bf45166",
   "metadata": {
    "execution": {
     "iopub.execute_input": "2024-07-10T09:32:31.542921Z",
     "iopub.status.busy": "2024-07-10T09:32:31.542529Z",
     "iopub.status.idle": "2024-07-10T09:32:31.557467Z",
     "shell.execute_reply": "2024-07-10T09:32:31.556218Z"
    },
    "papermill": {
     "duration": 0.041974,
     "end_time": "2024-07-10T09:32:31.560102",
     "exception": false,
     "start_time": "2024-07-10T09:32:31.518128",
     "status": "completed"
    },
    "tags": []
   },
   "outputs": [
    {
     "data": {
      "text/plain": [
       "array([0, 0, 1, 0, 0, 1, 1, 1, 0, 0, 0, 1, 1, 0, 1, 1, 1, 0, 0, 0, 0, 1,\n",
       "       1, 1, 0, 0, 1, 0, 0, 1, 0, 0, 1, 0, 1, 0, 0, 0, 1])"
      ]
     },
     "execution_count": 33,
     "metadata": {},
     "output_type": "execute_result"
    }
   ],
   "source": [
    "from sklearn.naive_bayes import GaussianNB\n",
    "nb = GaussianNB()\n",
    "nb.fit(x_train, y_train)\n",
    "y_prednaive = nb.predict(x_test)\n",
    "y_prednaive"
   ]
  },
  {
   "cell_type": "code",
   "execution_count": 34,
   "id": "4d336e33",
   "metadata": {
    "execution": {
     "iopub.execute_input": "2024-07-10T09:32:31.608186Z",
     "iopub.status.busy": "2024-07-10T09:32:31.607816Z",
     "iopub.status.idle": "2024-07-10T09:32:31.675406Z",
     "shell.execute_reply": "2024-07-10T09:32:31.674184Z"
    },
    "papermill": {
     "duration": 0.09362,
     "end_time": "2024-07-10T09:32:31.677703",
     "exception": false,
     "start_time": "2024-07-10T09:32:31.584083",
     "status": "completed"
    },
    "tags": []
   },
   "outputs": [
    {
     "name": "stdout",
     "output_type": "stream",
     "text": [
      "[0.8        0.55       0.55       0.57894737 0.68421053 0.42105263\n",
      " 0.78947368 0.42105263 0.47368421 0.63157895]\n",
      "rata rata KFold nya adalah:  0.5900000000000001\n"
     ]
    }
   ],
   "source": [
    "scores3 = cross_val_score(nb, x, y, cv=kf)\n",
    "print(scores3)\n",
    "print('rata rata KFold nya adalah: ',scores3.mean())"
   ]
  },
  {
   "cell_type": "code",
   "execution_count": 35,
   "id": "3fe54c7c",
   "metadata": {
    "execution": {
     "iopub.execute_input": "2024-07-10T09:32:31.726646Z",
     "iopub.status.busy": "2024-07-10T09:32:31.726235Z",
     "iopub.status.idle": "2024-07-10T09:32:31.734258Z",
     "shell.execute_reply": "2024-07-10T09:32:31.733040Z"
    },
    "papermill": {
     "duration": 0.034112,
     "end_time": "2024-07-10T09:32:31.736585",
     "exception": false,
     "start_time": "2024-07-10T09:32:31.702473",
     "status": "completed"
    },
    "tags": []
   },
   "outputs": [
    {
     "name": "stdout",
     "output_type": "stream",
     "text": [
      "Akurasi menggunakan algoritma naive bayes : 61.53846153846154 %\n"
     ]
    }
   ],
   "source": [
    "accuracynavie = accuracy_score(y_test, y_prednaive)\n",
    "print(\"Akurasi menggunakan algoritma naive bayes :\", (accuracynavie)*100,'%')"
   ]
  },
  {
   "cell_type": "code",
   "execution_count": 36,
   "id": "7dbfe4b8",
   "metadata": {
    "execution": {
     "iopub.execute_input": "2024-07-10T09:32:31.785152Z",
     "iopub.status.busy": "2024-07-10T09:32:31.784773Z",
     "iopub.status.idle": "2024-07-10T09:32:31.802630Z",
     "shell.execute_reply": "2024-07-10T09:32:31.801288Z"
    },
    "papermill": {
     "duration": 0.045847,
     "end_time": "2024-07-10T09:32:31.805255",
     "exception": false,
     "start_time": "2024-07-10T09:32:31.759408",
     "status": "completed"
    },
    "tags": []
   },
   "outputs": [
    {
     "name": "stdout",
     "output_type": "stream",
     "text": [
      "Accuracy: 0.6153846153846154\n",
      "Classification Report:\n",
      "              precision    recall  f1-score   support\n",
      "\n",
      "           0       0.59      0.68      0.63        19\n",
      "           1       0.65      0.55      0.59        20\n",
      "\n",
      "    accuracy                           0.62        39\n",
      "   macro avg       0.62      0.62      0.61        39\n",
      "weighted avg       0.62      0.62      0.61        39\n",
      "\n"
     ]
    }
   ],
   "source": [
    "accuracy_Naive_rep = accuracy_score(y_test, y_prednaive)\n",
    "classification_rep_Naive = classification_report(y_test, y_prednaive)\n",
    "\n",
    "print(f'Accuracy: {accuracy_Naive_rep}')\n",
    "print(f'Classification Report:\\n{classification_rep_Naive}')"
   ]
  },
  {
   "cell_type": "markdown",
   "id": "a6183723",
   "metadata": {
    "papermill": {
     "duration": 0.024241,
     "end_time": "2024-07-10T09:32:31.852185",
     "exception": false,
     "start_time": "2024-07-10T09:32:31.827944",
     "status": "completed"
    },
    "tags": []
   },
   "source": [
    "# KNN"
   ]
  },
  {
   "cell_type": "code",
   "execution_count": 37,
   "id": "fe1890e6",
   "metadata": {
    "execution": {
     "iopub.execute_input": "2024-07-10T09:32:31.901791Z",
     "iopub.status.busy": "2024-07-10T09:32:31.900725Z",
     "iopub.status.idle": "2024-07-10T09:32:31.918862Z",
     "shell.execute_reply": "2024-07-10T09:32:31.917738Z"
    },
    "papermill": {
     "duration": 0.045561,
     "end_time": "2024-07-10T09:32:31.921561",
     "exception": false,
     "start_time": "2024-07-10T09:32:31.876000",
     "status": "completed"
    },
    "tags": []
   },
   "outputs": [
    {
     "data": {
      "text/plain": [
       "array([1, 0, 0, 0, 0, 1, 1, 1, 0, 1, 0, 0, 1, 1, 1, 0, 0, 0, 0, 0, 0, 0,\n",
       "       1, 1, 0, 1, 1, 0, 0, 0, 0, 0, 1, 1, 0, 0, 1, 1, 0])"
      ]
     },
     "execution_count": 37,
     "metadata": {},
     "output_type": "execute_result"
    }
   ],
   "source": [
    "from sklearn.neighbors import KNeighborsClassifier\n",
    "knn = KNeighborsClassifier(n_neighbors=3)\n",
    "knn.fit(x_train, y_train)\n",
    "y_predknn = knn.predict(x_test)\n",
    "y_predknn"
   ]
  },
  {
   "cell_type": "code",
   "execution_count": 38,
   "id": "ceb9d0fb",
   "metadata": {
    "execution": {
     "iopub.execute_input": "2024-07-10T09:32:31.970079Z",
     "iopub.status.busy": "2024-07-10T09:32:31.969569Z",
     "iopub.status.idle": "2024-07-10T09:32:32.061876Z",
     "shell.execute_reply": "2024-07-10T09:32:32.060429Z"
    },
    "papermill": {
     "duration": 0.119423,
     "end_time": "2024-07-10T09:32:32.064651",
     "exception": false,
     "start_time": "2024-07-10T09:32:31.945228",
     "status": "completed"
    },
    "tags": []
   },
   "outputs": [
    {
     "name": "stdout",
     "output_type": "stream",
     "text": [
      "[0.4        0.55       0.55       0.47368421 0.63157895 0.63157895\n",
      " 0.42105263 0.36842105 0.47368421 0.36842105]\n",
      "rata rata KFold nya adalah:  0.48684210526315785\n"
     ]
    }
   ],
   "source": [
    "scores4 = cross_val_score(knn, x, y, cv=kf)\n",
    "print(scores4)\n",
    "print('rata rata KFold nya adalah: ',scores4.mean())"
   ]
  },
  {
   "cell_type": "code",
   "execution_count": 39,
   "id": "cf7f39a4",
   "metadata": {
    "execution": {
     "iopub.execute_input": "2024-07-10T09:32:32.115200Z",
     "iopub.status.busy": "2024-07-10T09:32:32.114799Z",
     "iopub.status.idle": "2024-07-10T09:32:32.122899Z",
     "shell.execute_reply": "2024-07-10T09:32:32.121435Z"
    },
    "papermill": {
     "duration": 0.035628,
     "end_time": "2024-07-10T09:32:32.125406",
     "exception": false,
     "start_time": "2024-07-10T09:32:32.089778",
     "status": "completed"
    },
    "tags": []
   },
   "outputs": [
    {
     "name": "stdout",
     "output_type": "stream",
     "text": [
      "akurasi untuk penggunaan algoritma KNN adalah : 48.717948717948715 %\n"
     ]
    }
   ],
   "source": [
    "accuracyknn = accuracy_score(y_test, y_predknn)\n",
    "print('akurasi untuk penggunaan algoritma KNN adalah :',(accuracyknn)*100,'%')"
   ]
  },
  {
   "cell_type": "code",
   "execution_count": 40,
   "id": "6ef2cffa",
   "metadata": {
    "execution": {
     "iopub.execute_input": "2024-07-10T09:32:32.173512Z",
     "iopub.status.busy": "2024-07-10T09:32:32.172755Z",
     "iopub.status.idle": "2024-07-10T09:32:32.191662Z",
     "shell.execute_reply": "2024-07-10T09:32:32.190313Z"
    },
    "papermill": {
     "duration": 0.045596,
     "end_time": "2024-07-10T09:32:32.193874",
     "exception": false,
     "start_time": "2024-07-10T09:32:32.148278",
     "status": "completed"
    },
    "tags": []
   },
   "outputs": [
    {
     "name": "stdout",
     "output_type": "stream",
     "text": [
      "Accuracy: 0.48717948717948717\n",
      "Classification Report:\n",
      "              precision    recall  f1-score   support\n",
      "\n",
      "           0       0.48      0.58      0.52        19\n",
      "           1       0.50      0.40      0.44        20\n",
      "\n",
      "    accuracy                           0.49        39\n",
      "   macro avg       0.49      0.49      0.48        39\n",
      "weighted avg       0.49      0.49      0.48        39\n",
      "\n"
     ]
    }
   ],
   "source": [
    "accuracy_KNN_rep = accuracy_score(y_test, y_predknn)\n",
    "classification_rep_KNN = classification_report(y_test, y_predknn)\n",
    "\n",
    "print(f'Accuracy: {accuracy_KNN_rep}')\n",
    "print(f'Classification Report:\\n{classification_rep_KNN}')"
   ]
  },
  {
   "cell_type": "markdown",
   "id": "d49ada08",
   "metadata": {
    "papermill": {
     "duration": 0.023243,
     "end_time": "2024-07-10T09:32:32.239852",
     "exception": false,
     "start_time": "2024-07-10T09:32:32.216609",
     "status": "completed"
    },
    "tags": []
   },
   "source": [
    "# LINEAR DESCRIMINANT ANALYSIST LDA"
   ]
  },
  {
   "cell_type": "code",
   "execution_count": 41,
   "id": "5038fc84",
   "metadata": {
    "execution": {
     "iopub.execute_input": "2024-07-10T09:32:32.288313Z",
     "iopub.status.busy": "2024-07-10T09:32:32.287912Z",
     "iopub.status.idle": "2024-07-10T09:32:32.326012Z",
     "shell.execute_reply": "2024-07-10T09:32:32.324445Z"
    },
    "papermill": {
     "duration": 0.065882,
     "end_time": "2024-07-10T09:32:32.328667",
     "exception": false,
     "start_time": "2024-07-10T09:32:32.262785",
     "status": "completed"
    },
    "tags": []
   },
   "outputs": [
    {
     "data": {
      "text/plain": [
       "array([0, 1, 1, 1, 0, 0, 1, 1, 0, 0, 0, 1, 1, 0, 1, 1, 1, 1, 0, 0, 0, 1,\n",
       "       1, 1, 1, 0, 1, 0, 0, 0, 0, 0, 0, 0, 1, 0, 0, 0, 1])"
      ]
     },
     "execution_count": 41,
     "metadata": {},
     "output_type": "execute_result"
    }
   ],
   "source": [
    "from sklearn.discriminant_analysis import LinearDiscriminantAnalysis\n",
    "lda = LinearDiscriminantAnalysis()\n",
    "lda.fit(x_train, y_train)\n",
    "y_predLDA = lda.predict(x_test)\n",
    "accuracyLDA = accuracy_score(y_test, y_predLDA)\n",
    "y_predLDA"
   ]
  },
  {
   "cell_type": "code",
   "execution_count": 42,
   "id": "d1f704b1",
   "metadata": {
    "execution": {
     "iopub.execute_input": "2024-07-10T09:32:32.377199Z",
     "iopub.status.busy": "2024-07-10T09:32:32.376813Z",
     "iopub.status.idle": "2024-07-10T09:32:32.446728Z",
     "shell.execute_reply": "2024-07-10T09:32:32.445405Z"
    },
    "papermill": {
     "duration": 0.097474,
     "end_time": "2024-07-10T09:32:32.449140",
     "exception": false,
     "start_time": "2024-07-10T09:32:32.351666",
     "status": "completed"
    },
    "tags": []
   },
   "outputs": [
    {
     "name": "stdout",
     "output_type": "stream",
     "text": [
      "[0.9        0.75       0.65       0.68421053 0.57894737 0.63157895\n",
      " 0.63157895 0.42105263 0.57894737 0.47368421]\n",
      "rata rata KFold nya adalah:  0.63\n"
     ]
    }
   ],
   "source": [
    "scores5 = cross_val_score(lda, x, y, cv=kf)\n",
    "print(scores5)\n",
    "print('rata rata KFold nya adalah: ',scores5.mean())"
   ]
  },
  {
   "cell_type": "code",
   "execution_count": 43,
   "id": "41353176",
   "metadata": {
    "execution": {
     "iopub.execute_input": "2024-07-10T09:32:32.498236Z",
     "iopub.status.busy": "2024-07-10T09:32:32.497879Z",
     "iopub.status.idle": "2024-07-10T09:32:32.503859Z",
     "shell.execute_reply": "2024-07-10T09:32:32.502764Z"
    },
    "papermill": {
     "duration": 0.033641,
     "end_time": "2024-07-10T09:32:32.506317",
     "exception": false,
     "start_time": "2024-07-10T09:32:32.472676",
     "status": "completed"
    },
    "tags": []
   },
   "outputs": [
    {
     "name": "stdout",
     "output_type": "stream",
     "text": [
      "Akurasi untuk penggunaan algoritma Linear Discriminant Analysis: 64.1025641025641 %\n"
     ]
    }
   ],
   "source": [
    "print(\"Akurasi untuk penggunaan algoritma Linear Discriminant Analysis:\", (accuracyLDA)*100,'%')"
   ]
  },
  {
   "cell_type": "code",
   "execution_count": 44,
   "id": "8c6aac65",
   "metadata": {
    "execution": {
     "iopub.execute_input": "2024-07-10T09:32:32.568041Z",
     "iopub.status.busy": "2024-07-10T09:32:32.567509Z",
     "iopub.status.idle": "2024-07-10T09:32:32.587961Z",
     "shell.execute_reply": "2024-07-10T09:32:32.586153Z"
    },
    "papermill": {
     "duration": 0.058065,
     "end_time": "2024-07-10T09:32:32.590630",
     "exception": false,
     "start_time": "2024-07-10T09:32:32.532565",
     "status": "completed"
    },
    "tags": []
   },
   "outputs": [
    {
     "name": "stdout",
     "output_type": "stream",
     "text": [
      "Accuracy: 0.6410256410256411\n",
      "Classification Report:\n",
      "              precision    recall  f1-score   support\n",
      "\n",
      "           0       0.62      0.68      0.65        19\n",
      "           1       0.67      0.60      0.63        20\n",
      "\n",
      "    accuracy                           0.64        39\n",
      "   macro avg       0.64      0.64      0.64        39\n",
      "weighted avg       0.64      0.64      0.64        39\n",
      "\n"
     ]
    }
   ],
   "source": [
    "accuracy_LDA_rep = accuracy_score(y_test, y_predLDA)\n",
    "classification_rep_LDA = classification_report(y_test, y_predLDA)\n",
    "\n",
    "print(f'Accuracy: {accuracy_LDA_rep}')\n",
    "print(f'Classification Report:\\n{classification_rep_LDA}')"
   ]
  },
  {
   "cell_type": "markdown",
   "id": "cf7fb65f",
   "metadata": {
    "papermill": {
     "duration": 0.024015,
     "end_time": "2024-07-10T09:32:32.639506",
     "exception": false,
     "start_time": "2024-07-10T09:32:32.615491",
     "status": "completed"
    },
    "tags": []
   },
   "source": [
    "# EXTRA TRESS CLASIFIER"
   ]
  },
  {
   "cell_type": "code",
   "execution_count": 45,
   "id": "8814e108",
   "metadata": {
    "execution": {
     "iopub.execute_input": "2024-07-10T09:32:32.689553Z",
     "iopub.status.busy": "2024-07-10T09:32:32.689102Z",
     "iopub.status.idle": "2024-07-10T09:32:32.912509Z",
     "shell.execute_reply": "2024-07-10T09:32:32.911171Z"
    },
    "papermill": {
     "duration": 0.252211,
     "end_time": "2024-07-10T09:32:32.914945",
     "exception": false,
     "start_time": "2024-07-10T09:32:32.662734",
     "status": "completed"
    },
    "tags": []
   },
   "outputs": [
    {
     "data": {
      "text/plain": [
       "array([0, 0, 1, 0, 0, 0, 1, 1, 0, 0, 0, 1, 1, 1, 1, 0, 1, 0, 0, 1, 0, 1,\n",
       "       1, 1, 1, 1, 1, 0, 0, 1, 0, 1, 1, 1, 0, 0, 0, 0, 1])"
      ]
     },
     "execution_count": 45,
     "metadata": {},
     "output_type": "execute_result"
    }
   ],
   "source": [
    "from sklearn.ensemble import ExtraTreesClassifier\n",
    "model = ExtraTreesClassifier(n_estimators=100, random_state=0)\n",
    "model.fit(x_train, y_train)\n",
    "y_predETC = model.predict(x_test)\n",
    "accuracyETC = accuracy_score(y_test, y_predETC)\n",
    "y_predETC"
   ]
  },
  {
   "cell_type": "code",
   "execution_count": 46,
   "id": "73101c71",
   "metadata": {
    "execution": {
     "iopub.execute_input": "2024-07-10T09:32:32.964727Z",
     "iopub.status.busy": "2024-07-10T09:32:32.964300Z",
     "iopub.status.idle": "2024-07-10T09:32:34.500892Z",
     "shell.execute_reply": "2024-07-10T09:32:34.499422Z"
    },
    "papermill": {
     "duration": 1.564608,
     "end_time": "2024-07-10T09:32:34.503416",
     "exception": false,
     "start_time": "2024-07-10T09:32:32.938808",
     "status": "completed"
    },
    "tags": []
   },
   "outputs": [
    {
     "name": "stdout",
     "output_type": "stream",
     "text": [
      "[0.8        0.5        0.6        0.57894737 0.68421053 0.57894737\n",
      " 0.68421053 0.52631579 0.57894737 0.68421053]\n",
      "rata rata nya adalah:  0.6215789473684211\n"
     ]
    }
   ],
   "source": [
    "scores6 = cross_val_score(model, x, y, cv=kf)\n",
    "print(scores6)\n",
    "print('rata rata nya adalah: ',scores6.mean())"
   ]
  },
  {
   "cell_type": "code",
   "execution_count": 47,
   "id": "8f7b0fa6",
   "metadata": {
    "execution": {
     "iopub.execute_input": "2024-07-10T09:32:34.553498Z",
     "iopub.status.busy": "2024-07-10T09:32:34.552440Z",
     "iopub.status.idle": "2024-07-10T09:32:34.558804Z",
     "shell.execute_reply": "2024-07-10T09:32:34.557605Z"
    },
    "papermill": {
     "duration": 0.033546,
     "end_time": "2024-07-10T09:32:34.561197",
     "exception": false,
     "start_time": "2024-07-10T09:32:34.527651",
     "status": "completed"
    },
    "tags": []
   },
   "outputs": [
    {
     "name": "stdout",
     "output_type": "stream",
     "text": [
      "Akurasi untuk penggunaan algoritma ExtraTreesClassifier : 79.48717948717949 %\n"
     ]
    }
   ],
   "source": [
    "print(\"Akurasi untuk penggunaan algoritma ExtraTreesClassifier :\", (accuracyETC)*100,'%')"
   ]
  },
  {
   "cell_type": "code",
   "execution_count": 48,
   "id": "45730ad4",
   "metadata": {
    "execution": {
     "iopub.execute_input": "2024-07-10T09:32:34.610921Z",
     "iopub.status.busy": "2024-07-10T09:32:34.610526Z",
     "iopub.status.idle": "2024-07-10T09:32:34.627688Z",
     "shell.execute_reply": "2024-07-10T09:32:34.626618Z"
    },
    "papermill": {
     "duration": 0.044591,
     "end_time": "2024-07-10T09:32:34.630024",
     "exception": false,
     "start_time": "2024-07-10T09:32:34.585433",
     "status": "completed"
    },
    "tags": []
   },
   "outputs": [
    {
     "name": "stdout",
     "output_type": "stream",
     "text": [
      "Accuracy: 0.7948717948717948\n",
      "Classification Report:\n",
      "              precision    recall  f1-score   support\n",
      "\n",
      "           0       0.79      0.79      0.79        19\n",
      "           1       0.80      0.80      0.80        20\n",
      "\n",
      "    accuracy                           0.79        39\n",
      "   macro avg       0.79      0.79      0.79        39\n",
      "weighted avg       0.79      0.79      0.79        39\n",
      "\n"
     ]
    }
   ],
   "source": [
    "accuracy_ETC_rep = accuracy_score(y_test, y_predETC)\n",
    "classification_rep_ETC = classification_report(y_test, y_predETC)\n",
    "\n",
    "print(f'Accuracy: {accuracy_ETC_rep}')\n",
    "print(f'Classification Report:\\n{classification_rep_ETC}')"
   ]
  },
  {
   "cell_type": "markdown",
   "id": "b8ab9e9a",
   "metadata": {
    "papermill": {
     "duration": 0.023622,
     "end_time": "2024-07-10T09:32:34.677714",
     "exception": false,
     "start_time": "2024-07-10T09:32:34.654092",
     "status": "completed"
    },
    "tags": []
   },
   "source": [
    "# RANDOM FOREST"
   ]
  },
  {
   "cell_type": "code",
   "execution_count": 49,
   "id": "13a944ad",
   "metadata": {
    "execution": {
     "iopub.execute_input": "2024-07-10T09:32:34.730041Z",
     "iopub.status.busy": "2024-07-10T09:32:34.729646Z",
     "iopub.status.idle": "2024-07-10T09:32:34.787313Z",
     "shell.execute_reply": "2024-07-10T09:32:34.786181Z"
    },
    "papermill": {
     "duration": 0.08558,
     "end_time": "2024-07-10T09:32:34.789878",
     "exception": false,
     "start_time": "2024-07-10T09:32:34.704298",
     "status": "completed"
    },
    "tags": []
   },
   "outputs": [
    {
     "data": {
      "text/html": [
       "<style>#sk-container-id-2 {color: black;background-color: white;}#sk-container-id-2 pre{padding: 0;}#sk-container-id-2 div.sk-toggleable {background-color: white;}#sk-container-id-2 label.sk-toggleable__label {cursor: pointer;display: block;width: 100%;margin-bottom: 0;padding: 0.3em;box-sizing: border-box;text-align: center;}#sk-container-id-2 label.sk-toggleable__label-arrow:before {content: \"▸\";float: left;margin-right: 0.25em;color: #696969;}#sk-container-id-2 label.sk-toggleable__label-arrow:hover:before {color: black;}#sk-container-id-2 div.sk-estimator:hover label.sk-toggleable__label-arrow:before {color: black;}#sk-container-id-2 div.sk-toggleable__content {max-height: 0;max-width: 0;overflow: hidden;text-align: left;background-color: #f0f8ff;}#sk-container-id-2 div.sk-toggleable__content pre {margin: 0.2em;color: black;border-radius: 0.25em;background-color: #f0f8ff;}#sk-container-id-2 input.sk-toggleable__control:checked~div.sk-toggleable__content {max-height: 200px;max-width: 100%;overflow: auto;}#sk-container-id-2 input.sk-toggleable__control:checked~label.sk-toggleable__label-arrow:before {content: \"▾\";}#sk-container-id-2 div.sk-estimator input.sk-toggleable__control:checked~label.sk-toggleable__label {background-color: #d4ebff;}#sk-container-id-2 div.sk-label input.sk-toggleable__control:checked~label.sk-toggleable__label {background-color: #d4ebff;}#sk-container-id-2 input.sk-hidden--visually {border: 0;clip: rect(1px 1px 1px 1px);clip: rect(1px, 1px, 1px, 1px);height: 1px;margin: -1px;overflow: hidden;padding: 0;position: absolute;width: 1px;}#sk-container-id-2 div.sk-estimator {font-family: monospace;background-color: #f0f8ff;border: 1px dotted black;border-radius: 0.25em;box-sizing: border-box;margin-bottom: 0.5em;}#sk-container-id-2 div.sk-estimator:hover {background-color: #d4ebff;}#sk-container-id-2 div.sk-parallel-item::after {content: \"\";width: 100%;border-bottom: 1px solid gray;flex-grow: 1;}#sk-container-id-2 div.sk-label:hover label.sk-toggleable__label {background-color: #d4ebff;}#sk-container-id-2 div.sk-serial::before {content: \"\";position: absolute;border-left: 1px solid gray;box-sizing: border-box;top: 0;bottom: 0;left: 50%;z-index: 0;}#sk-container-id-2 div.sk-serial {display: flex;flex-direction: column;align-items: center;background-color: white;padding-right: 0.2em;padding-left: 0.2em;position: relative;}#sk-container-id-2 div.sk-item {position: relative;z-index: 1;}#sk-container-id-2 div.sk-parallel {display: flex;align-items: stretch;justify-content: center;background-color: white;position: relative;}#sk-container-id-2 div.sk-item::before, #sk-container-id-2 div.sk-parallel-item::before {content: \"\";position: absolute;border-left: 1px solid gray;box-sizing: border-box;top: 0;bottom: 0;left: 50%;z-index: -1;}#sk-container-id-2 div.sk-parallel-item {display: flex;flex-direction: column;z-index: 1;position: relative;background-color: white;}#sk-container-id-2 div.sk-parallel-item:first-child::after {align-self: flex-end;width: 50%;}#sk-container-id-2 div.sk-parallel-item:last-child::after {align-self: flex-start;width: 50%;}#sk-container-id-2 div.sk-parallel-item:only-child::after {width: 0;}#sk-container-id-2 div.sk-dashed-wrapped {border: 1px dashed gray;margin: 0 0.4em 0.5em 0.4em;box-sizing: border-box;padding-bottom: 0.4em;background-color: white;}#sk-container-id-2 div.sk-label label {font-family: monospace;font-weight: bold;display: inline-block;line-height: 1.2em;}#sk-container-id-2 div.sk-label-container {text-align: center;}#sk-container-id-2 div.sk-container {/* jupyter's `normalize.less` sets `[hidden] { display: none; }` but bootstrap.min.css set `[hidden] { display: none !important; }` so we also need the `!important` here to be able to override the default hidden behavior on the sphinx rendered scikit-learn.org. See: https://github.com/scikit-learn/scikit-learn/issues/21755 */display: inline-block !important;position: relative;}#sk-container-id-2 div.sk-text-repr-fallback {display: none;}</style><div id=\"sk-container-id-2\" class=\"sk-top-container\"><div class=\"sk-text-repr-fallback\"><pre>RandomForestClassifier(n_estimators=25, random_state=2)</pre><b>In a Jupyter environment, please rerun this cell to show the HTML representation or trust the notebook. <br />On GitHub, the HTML representation is unable to render, please try loading this page with nbviewer.org.</b></div><div class=\"sk-container\" hidden><div class=\"sk-item\"><div class=\"sk-estimator sk-toggleable\"><input class=\"sk-toggleable__control sk-hidden--visually\" id=\"sk-estimator-id-2\" type=\"checkbox\" checked><label for=\"sk-estimator-id-2\" class=\"sk-toggleable__label sk-toggleable__label-arrow\">RandomForestClassifier</label><div class=\"sk-toggleable__content\"><pre>RandomForestClassifier(n_estimators=25, random_state=2)</pre></div></div></div></div></div>"
      ],
      "text/plain": [
       "RandomForestClassifier(n_estimators=25, random_state=2)"
      ]
     },
     "execution_count": 49,
     "metadata": {},
     "output_type": "execute_result"
    }
   ],
   "source": [
    "from sklearn.ensemble import RandomForestClassifier\n",
    "Random_forest = RandomForestClassifier(n_estimators = 25, random_state=2)\n",
    "Random_forest.fit(x_train, y_train)"
   ]
  },
  {
   "cell_type": "code",
   "execution_count": 50,
   "id": "a0a423d4",
   "metadata": {
    "execution": {
     "iopub.execute_input": "2024-07-10T09:32:34.840275Z",
     "iopub.status.busy": "2024-07-10T09:32:34.839902Z",
     "iopub.status.idle": "2024-07-10T09:32:34.845111Z",
     "shell.execute_reply": "2024-07-10T09:32:34.844113Z"
    },
    "papermill": {
     "duration": 0.032507,
     "end_time": "2024-07-10T09:32:34.847271",
     "exception": false,
     "start_time": "2024-07-10T09:32:34.814764",
     "status": "completed"
    },
    "tags": []
   },
   "outputs": [],
   "source": [
    "from sklearn.model_selection import KFold\n",
    "from sklearn.model_selection import cross_val_score\n",
    "kf = KFold(n_splits=7, shuffle=True)"
   ]
  },
  {
   "cell_type": "code",
   "execution_count": 51,
   "id": "cd082fdc",
   "metadata": {
    "execution": {
     "iopub.execute_input": "2024-07-10T09:32:34.897171Z",
     "iopub.status.busy": "2024-07-10T09:32:34.896735Z",
     "iopub.status.idle": "2024-07-10T09:32:35.280204Z",
     "shell.execute_reply": "2024-07-10T09:32:35.278629Z"
    },
    "papermill": {
     "duration": 0.411463,
     "end_time": "2024-07-10T09:32:35.282992",
     "exception": false,
     "start_time": "2024-07-10T09:32:34.871529",
     "status": "completed"
    },
    "tags": []
   },
   "outputs": [
    {
     "name": "stdout",
     "output_type": "stream",
     "text": [
      "[0.67857143 0.60714286 0.75       0.57142857 0.77777778 0.62962963\n",
      " 0.48148148]\n",
      "rata rata KFold nya adalah:  0.6422902494331065\n"
     ]
    }
   ],
   "source": [
    "scores7 = cross_val_score(Random_forest, x, y, cv=kf)\n",
    "print(scores7)\n",
    "print('rata rata KFold nya adalah: ',scores7.mean())"
   ]
  },
  {
   "cell_type": "code",
   "execution_count": 52,
   "id": "f762297d",
   "metadata": {
    "execution": {
     "iopub.execute_input": "2024-07-10T09:32:35.335049Z",
     "iopub.status.busy": "2024-07-10T09:32:35.334642Z",
     "iopub.status.idle": "2024-07-10T09:32:35.347493Z",
     "shell.execute_reply": "2024-07-10T09:32:35.346309Z"
    },
    "papermill": {
     "duration": 0.041243,
     "end_time": "2024-07-10T09:32:35.349889",
     "exception": false,
     "start_time": "2024-07-10T09:32:35.308646",
     "status": "completed"
    },
    "tags": []
   },
   "outputs": [
    {
     "data": {
      "text/plain": [
       "array([1, 1, 0, 0, 0, 1, 1, 1, 0, 0, 0, 1, 1, 1, 1, 0, 1, 0, 1, 1, 0, 1,\n",
       "       1, 1, 0, 1, 1, 0, 0, 1, 1, 0, 1, 1, 0, 1, 0, 1, 1])"
      ]
     },
     "execution_count": 52,
     "metadata": {},
     "output_type": "execute_result"
    }
   ],
   "source": [
    "forest_pred = Random_forest.predict(x_test)\n",
    "forest_pred"
   ]
  },
  {
   "cell_type": "code",
   "execution_count": 53,
   "id": "e372283d",
   "metadata": {
    "execution": {
     "iopub.execute_input": "2024-07-10T09:32:35.401893Z",
     "iopub.status.busy": "2024-07-10T09:32:35.401030Z",
     "iopub.status.idle": "2024-07-10T09:32:35.408050Z",
     "shell.execute_reply": "2024-07-10T09:32:35.406932Z"
    },
    "papermill": {
     "duration": 0.036345,
     "end_time": "2024-07-10T09:32:35.410323",
     "exception": false,
     "start_time": "2024-07-10T09:32:35.373978",
     "status": "completed"
    },
    "tags": []
   },
   "outputs": [
    {
     "name": "stdout",
     "output_type": "stream",
     "text": [
      "Accuracy Score untuk algoritma Random Forest Adalah :  64.1025641025641 %\n"
     ]
    }
   ],
   "source": [
    "from sklearn.metrics import accuracy_score\n",
    "print('Accuracy Score untuk algoritma Random Forest Adalah : ',accuracy_score(forest_pred,y_test)*100,'%')"
   ]
  },
  {
   "cell_type": "code",
   "execution_count": 54,
   "id": "58a64030",
   "metadata": {
    "execution": {
     "iopub.execute_input": "2024-07-10T09:32:35.461088Z",
     "iopub.status.busy": "2024-07-10T09:32:35.460700Z",
     "iopub.status.idle": "2024-07-10T09:32:35.478570Z",
     "shell.execute_reply": "2024-07-10T09:32:35.477082Z"
    },
    "papermill": {
     "duration": 0.046815,
     "end_time": "2024-07-10T09:32:35.481176",
     "exception": false,
     "start_time": "2024-07-10T09:32:35.434361",
     "status": "completed"
    },
    "tags": []
   },
   "outputs": [
    {
     "name": "stdout",
     "output_type": "stream",
     "text": [
      "Accuracy: 0.6410256410256411\n",
      "Classification Report:\n",
      "              precision    recall  f1-score   support\n",
      "\n",
      "           0       0.67      0.53      0.59        19\n",
      "           1       0.62      0.75      0.68        20\n",
      "\n",
      "    accuracy                           0.64        39\n",
      "   macro avg       0.65      0.64      0.64        39\n",
      "weighted avg       0.65      0.64      0.64        39\n",
      "\n"
     ]
    }
   ],
   "source": [
    "from sklearn.metrics import classification_report, confusion_matrix\n",
    "accuracy_Random_Forest = accuracy_score(y_test, forest_pred)\n",
    "classification_rep = classification_report(y_test, forest_pred)\n",
    "\n",
    "print(f'Accuracy: {accuracy_Random_Forest}')\n",
    "print(f'Classification Report:\\n{classification_rep}')"
   ]
  },
  {
   "cell_type": "markdown",
   "id": "f3cd52f6",
   "metadata": {
    "papermill": {
     "duration": 0.024542,
     "end_time": "2024-07-10T09:32:35.530726",
     "exception": false,
     "start_time": "2024-07-10T09:32:35.506184",
     "status": "completed"
    },
    "tags": []
   },
   "source": [
    "# KESIMPULAN DARI KESELURUHAN K FOLD"
   ]
  },
  {
   "cell_type": "code",
   "execution_count": 55,
   "id": "1333bb7d",
   "metadata": {
    "execution": {
     "iopub.execute_input": "2024-07-10T09:32:35.584687Z",
     "iopub.status.busy": "2024-07-10T09:32:35.583894Z",
     "iopub.status.idle": "2024-07-10T09:32:35.592036Z",
     "shell.execute_reply": "2024-07-10T09:32:35.590661Z"
    },
    "papermill": {
     "duration": 0.039335,
     "end_time": "2024-07-10T09:32:35.595152",
     "exception": false,
     "start_time": "2024-07-10T09:32:35.555817",
     "status": "completed"
    },
    "tags": []
   },
   "outputs": [
    {
     "name": "stdout",
     "output_type": "stream",
     "text": [
      "rata rata decision tree adalah:  0.5905263157894737\n",
      "rata rata logistic regression adalah:  0.6110526315789474\n",
      "rata rata naive bayes adalah:  0.5900000000000001\n",
      "rata rata KNN adalah:  0.48684210526315785\n",
      "rata rata Linear Discriminant Analysis adalah:  0.63\n",
      "rata rata ExtraTreesClassifier adalah:  0.6215789473684211\n",
      "rata rata RandomForest nya adalah:  0.6422902494331065\n",
      "================================================================================\n"
     ]
    }
   ],
   "source": [
    "print('rata rata decision tree adalah: ',scores1.mean())\n",
    "print('rata rata logistic regression adalah: ',scores2.mean())\n",
    "print('rata rata naive bayes adalah: ',scores3.mean())\n",
    "print('rata rata KNN adalah: ',scores4.mean())\n",
    "print('rata rata Linear Discriminant Analysis adalah: ',scores5.mean())\n",
    "print('rata rata ExtraTreesClassifier adalah: ',scores6.mean())\n",
    "print('rata rata RandomForest nya adalah: ',scores7.mean())\n",
    "print('=='*40)\n"
   ]
  },
  {
   "cell_type": "markdown",
   "id": "180b8b79",
   "metadata": {
    "papermill": {
     "duration": 0.026661,
     "end_time": "2024-07-10T09:32:35.649202",
     "exception": false,
     "start_time": "2024-07-10T09:32:35.622541",
     "status": "completed"
    },
    "tags": []
   },
   "source": [
    "# KESELURUHAN DARI HASIL 7 ALGORITMA"
   ]
  },
  {
   "cell_type": "code",
   "execution_count": 56,
   "id": "cc542f47",
   "metadata": {
    "execution": {
     "iopub.execute_input": "2024-07-10T09:32:35.703174Z",
     "iopub.status.busy": "2024-07-10T09:32:35.702785Z",
     "iopub.status.idle": "2024-07-10T09:32:35.713013Z",
     "shell.execute_reply": "2024-07-10T09:32:35.711797Z"
    },
    "papermill": {
     "duration": 0.039858,
     "end_time": "2024-07-10T09:32:35.715481",
     "exception": false,
     "start_time": "2024-07-10T09:32:35.675623",
     "status": "completed"
    },
    "tags": []
   },
   "outputs": [
    {
     "name": "stdout",
     "output_type": "stream",
     "text": [
      "Accuracy Score untuk algoritma Decision Tree :  48.717948717948715 %\n",
      "Akurasi menggunkan algoritma logistic Regression adalah : 61.53846153846154 %\n",
      "Akurasi menggunakan algoritma naive bayes : 61.53846153846154 %\n",
      "akurasi untuk penggunaan algoritma KNN adalah : 48.717948717948715 %\n",
      "Akurasi untuk penggunaan algoritma Linear Discriminant Analysis: 64.1025641025641 %\n",
      "Akurasi untuk penggunaan algoritma ExtraTreesClassifier : 79.48717948717949 %\n",
      "Accuracy Score untuk algoritma Random Forest Adalah :  64.1025641025641 %\n",
      "================================================================================\n"
     ]
    }
   ],
   "source": [
    "#kesimpulan dari beberapa algoritma pengukuran yang telah dilakukan\n",
    "print('Accuracy Score untuk algoritma Decision Tree : ',accuracy_score(prediksi1,y_test)*100,'%')\n",
    "print('Akurasi menggunkan algoritma logistic Regression adalah :', (accuracylog)*100,'%')\n",
    "print(\"Akurasi menggunakan algoritma naive bayes :\", (accuracynavie)*100,'%')\n",
    "print('akurasi untuk penggunaan algoritma KNN adalah :',(accuracyknn)*100,'%')\n",
    "print(\"Akurasi untuk penggunaan algoritma Linear Discriminant Analysis:\", (accuracyLDA)*100,'%')\n",
    "print(\"Akurasi untuk penggunaan algoritma ExtraTreesClassifier :\", (accuracyETC)*100,'%')\n",
    "print('Accuracy Score untuk algoritma Random Forest Adalah : ',accuracy_score(forest_pred,y_test)*100,'%')\n",
    "print('=='*40)"
   ]
  },
  {
   "cell_type": "code",
   "execution_count": 57,
   "id": "472bdc39",
   "metadata": {
    "execution": {
     "iopub.execute_input": "2024-07-10T09:32:35.766352Z",
     "iopub.status.busy": "2024-07-10T09:32:35.765961Z",
     "iopub.status.idle": "2024-07-10T09:32:36.062013Z",
     "shell.execute_reply": "2024-07-10T09:32:36.060630Z"
    },
    "papermill": {
     "duration": 0.324137,
     "end_time": "2024-07-10T09:32:36.064432",
     "exception": false,
     "start_time": "2024-07-10T09:32:35.740295",
     "status": "completed"
    },
    "tags": []
   },
   "outputs": [
    {
     "name": "stdout",
     "output_type": "stream",
     "text": [
      "Nilai AUC Klasifikasi:  0.7947368421052632\n",
      "Nilai TPR (True Positive Rate) Klasifikasi:  [0.  0.8 1. ]\n",
      "Nilai FPR (False Positive Rate) Klasifikasi:  [0.         0.21052632 1.        ]\n",
      "Akurasi Klasifikasi:  79.48717948717949 %\n",
      "f-measure score:  0.7947368421052632\n",
      "Area dibawah Grafik ROC adalah AUC(Area Under Curve)\n"
     ]
    },
    {
     "data": {
      "image/png": "[encoded data removed]",
      "text/plain": [
       "<Figure size 640x480 with 1 Axes>"
      ]
     },
     "metadata": {},
     "output_type": "display_data"
    }
   ],
   "source": [
    "#Analisa Performa dari Klasifikasi\n",
    "fpr, tpr, thresholds = metrics.roc_curve(y_test, y_predETC, pos_label=1)\n",
    "print('Nilai AUC Klasifikasi: ', metrics.auc(fpr, tpr))\n",
    "print('Nilai TPR (True Positive Rate) Klasifikasi: ', tpr)\n",
    "print('Nilai FPR (False Positive Rate) Klasifikasi: ', fpr)\n",
    "#Analisa Akurasi dari Klasifikasi\n",
    "print('Akurasi Klasifikasi: ',metrics.accuracy_score(y_predETC,y_test)*100,'%')\n",
    "#Analisa f-measure menggunakan sklearn\n",
    "from sklearn.metrics import f1_score\n",
    "f_measure=f1_score(y_test,y_predETC,average='macro')\n",
    "print('f-measure score: ',f_measure)\n",
    "plt.plot(fpr,tpr)\n",
    "plt.title('Grafik ROC')\n",
    "plt.xlabel('FPR')\n",
    "plt.ylabel('TPR')\n",
    "print('Area dibawah Grafik ROC adalah AUC(Area Under Curve)')"
   ]
  }
 ],
 "metadata": {
  "kaggle": {
   "accelerator": "none",
   "dataSources": [
    {
     "datasetId": 5363221,
     "sourceId": 8917906,
     "sourceType": "datasetVersion"
    }
   ],
   "dockerImageVersionId": 30732,
   "isGpuEnabled": false,
   "isInternetEnabled": true,
   "language": "python",
   "sourceType": "notebook"
  },
  "kernelspec": {
   "display_name": "Python 3",
   "language": "python",
   "name": "python3"
  },
  "language_info": {
   "codemirror_mode": {
    "name": "ipython",
    "version": 3
   },
   "file_extension": ".py",
   "mimetype": "text/x-python",
   "name": "python",
   "nbconvert_exporter": "python",
   "pygments_lexer": "ipython3",
   "version": "3.10.13"
  },
  "papermill": {
   "default_parameters": {},
   "duration": 22.537647,
   "end_time": "2024-07-10T09:32:36.914606",
   "environment_variables": {},
   "exception": null,
   "input_path": "__notebook__.ipynb",
   "output_path": "__notebook__.ipynb",
   "parameters": {},
   "start_time": "2024-07-10T09:32:14.376959",
   "version": "2.5.0"
  }
 },
 "nbformat": 4,
 "nbformat_minor": 5
}
